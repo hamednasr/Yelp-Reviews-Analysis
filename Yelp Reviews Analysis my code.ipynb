{
 "cells": [
  {
   "cell_type": "markdown",
   "metadata": {},
   "source": [
    "# Yelp Reviews Analysis"
   ]
  },
  {
   "cell_type": "code",
   "execution_count": 1,
   "metadata": {},
   "outputs": [],
   "source": [
    "import pandas as pd\n",
    "import numpy as np\n",
    "import matplotlib.pyplot as plt\n",
    "import seaborn as sns"
   ]
  },
  {
   "cell_type": "code",
   "execution_count": 2,
   "metadata": {},
   "outputs": [],
   "source": [
    "yelp_data = pd.read_csv(\"yelp.csv\")"
   ]
  },
  {
   "cell_type": "code",
   "execution_count": 3,
   "metadata": {},
   "outputs": [
    {
     "data": {
      "text/html": [
       "<div>\n",
       "<style scoped>\n",
       "    .dataframe tbody tr th:only-of-type {\n",
       "        vertical-align: middle;\n",
       "    }\n",
       "\n",
       "    .dataframe tbody tr th {\n",
       "        vertical-align: top;\n",
       "    }\n",
       "\n",
       "    .dataframe thead th {\n",
       "        text-align: right;\n",
       "    }\n",
       "</style>\n",
       "<table border=\"1\" class=\"dataframe\">\n",
       "  <thead>\n",
       "    <tr style=\"text-align: right;\">\n",
       "      <th></th>\n",
       "      <th>business_id</th>\n",
       "      <th>date</th>\n",
       "      <th>review_id</th>\n",
       "      <th>stars</th>\n",
       "      <th>text</th>\n",
       "      <th>type</th>\n",
       "      <th>user_id</th>\n",
       "      <th>cool</th>\n",
       "      <th>useful</th>\n",
       "      <th>funny</th>\n",
       "    </tr>\n",
       "  </thead>\n",
       "  <tbody>\n",
       "    <tr>\n",
       "      <th>0</th>\n",
       "      <td>9yKzy9PApeiPPOUJEtnvkg</td>\n",
       "      <td>2011-01-26</td>\n",
       "      <td>fWKvX83p0-ka4JS3dc6E5A</td>\n",
       "      <td>5</td>\n",
       "      <td>My wife took me here on my birthday for breakf...</td>\n",
       "      <td>review</td>\n",
       "      <td>rLtl8ZkDX5vH5nAx9C3q5Q</td>\n",
       "      <td>2</td>\n",
       "      <td>5</td>\n",
       "      <td>0</td>\n",
       "    </tr>\n",
       "    <tr>\n",
       "      <th>1</th>\n",
       "      <td>ZRJwVLyzEJq1VAihDhYiow</td>\n",
       "      <td>2011-07-27</td>\n",
       "      <td>IjZ33sJrzXqU-0X6U8NwyA</td>\n",
       "      <td>5</td>\n",
       "      <td>I have no idea why some people give bad review...</td>\n",
       "      <td>review</td>\n",
       "      <td>0a2KyEL0d3Yb1V6aivbIuQ</td>\n",
       "      <td>0</td>\n",
       "      <td>0</td>\n",
       "      <td>0</td>\n",
       "    </tr>\n",
       "    <tr>\n",
       "      <th>2</th>\n",
       "      <td>6oRAC4uyJCsJl1X0WZpVSA</td>\n",
       "      <td>2012-06-14</td>\n",
       "      <td>IESLBzqUCLdSzSqm0eCSxQ</td>\n",
       "      <td>4</td>\n",
       "      <td>love the gyro plate. Rice is so good and I als...</td>\n",
       "      <td>review</td>\n",
       "      <td>0hT2KtfLiobPvh6cDC8JQg</td>\n",
       "      <td>0</td>\n",
       "      <td>1</td>\n",
       "      <td>0</td>\n",
       "    </tr>\n",
       "    <tr>\n",
       "      <th>3</th>\n",
       "      <td>_1QQZuf4zZOyFCvXc0o6Vg</td>\n",
       "      <td>2010-05-27</td>\n",
       "      <td>G-WvGaISbqqaMHlNnByodA</td>\n",
       "      <td>5</td>\n",
       "      <td>Rosie, Dakota, and I LOVE Chaparral Dog Park!!...</td>\n",
       "      <td>review</td>\n",
       "      <td>uZetl9T0NcROGOyFfughhg</td>\n",
       "      <td>1</td>\n",
       "      <td>2</td>\n",
       "      <td>0</td>\n",
       "    </tr>\n",
       "    <tr>\n",
       "      <th>4</th>\n",
       "      <td>6ozycU1RpktNG2-1BroVtw</td>\n",
       "      <td>2012-01-05</td>\n",
       "      <td>1uJFq2r5QfJG_6ExMRCaGw</td>\n",
       "      <td>5</td>\n",
       "      <td>General Manager Scott Petello is a good egg!!!...</td>\n",
       "      <td>review</td>\n",
       "      <td>vYmM4KTsC8ZfQBg-j5MWkw</td>\n",
       "      <td>0</td>\n",
       "      <td>0</td>\n",
       "      <td>0</td>\n",
       "    </tr>\n",
       "    <tr>\n",
       "      <th>...</th>\n",
       "      <td>...</td>\n",
       "      <td>...</td>\n",
       "      <td>...</td>\n",
       "      <td>...</td>\n",
       "      <td>...</td>\n",
       "      <td>...</td>\n",
       "      <td>...</td>\n",
       "      <td>...</td>\n",
       "      <td>...</td>\n",
       "      <td>...</td>\n",
       "    </tr>\n",
       "    <tr>\n",
       "      <th>9995</th>\n",
       "      <td>VY_tvNUCCXGXQeSvJl757Q</td>\n",
       "      <td>2012-07-28</td>\n",
       "      <td>Ubyfp2RSDYW0g7Mbr8N3iA</td>\n",
       "      <td>3</td>\n",
       "      <td>First visit...Had lunch here today - used my G...</td>\n",
       "      <td>review</td>\n",
       "      <td>_eqQoPtQ3e3UxLE4faT6ow</td>\n",
       "      <td>1</td>\n",
       "      <td>2</td>\n",
       "      <td>0</td>\n",
       "    </tr>\n",
       "    <tr>\n",
       "      <th>9996</th>\n",
       "      <td>EKzMHI1tip8rC1-ZAy64yg</td>\n",
       "      <td>2012-01-18</td>\n",
       "      <td>2XyIOQKbVFb6uXQdJ0RzlQ</td>\n",
       "      <td>4</td>\n",
       "      <td>Should be called house of deliciousness!\\n\\nI ...</td>\n",
       "      <td>review</td>\n",
       "      <td>ROru4uk5SaYc3rg8IU7SQw</td>\n",
       "      <td>0</td>\n",
       "      <td>0</td>\n",
       "      <td>0</td>\n",
       "    </tr>\n",
       "    <tr>\n",
       "      <th>9997</th>\n",
       "      <td>53YGfwmbW73JhFiemNeyzQ</td>\n",
       "      <td>2010-11-16</td>\n",
       "      <td>jyznYkIbpqVmlsZxSDSypA</td>\n",
       "      <td>4</td>\n",
       "      <td>I recently visited Olive and Ivy for business ...</td>\n",
       "      <td>review</td>\n",
       "      <td>gGbN1aKQHMgfQZkqlsuwzg</td>\n",
       "      <td>0</td>\n",
       "      <td>0</td>\n",
       "      <td>0</td>\n",
       "    </tr>\n",
       "    <tr>\n",
       "      <th>9998</th>\n",
       "      <td>9SKdOoDHcFoxK5ZtsgHJoA</td>\n",
       "      <td>2012-12-02</td>\n",
       "      <td>5UKq9WQE1qQbJ0DJbc-B6Q</td>\n",
       "      <td>2</td>\n",
       "      <td>My nephew just moved to Scottsdale recently so...</td>\n",
       "      <td>review</td>\n",
       "      <td>0lyVoNazXa20WzUyZPLaQQ</td>\n",
       "      <td>0</td>\n",
       "      <td>0</td>\n",
       "      <td>0</td>\n",
       "    </tr>\n",
       "    <tr>\n",
       "      <th>9999</th>\n",
       "      <td>pF7uRzygyZsltbmVpjIyvw</td>\n",
       "      <td>2010-10-16</td>\n",
       "      <td>vWSmOhg2ID1MNZHaWapGbA</td>\n",
       "      <td>5</td>\n",
       "      <td>4-5 locations.. all 4.5 star average.. I think...</td>\n",
       "      <td>review</td>\n",
       "      <td>KSBFytcdjPKZgXKQnYQdkA</td>\n",
       "      <td>0</td>\n",
       "      <td>0</td>\n",
       "      <td>0</td>\n",
       "    </tr>\n",
       "  </tbody>\n",
       "</table>\n",
       "<p>10000 rows × 10 columns</p>\n",
       "</div>"
      ],
      "text/plain": [
       "                 business_id        date               review_id  stars  \\\n",
       "0     9yKzy9PApeiPPOUJEtnvkg  2011-01-26  fWKvX83p0-ka4JS3dc6E5A      5   \n",
       "1     ZRJwVLyzEJq1VAihDhYiow  2011-07-27  IjZ33sJrzXqU-0X6U8NwyA      5   \n",
       "2     6oRAC4uyJCsJl1X0WZpVSA  2012-06-14  IESLBzqUCLdSzSqm0eCSxQ      4   \n",
       "3     _1QQZuf4zZOyFCvXc0o6Vg  2010-05-27  G-WvGaISbqqaMHlNnByodA      5   \n",
       "4     6ozycU1RpktNG2-1BroVtw  2012-01-05  1uJFq2r5QfJG_6ExMRCaGw      5   \n",
       "...                      ...         ...                     ...    ...   \n",
       "9995  VY_tvNUCCXGXQeSvJl757Q  2012-07-28  Ubyfp2RSDYW0g7Mbr8N3iA      3   \n",
       "9996  EKzMHI1tip8rC1-ZAy64yg  2012-01-18  2XyIOQKbVFb6uXQdJ0RzlQ      4   \n",
       "9997  53YGfwmbW73JhFiemNeyzQ  2010-11-16  jyznYkIbpqVmlsZxSDSypA      4   \n",
       "9998  9SKdOoDHcFoxK5ZtsgHJoA  2012-12-02  5UKq9WQE1qQbJ0DJbc-B6Q      2   \n",
       "9999  pF7uRzygyZsltbmVpjIyvw  2010-10-16  vWSmOhg2ID1MNZHaWapGbA      5   \n",
       "\n",
       "                                                   text    type  \\\n",
       "0     My wife took me here on my birthday for breakf...  review   \n",
       "1     I have no idea why some people give bad review...  review   \n",
       "2     love the gyro plate. Rice is so good and I als...  review   \n",
       "3     Rosie, Dakota, and I LOVE Chaparral Dog Park!!...  review   \n",
       "4     General Manager Scott Petello is a good egg!!!...  review   \n",
       "...                                                 ...     ...   \n",
       "9995  First visit...Had lunch here today - used my G...  review   \n",
       "9996  Should be called house of deliciousness!\\n\\nI ...  review   \n",
       "9997  I recently visited Olive and Ivy for business ...  review   \n",
       "9998  My nephew just moved to Scottsdale recently so...  review   \n",
       "9999  4-5 locations.. all 4.5 star average.. I think...  review   \n",
       "\n",
       "                     user_id  cool  useful  funny  \n",
       "0     rLtl8ZkDX5vH5nAx9C3q5Q     2       5      0  \n",
       "1     0a2KyEL0d3Yb1V6aivbIuQ     0       0      0  \n",
       "2     0hT2KtfLiobPvh6cDC8JQg     0       1      0  \n",
       "3     uZetl9T0NcROGOyFfughhg     1       2      0  \n",
       "4     vYmM4KTsC8ZfQBg-j5MWkw     0       0      0  \n",
       "...                      ...   ...     ...    ...  \n",
       "9995  _eqQoPtQ3e3UxLE4faT6ow     1       2      0  \n",
       "9996  ROru4uk5SaYc3rg8IU7SQw     0       0      0  \n",
       "9997  gGbN1aKQHMgfQZkqlsuwzg     0       0      0  \n",
       "9998  0lyVoNazXa20WzUyZPLaQQ     0       0      0  \n",
       "9999  KSBFytcdjPKZgXKQnYQdkA     0       0      0  \n",
       "\n",
       "[10000 rows x 10 columns]"
      ]
     },
     "execution_count": 3,
     "metadata": {},
     "output_type": "execute_result"
    }
   ],
   "source": [
    "yelp_data"
   ]
  },
  {
   "cell_type": "code",
   "execution_count": 4,
   "metadata": {},
   "outputs": [
    {
     "name": "stdout",
     "output_type": "stream",
     "text": [
      "<class 'pandas.core.frame.DataFrame'>\n",
      "RangeIndex: 10000 entries, 0 to 9999\n",
      "Data columns (total 10 columns):\n",
      " #   Column       Non-Null Count  Dtype \n",
      "---  ------       --------------  ----- \n",
      " 0   business_id  10000 non-null  object\n",
      " 1   date         10000 non-null  object\n",
      " 2   review_id    10000 non-null  object\n",
      " 3   stars        10000 non-null  int64 \n",
      " 4   text         10000 non-null  object\n",
      " 5   type         10000 non-null  object\n",
      " 6   user_id      10000 non-null  object\n",
      " 7   cool         10000 non-null  int64 \n",
      " 8   useful       10000 non-null  int64 \n",
      " 9   funny        10000 non-null  int64 \n",
      "dtypes: int64(4), object(6)\n",
      "memory usage: 781.4+ KB\n"
     ]
    }
   ],
   "source": [
    "yelp_data.info()"
   ]
  },
  {
   "cell_type": "code",
   "execution_count": 5,
   "metadata": {},
   "outputs": [
    {
     "data": {
      "text/html": [
       "<div>\n",
       "<style scoped>\n",
       "    .dataframe tbody tr th:only-of-type {\n",
       "        vertical-align: middle;\n",
       "    }\n",
       "\n",
       "    .dataframe tbody tr th {\n",
       "        vertical-align: top;\n",
       "    }\n",
       "\n",
       "    .dataframe thead th {\n",
       "        text-align: right;\n",
       "    }\n",
       "</style>\n",
       "<table border=\"1\" class=\"dataframe\">\n",
       "  <thead>\n",
       "    <tr style=\"text-align: right;\">\n",
       "      <th></th>\n",
       "      <th>stars</th>\n",
       "      <th>cool</th>\n",
       "      <th>useful</th>\n",
       "      <th>funny</th>\n",
       "    </tr>\n",
       "  </thead>\n",
       "  <tbody>\n",
       "    <tr>\n",
       "      <th>count</th>\n",
       "      <td>10000.000000</td>\n",
       "      <td>10000.000000</td>\n",
       "      <td>10000.000000</td>\n",
       "      <td>10000.000000</td>\n",
       "    </tr>\n",
       "    <tr>\n",
       "      <th>mean</th>\n",
       "      <td>3.777500</td>\n",
       "      <td>0.876800</td>\n",
       "      <td>1.409300</td>\n",
       "      <td>0.701300</td>\n",
       "    </tr>\n",
       "    <tr>\n",
       "      <th>std</th>\n",
       "      <td>1.214636</td>\n",
       "      <td>2.067861</td>\n",
       "      <td>2.336647</td>\n",
       "      <td>1.907942</td>\n",
       "    </tr>\n",
       "    <tr>\n",
       "      <th>min</th>\n",
       "      <td>1.000000</td>\n",
       "      <td>0.000000</td>\n",
       "      <td>0.000000</td>\n",
       "      <td>0.000000</td>\n",
       "    </tr>\n",
       "    <tr>\n",
       "      <th>25%</th>\n",
       "      <td>3.000000</td>\n",
       "      <td>0.000000</td>\n",
       "      <td>0.000000</td>\n",
       "      <td>0.000000</td>\n",
       "    </tr>\n",
       "    <tr>\n",
       "      <th>50%</th>\n",
       "      <td>4.000000</td>\n",
       "      <td>0.000000</td>\n",
       "      <td>1.000000</td>\n",
       "      <td>0.000000</td>\n",
       "    </tr>\n",
       "    <tr>\n",
       "      <th>75%</th>\n",
       "      <td>5.000000</td>\n",
       "      <td>1.000000</td>\n",
       "      <td>2.000000</td>\n",
       "      <td>1.000000</td>\n",
       "    </tr>\n",
       "    <tr>\n",
       "      <th>max</th>\n",
       "      <td>5.000000</td>\n",
       "      <td>77.000000</td>\n",
       "      <td>76.000000</td>\n",
       "      <td>57.000000</td>\n",
       "    </tr>\n",
       "  </tbody>\n",
       "</table>\n",
       "</div>"
      ],
      "text/plain": [
       "              stars          cool        useful         funny\n",
       "count  10000.000000  10000.000000  10000.000000  10000.000000\n",
       "mean       3.777500      0.876800      1.409300      0.701300\n",
       "std        1.214636      2.067861      2.336647      1.907942\n",
       "min        1.000000      0.000000      0.000000      0.000000\n",
       "25%        3.000000      0.000000      0.000000      0.000000\n",
       "50%        4.000000      0.000000      1.000000      0.000000\n",
       "75%        5.000000      1.000000      2.000000      1.000000\n",
       "max        5.000000     77.000000     76.000000     57.000000"
      ]
     },
     "execution_count": 5,
     "metadata": {},
     "output_type": "execute_result"
    }
   ],
   "source": [
    "yelp_data.describe()"
   ]
  },
  {
   "cell_type": "code",
   "execution_count": 30,
   "metadata": {},
   "outputs": [
    {
     "name": "stdout",
     "output_type": "stream",
     "text": [
      "\u001b[1m \"the 0th review is:\"\n",
      "\n",
      " My wife took me here on my birthday for breakfast and it was excellent.  The weather was perfect which made sitting outside overlooking their grounds an absolute pleasure.  Our waitress was excellent and our food arrived quickly on the semi-busy Saturday morning.  It looked like the place fills up pretty quickly so the earlier you get here the better.\n",
      "\n",
      "Do yourself a favor and get their Bloody Mary.  It was phenomenal and simply the best I've ever had.  I'm pretty sure they only use ingredients from their garden and blend them fresh when you order it.  It was amazing.\n",
      "\n",
      "While EVERYTHING on the menu looks excellent, I had the white truffle scrambled eggs vegetable skillet and it was tasty and delicious.  It came with 2 pieces of their griddled bread with was amazing and it absolutely made the meal complete.  It was the best \"toast\" I've ever had.\n",
      "\n",
      "Anyway, I can't wait to go back!\n",
      "\n",
      "\n",
      "\n",
      "\u001b[1m \"the 1th review is:\"\n",
      "\n",
      " I have no idea why some people give bad reviews about this place. It goes to show you, you can please everyone. They are probably griping about something that their own fault...there are many people like that.\n",
      "\n",
      "In any case, my friend and I arrived at about 5:50 PM this past Sunday. It was pretty crowded, more than I thought for a Sunday evening and thought we would have to wait forever to get a seat but they said we'll be seated when the girl comes back from seating someone else. We were seated at 5:52 and the waiter came and got our drink orders. Everyone was very pleasant from the host that seated us to the waiter to the server. The prices were very good as well. We placed our orders once we decided what we wanted at 6:02. We shared the baked spaghetti calzone and the small \"Here's The Beef\" pizza so we can both try them. The calzone was huge and we got the smallest one (personal) and got the small 11\" pizza. Both were awesome! My friend liked the pizza better and I liked the calzone better. The calzone does have a sweetish sauce but that's how I like my sauce!\n",
      "\n",
      "We had to box part of the pizza to take it home and we were out the door by 6:42. So, everything was great and not like these bad reviewers. That goes to show you that  you have to try these things yourself because all these bad reviewers have some serious issues.\n",
      "\n",
      "\n",
      "\n",
      "\u001b[1m \"the 9998th review is:\"\n",
      "\n",
      " My nephew just moved to Scottsdale recently so me and a bunch of friends brought him here to show him a local bar that he and the girlfriend could come shoot pool, watch football, play volleyball etc...well....we weren't there 5minutes and 2 kids were running around the pool tables, messing up our games and screaming. I couldn't believe the staff was allowing this to happen. They were hitting the pool sticks on everything and crying when their mom attempted (in vain) to quiet them. You'd think the mom would leave at this point with her  kids....um...no....the staff did seem annoyed as well but said nothing. Then....it happened...she said \" you guys better behave or mommy will be fired\"!! Holy shit....she works there!! Even worse! Shame on that owner for allowing this to happen. And that employee needs to recognize this...YOU WORK AT A BAR.....not a daycare....A BAR!!!\n",
      "\n",
      "\n",
      "\n",
      "\u001b[1m \"the 9999th review is:\"\n",
      "\n",
      " 4-5 locations.. all 4.5 star average.. I think Arizona really has some fantastic Pizza options, and Spinatos is at the top of my pizza fix list.. the semi sweet sauce is addictive, great service, fresh ingredients, The Spicy Italian is my favorite... The chocolate chips cookies are laced with mind altering drugs, that make your body parts\"romantic\" when you think of their cookies.. BTW 5:30pm, on a Tuesday, when we left, a 30 minute wait.. Its on the List..\n",
      "\n",
      "\n",
      "\n"
     ]
    }
   ],
   "source": [
    "for i in [0,1,9998,9999]:\n",
    "    print(f'\\033[1m the {i}th review is:\\n\\n {yelp_data[\"text\"][i]}\\n\\n\\n')"
   ]
  },
  {
   "cell_type": "code",
   "execution_count": 32,
   "metadata": {},
   "outputs": [],
   "source": [
    "yelp_data['length'] = yelp_data['text'].apply(len)"
   ]
  },
  {
   "cell_type": "code",
   "execution_count": 47,
   "metadata": {},
   "outputs": [
    {
     "data": {
      "text/html": [
       "<div>\n",
       "<style scoped>\n",
       "    .dataframe tbody tr th:only-of-type {\n",
       "        vertical-align: middle;\n",
       "    }\n",
       "\n",
       "    .dataframe tbody tr th {\n",
       "        vertical-align: top;\n",
       "    }\n",
       "\n",
       "    .dataframe thead th {\n",
       "        text-align: right;\n",
       "    }\n",
       "</style>\n",
       "<table border=\"1\" class=\"dataframe\">\n",
       "  <thead>\n",
       "    <tr style=\"text-align: right;\">\n",
       "      <th></th>\n",
       "      <th>business_id</th>\n",
       "      <th>date</th>\n",
       "      <th>review_id</th>\n",
       "      <th>stars</th>\n",
       "      <th>text</th>\n",
       "      <th>type</th>\n",
       "      <th>user_id</th>\n",
       "      <th>cool</th>\n",
       "      <th>useful</th>\n",
       "      <th>funny</th>\n",
       "      <th>length</th>\n",
       "    </tr>\n",
       "  </thead>\n",
       "  <tbody>\n",
       "    <tr>\n",
       "      <th>0</th>\n",
       "      <td>9yKzy9PApeiPPOUJEtnvkg</td>\n",
       "      <td>2011-01-26</td>\n",
       "      <td>fWKvX83p0-ka4JS3dc6E5A</td>\n",
       "      <td>5</td>\n",
       "      <td>My wife took me here on my birthday for breakf...</td>\n",
       "      <td>review</td>\n",
       "      <td>rLtl8ZkDX5vH5nAx9C3q5Q</td>\n",
       "      <td>2</td>\n",
       "      <td>5</td>\n",
       "      <td>0</td>\n",
       "      <td>889</td>\n",
       "    </tr>\n",
       "    <tr>\n",
       "      <th>1</th>\n",
       "      <td>ZRJwVLyzEJq1VAihDhYiow</td>\n",
       "      <td>2011-07-27</td>\n",
       "      <td>IjZ33sJrzXqU-0X6U8NwyA</td>\n",
       "      <td>5</td>\n",
       "      <td>I have no idea why some people give bad review...</td>\n",
       "      <td>review</td>\n",
       "      <td>0a2KyEL0d3Yb1V6aivbIuQ</td>\n",
       "      <td>0</td>\n",
       "      <td>0</td>\n",
       "      <td>0</td>\n",
       "      <td>1345</td>\n",
       "    </tr>\n",
       "    <tr>\n",
       "      <th>2</th>\n",
       "      <td>6oRAC4uyJCsJl1X0WZpVSA</td>\n",
       "      <td>2012-06-14</td>\n",
       "      <td>IESLBzqUCLdSzSqm0eCSxQ</td>\n",
       "      <td>4</td>\n",
       "      <td>love the gyro plate. Rice is so good and I als...</td>\n",
       "      <td>review</td>\n",
       "      <td>0hT2KtfLiobPvh6cDC8JQg</td>\n",
       "      <td>0</td>\n",
       "      <td>1</td>\n",
       "      <td>0</td>\n",
       "      <td>76</td>\n",
       "    </tr>\n",
       "    <tr>\n",
       "      <th>3</th>\n",
       "      <td>_1QQZuf4zZOyFCvXc0o6Vg</td>\n",
       "      <td>2010-05-27</td>\n",
       "      <td>G-WvGaISbqqaMHlNnByodA</td>\n",
       "      <td>5</td>\n",
       "      <td>Rosie, Dakota, and I LOVE Chaparral Dog Park!!...</td>\n",
       "      <td>review</td>\n",
       "      <td>uZetl9T0NcROGOyFfughhg</td>\n",
       "      <td>1</td>\n",
       "      <td>2</td>\n",
       "      <td>0</td>\n",
       "      <td>419</td>\n",
       "    </tr>\n",
       "    <tr>\n",
       "      <th>4</th>\n",
       "      <td>6ozycU1RpktNG2-1BroVtw</td>\n",
       "      <td>2012-01-05</td>\n",
       "      <td>1uJFq2r5QfJG_6ExMRCaGw</td>\n",
       "      <td>5</td>\n",
       "      <td>General Manager Scott Petello is a good egg!!!...</td>\n",
       "      <td>review</td>\n",
       "      <td>vYmM4KTsC8ZfQBg-j5MWkw</td>\n",
       "      <td>0</td>\n",
       "      <td>0</td>\n",
       "      <td>0</td>\n",
       "      <td>469</td>\n",
       "    </tr>\n",
       "    <tr>\n",
       "      <th>...</th>\n",
       "      <td>...</td>\n",
       "      <td>...</td>\n",
       "      <td>...</td>\n",
       "      <td>...</td>\n",
       "      <td>...</td>\n",
       "      <td>...</td>\n",
       "      <td>...</td>\n",
       "      <td>...</td>\n",
       "      <td>...</td>\n",
       "      <td>...</td>\n",
       "      <td>...</td>\n",
       "    </tr>\n",
       "    <tr>\n",
       "      <th>9995</th>\n",
       "      <td>VY_tvNUCCXGXQeSvJl757Q</td>\n",
       "      <td>2012-07-28</td>\n",
       "      <td>Ubyfp2RSDYW0g7Mbr8N3iA</td>\n",
       "      <td>3</td>\n",
       "      <td>First visit...Had lunch here today - used my G...</td>\n",
       "      <td>review</td>\n",
       "      <td>_eqQoPtQ3e3UxLE4faT6ow</td>\n",
       "      <td>1</td>\n",
       "      <td>2</td>\n",
       "      <td>0</td>\n",
       "      <td>668</td>\n",
       "    </tr>\n",
       "    <tr>\n",
       "      <th>9996</th>\n",
       "      <td>EKzMHI1tip8rC1-ZAy64yg</td>\n",
       "      <td>2012-01-18</td>\n",
       "      <td>2XyIOQKbVFb6uXQdJ0RzlQ</td>\n",
       "      <td>4</td>\n",
       "      <td>Should be called house of deliciousness!\\n\\nI ...</td>\n",
       "      <td>review</td>\n",
       "      <td>ROru4uk5SaYc3rg8IU7SQw</td>\n",
       "      <td>0</td>\n",
       "      <td>0</td>\n",
       "      <td>0</td>\n",
       "      <td>881</td>\n",
       "    </tr>\n",
       "    <tr>\n",
       "      <th>9997</th>\n",
       "      <td>53YGfwmbW73JhFiemNeyzQ</td>\n",
       "      <td>2010-11-16</td>\n",
       "      <td>jyznYkIbpqVmlsZxSDSypA</td>\n",
       "      <td>4</td>\n",
       "      <td>I recently visited Olive and Ivy for business ...</td>\n",
       "      <td>review</td>\n",
       "      <td>gGbN1aKQHMgfQZkqlsuwzg</td>\n",
       "      <td>0</td>\n",
       "      <td>0</td>\n",
       "      <td>0</td>\n",
       "      <td>1425</td>\n",
       "    </tr>\n",
       "    <tr>\n",
       "      <th>9998</th>\n",
       "      <td>9SKdOoDHcFoxK5ZtsgHJoA</td>\n",
       "      <td>2012-12-02</td>\n",
       "      <td>5UKq9WQE1qQbJ0DJbc-B6Q</td>\n",
       "      <td>2</td>\n",
       "      <td>My nephew just moved to Scottsdale recently so...</td>\n",
       "      <td>review</td>\n",
       "      <td>0lyVoNazXa20WzUyZPLaQQ</td>\n",
       "      <td>0</td>\n",
       "      <td>0</td>\n",
       "      <td>0</td>\n",
       "      <td>880</td>\n",
       "    </tr>\n",
       "    <tr>\n",
       "      <th>9999</th>\n",
       "      <td>pF7uRzygyZsltbmVpjIyvw</td>\n",
       "      <td>2010-10-16</td>\n",
       "      <td>vWSmOhg2ID1MNZHaWapGbA</td>\n",
       "      <td>5</td>\n",
       "      <td>4-5 locations.. all 4.5 star average.. I think...</td>\n",
       "      <td>review</td>\n",
       "      <td>KSBFytcdjPKZgXKQnYQdkA</td>\n",
       "      <td>0</td>\n",
       "      <td>0</td>\n",
       "      <td>0</td>\n",
       "      <td>461</td>\n",
       "    </tr>\n",
       "  </tbody>\n",
       "</table>\n",
       "<p>10000 rows × 11 columns</p>\n",
       "</div>"
      ],
      "text/plain": [
       "                 business_id        date               review_id  stars  \\\n",
       "0     9yKzy9PApeiPPOUJEtnvkg  2011-01-26  fWKvX83p0-ka4JS3dc6E5A      5   \n",
       "1     ZRJwVLyzEJq1VAihDhYiow  2011-07-27  IjZ33sJrzXqU-0X6U8NwyA      5   \n",
       "2     6oRAC4uyJCsJl1X0WZpVSA  2012-06-14  IESLBzqUCLdSzSqm0eCSxQ      4   \n",
       "3     _1QQZuf4zZOyFCvXc0o6Vg  2010-05-27  G-WvGaISbqqaMHlNnByodA      5   \n",
       "4     6ozycU1RpktNG2-1BroVtw  2012-01-05  1uJFq2r5QfJG_6ExMRCaGw      5   \n",
       "...                      ...         ...                     ...    ...   \n",
       "9995  VY_tvNUCCXGXQeSvJl757Q  2012-07-28  Ubyfp2RSDYW0g7Mbr8N3iA      3   \n",
       "9996  EKzMHI1tip8rC1-ZAy64yg  2012-01-18  2XyIOQKbVFb6uXQdJ0RzlQ      4   \n",
       "9997  53YGfwmbW73JhFiemNeyzQ  2010-11-16  jyznYkIbpqVmlsZxSDSypA      4   \n",
       "9998  9SKdOoDHcFoxK5ZtsgHJoA  2012-12-02  5UKq9WQE1qQbJ0DJbc-B6Q      2   \n",
       "9999  pF7uRzygyZsltbmVpjIyvw  2010-10-16  vWSmOhg2ID1MNZHaWapGbA      5   \n",
       "\n",
       "                                                   text    type  \\\n",
       "0     My wife took me here on my birthday for breakf...  review   \n",
       "1     I have no idea why some people give bad review...  review   \n",
       "2     love the gyro plate. Rice is so good and I als...  review   \n",
       "3     Rosie, Dakota, and I LOVE Chaparral Dog Park!!...  review   \n",
       "4     General Manager Scott Petello is a good egg!!!...  review   \n",
       "...                                                 ...     ...   \n",
       "9995  First visit...Had lunch here today - used my G...  review   \n",
       "9996  Should be called house of deliciousness!\\n\\nI ...  review   \n",
       "9997  I recently visited Olive and Ivy for business ...  review   \n",
       "9998  My nephew just moved to Scottsdale recently so...  review   \n",
       "9999  4-5 locations.. all 4.5 star average.. I think...  review   \n",
       "\n",
       "                     user_id  cool  useful  funny  length  \n",
       "0     rLtl8ZkDX5vH5nAx9C3q5Q     2       5      0     889  \n",
       "1     0a2KyEL0d3Yb1V6aivbIuQ     0       0      0    1345  \n",
       "2     0hT2KtfLiobPvh6cDC8JQg     0       1      0      76  \n",
       "3     uZetl9T0NcROGOyFfughhg     1       2      0     419  \n",
       "4     vYmM4KTsC8ZfQBg-j5MWkw     0       0      0     469  \n",
       "...                      ...   ...     ...    ...     ...  \n",
       "9995  _eqQoPtQ3e3UxLE4faT6ow     1       2      0     668  \n",
       "9996  ROru4uk5SaYc3rg8IU7SQw     0       0      0     881  \n",
       "9997  gGbN1aKQHMgfQZkqlsuwzg     0       0      0    1425  \n",
       "9998  0lyVoNazXa20WzUyZPLaQQ     0       0      0     880  \n",
       "9999  KSBFytcdjPKZgXKQnYQdkA     0       0      0     461  \n",
       "\n",
       "[10000 rows x 11 columns]"
      ]
     },
     "execution_count": 47,
     "metadata": {},
     "output_type": "execute_result"
    }
   ],
   "source": [
    "yelp_data"
   ]
  },
  {
   "cell_type": "code",
   "execution_count": 56,
   "metadata": {},
   "outputs": [
    {
     "data": {
      "image/png": "[encoded data removed]",
      "text/plain": [
       "<Figure size 432x288 with 1 Axes>"
      ]
     },
     "metadata": {
      "needs_background": "light"
     },
     "output_type": "display_data"
    }
   ],
   "source": [
    "yelp_data['length'].plot(kind = 'hist',bins=60);"
   ]
  },
  {
   "cell_type": "code",
   "execution_count": 58,
   "metadata": {},
   "outputs": [
    {
     "data": {
      "text/plain": [
       "count    10000.000000\n",
       "mean       710.738700\n",
       "std        617.399827\n",
       "min          1.000000\n",
       "25%        294.000000\n",
       "50%        541.500000\n",
       "75%        930.000000\n",
       "max       4997.000000\n",
       "Name: length, dtype: float64"
      ]
     },
     "execution_count": 58,
     "metadata": {},
     "output_type": "execute_result"
    }
   ],
   "source": [
    "yelp_data['length'].describe()"
   ]
  },
  {
   "cell_type": "code",
   "execution_count": 65,
   "metadata": {},
   "outputs": [
    {
     "data": {
      "text/plain": [
       "'In our continuing quest to identify cool, locally owned places to eat and/or drink, Caroline and I auditioned Vintage 95 last night. \\n\\nBefore I go further, understand that whenever I go out for eats or drinks, I have  in  mind a Platonic Ideal of the Bar/Pub/Eatery I most want to frequent. I\\'m on a constant quest to find that  Ideal expressed in Real Life. \\n\\nVintage 95 isn\\'t quite there, but it\\'s damn close. If I ever give something Five Stars, you\\'ll know it has pegged my Platonic Ideal. Anyway...\\n\\nThe plan last night was for drinks. No plans for food, just Adult Beverages and warm conversation. But it turned into more.\\n\\nThe location in downtown Chandler is terrific for us. The owners have created a very fine visual experience - leather, stone, dark woods, good lighting. And they don\\'t have the music turned up so loud that you CANNOT HAVE A CONVERSATION. This is one of my pet peeves. If I want to stare at people move their mouths while enduring an aural assault, I\\'ll stand on the deck of an aircraft carrier. When I go out with friends, I want to enjoy their company AND their conversation. Is that concept so difficult to grasp? [/rant off]\\n\\nThe atmosphere at Vintage 95 is very close to my Ideal. I\\'d go back just to sit on the leather couches in front of the fireplace, and then go back another time to sit on the leather stools at the bar, and then go back about fourteen more times to sit out on the patio. Seriously - go check out the patio. It is EXACTLY what a Patio Hangout Bar should be. EXACTLY.\\n\\nCaroline and I told the hostesses we were only there for drinks, so we were seated in the bar area in some fabulous leather club chairs. It wasn\\'t initmate, but we weren\\'t looking for intimate. And speaking of the bar, even though V95 advertises itself as a wine bar, they DO have booze. I\\'m not much of a wine drinker and was very pleased to see that they carried a pretty good selection of single malt scotches. Not an overwhelming selection, but well beyond the normal Glenfiddich /Glenlivit /GlenMorangie trio to which most places are limited. I had a couple of drums of Ardbeg, which is one of my new favorites and very reasonably priced at retail. (Scotch is never reasonably priced in restaurants, but I was celebrating so I didn\\'t care.) Caroline had her normal \"vodka martini extra dirty extra cold\" which she judged to have \"perfect dirtiness\", (no wonder I love her!), perfect amount of olives and very cold. \\n\\nThe limited Happy Hour menu had some very interesting choices. We settled on the bruschetta and the smoked tomato bisque. The bruschetta was VERY nice and quite unusual. You get to select four of eight choices for your bruschetta platter; we picked: (1) white bean and pancetta, (2) gravlax, caper goat cheese and pickled onions, (3) fig chutney, ricotta and prosciutto, (4) brie, pear and onion jam. They were all served cold, in nice sized portions and the flavors were all nicely balanced and very interesting. Caroline would have preferred the bread to not be so crispy, but I really liked it. The tomato bisque  was creamy, smoky and had well-balanced flavor. Caroline said it was unique and I say it was just darn delicious. \\n\\nThings being as they are, drinks and appetizers turned into food. A friend had told us \"you have to try the Vintage burger\", so we did. It came served with a mixture of regular and sweet potato fries, all nicely cooked and nicely seasoned. Recommended. The burger was VERY tasty. They obviously use good beef, the bun was fresh, the fixin\\'s were tasty. HIGHLY recommended.\\n\\nIn for a dime, in for a dollar, right? So we ordered dessert. Again, the dessert menu is short, but I\\'m okay with that as long as they do it well. Chocolate torte with hazelnut gelato, apple pie with carmel sauce and creme fraiche gelato, and something else we couldn\\'t remember. I\\'m allergic to hazelnut and don\\'t like sweet desserts, so we decided to try the apple pie.\\n\\nLike everything else we had sampled, the apple pie was unusual - you wouldn\\'t find it anywhere else. It was served on a freshly baked puff pastry, cubed apples served on top and inside - tender but not mushy -  with lots of cinnamon and sugar, plate was swirled with salted dolce la leche. It was tasty, but instead of the expected creme fraiche gelato, we were served hazelnut gelato. I didn\\'t realize it was hazelnut until I\\'d had a couple of bites and my throat started to swell up.\\n\\nAt this point that the night could have turned into a disaster, but to their credit - it didn\\'t. We told the waiter who told the manager, (Gavin - one of the owners), who immediately came and asked if I needed emergency assistance. I didn\\'t, I\\'m not THAT allergic.)  Frankly, their response was EXACTLY the kind of customer service you want to see. Anyone can make a mistake, so no harm, no foul. But I must give BIG Kudos to Gavin for his kindness, attention to detail and outstanding customer service.\\n\\nWe will DEFINTELY be back and I strongly recommend you put it on your list too.'"
      ]
     },
     "execution_count": 65,
     "metadata": {},
     "output_type": "execute_result"
    }
   ],
   "source": [
    "yelp_data['text'][yelp_data['length'].argmax()]"
   ]
  },
  {
   "cell_type": "code",
   "execution_count": 76,
   "metadata": {},
   "outputs": [
    {
     "data": {
      "text/plain": [
       "'X'"
      ]
     },
     "execution_count": 76,
     "metadata": {},
     "output_type": "execute_result"
    }
   ],
   "source": [
    "yelp_data['text'][yelp_data['length'].argmin()]"
   ]
  },
  {
   "cell_type": "code",
   "execution_count": 86,
   "metadata": {},
   "outputs": [
    {
     "data": {
      "text/plain": [
       "138     I'm from Chicago so I'm picky with my pizza--t...\n",
       "5322    We went there for dinner in April 2011. The di...\n",
       "5585    This joins my long list of places that I reall...\n",
       "6227    The first time we tried this place, it was Sat...\n",
       "Name: text, dtype: object"
      ]
     },
     "execution_count": 86,
     "metadata": {},
     "output_type": "execute_result"
    }
   ],
   "source": [
    "yelp_data['text'][yelp_data['length'] == 711]"
   ]
  },
  {
   "cell_type": "code",
   "execution_count": 90,
   "metadata": {},
   "outputs": [
    {
     "data": {
      "text/html": [
       "<div>\n",
       "<style scoped>\n",
       "    .dataframe tbody tr th:only-of-type {\n",
       "        vertical-align: middle;\n",
       "    }\n",
       "\n",
       "    .dataframe tbody tr th {\n",
       "        vertical-align: top;\n",
       "    }\n",
       "\n",
       "    .dataframe thead tr th {\n",
       "        text-align: left;\n",
       "    }\n",
       "\n",
       "    .dataframe thead tr:last-of-type th {\n",
       "        text-align: right;\n",
       "    }\n",
       "</style>\n",
       "<table border=\"1\" class=\"dataframe\">\n",
       "  <thead>\n",
       "    <tr>\n",
       "      <th></th>\n",
       "      <th colspan=\"8\" halign=\"left\">cool</th>\n",
       "      <th colspan=\"2\" halign=\"left\">useful</th>\n",
       "      <th>...</th>\n",
       "      <th colspan=\"2\" halign=\"left\">funny</th>\n",
       "      <th colspan=\"8\" halign=\"left\">length</th>\n",
       "    </tr>\n",
       "    <tr>\n",
       "      <th></th>\n",
       "      <th>count</th>\n",
       "      <th>mean</th>\n",
       "      <th>std</th>\n",
       "      <th>min</th>\n",
       "      <th>25%</th>\n",
       "      <th>50%</th>\n",
       "      <th>75%</th>\n",
       "      <th>max</th>\n",
       "      <th>count</th>\n",
       "      <th>mean</th>\n",
       "      <th>...</th>\n",
       "      <th>75%</th>\n",
       "      <th>max</th>\n",
       "      <th>count</th>\n",
       "      <th>mean</th>\n",
       "      <th>std</th>\n",
       "      <th>min</th>\n",
       "      <th>25%</th>\n",
       "      <th>50%</th>\n",
       "      <th>75%</th>\n",
       "      <th>max</th>\n",
       "    </tr>\n",
       "    <tr>\n",
       "      <th>stars</th>\n",
       "      <th></th>\n",
       "      <th></th>\n",
       "      <th></th>\n",
       "      <th></th>\n",
       "      <th></th>\n",
       "      <th></th>\n",
       "      <th></th>\n",
       "      <th></th>\n",
       "      <th></th>\n",
       "      <th></th>\n",
       "      <th></th>\n",
       "      <th></th>\n",
       "      <th></th>\n",
       "      <th></th>\n",
       "      <th></th>\n",
       "      <th></th>\n",
       "      <th></th>\n",
       "      <th></th>\n",
       "      <th></th>\n",
       "      <th></th>\n",
       "      <th></th>\n",
       "    </tr>\n",
       "  </thead>\n",
       "  <tbody>\n",
       "    <tr>\n",
       "      <th>1</th>\n",
       "      <td>749.0</td>\n",
       "      <td>0.576769</td>\n",
       "      <td>1.474759</td>\n",
       "      <td>0.0</td>\n",
       "      <td>0.0</td>\n",
       "      <td>0.0</td>\n",
       "      <td>1.0</td>\n",
       "      <td>17.0</td>\n",
       "      <td>749.0</td>\n",
       "      <td>1.604806</td>\n",
       "      <td>...</td>\n",
       "      <td>1.0</td>\n",
       "      <td>30.0</td>\n",
       "      <td>749.0</td>\n",
       "      <td>826.515354</td>\n",
       "      <td>742.929304</td>\n",
       "      <td>11.0</td>\n",
       "      <td>315.0</td>\n",
       "      <td>600.0</td>\n",
       "      <td>1075.00</td>\n",
       "      <td>4618.0</td>\n",
       "    </tr>\n",
       "    <tr>\n",
       "      <th>2</th>\n",
       "      <td>927.0</td>\n",
       "      <td>0.719525</td>\n",
       "      <td>1.491182</td>\n",
       "      <td>0.0</td>\n",
       "      <td>0.0</td>\n",
       "      <td>0.0</td>\n",
       "      <td>1.0</td>\n",
       "      <td>14.0</td>\n",
       "      <td>927.0</td>\n",
       "      <td>1.563107</td>\n",
       "      <td>...</td>\n",
       "      <td>1.0</td>\n",
       "      <td>20.0</td>\n",
       "      <td>927.0</td>\n",
       "      <td>842.256742</td>\n",
       "      <td>704.079491</td>\n",
       "      <td>7.0</td>\n",
       "      <td>365.5</td>\n",
       "      <td>656.0</td>\n",
       "      <td>1105.00</td>\n",
       "      <td>4972.0</td>\n",
       "    </tr>\n",
       "    <tr>\n",
       "      <th>3</th>\n",
       "      <td>1461.0</td>\n",
       "      <td>0.788501</td>\n",
       "      <td>1.602576</td>\n",
       "      <td>0.0</td>\n",
       "      <td>0.0</td>\n",
       "      <td>0.0</td>\n",
       "      <td>1.0</td>\n",
       "      <td>18.0</td>\n",
       "      <td>1461.0</td>\n",
       "      <td>1.306639</td>\n",
       "      <td>...</td>\n",
       "      <td>1.0</td>\n",
       "      <td>24.0</td>\n",
       "      <td>1461.0</td>\n",
       "      <td>758.498289</td>\n",
       "      <td>627.594294</td>\n",
       "      <td>1.0</td>\n",
       "      <td>342.0</td>\n",
       "      <td>599.0</td>\n",
       "      <td>975.00</td>\n",
       "      <td>4975.0</td>\n",
       "    </tr>\n",
       "    <tr>\n",
       "      <th>4</th>\n",
       "      <td>3526.0</td>\n",
       "      <td>0.954623</td>\n",
       "      <td>2.034367</td>\n",
       "      <td>0.0</td>\n",
       "      <td>0.0</td>\n",
       "      <td>0.0</td>\n",
       "      <td>1.0</td>\n",
       "      <td>38.0</td>\n",
       "      <td>3526.0</td>\n",
       "      <td>1.395916</td>\n",
       "      <td>...</td>\n",
       "      <td>1.0</td>\n",
       "      <td>57.0</td>\n",
       "      <td>3526.0</td>\n",
       "      <td>712.923142</td>\n",
       "      <td>600.158476</td>\n",
       "      <td>2.0</td>\n",
       "      <td>307.0</td>\n",
       "      <td>551.5</td>\n",
       "      <td>945.75</td>\n",
       "      <td>4997.0</td>\n",
       "    </tr>\n",
       "    <tr>\n",
       "      <th>5</th>\n",
       "      <td>3337.0</td>\n",
       "      <td>0.944261</td>\n",
       "      <td>2.484583</td>\n",
       "      <td>0.0</td>\n",
       "      <td>0.0</td>\n",
       "      <td>0.0</td>\n",
       "      <td>1.0</td>\n",
       "      <td>77.0</td>\n",
       "      <td>3337.0</td>\n",
       "      <td>1.381780</td>\n",
       "      <td>...</td>\n",
       "      <td>1.0</td>\n",
       "      <td>39.0</td>\n",
       "      <td>3337.0</td>\n",
       "      <td>624.999101</td>\n",
       "      <td>558.578229</td>\n",
       "      <td>6.0</td>\n",
       "      <td>243.0</td>\n",
       "      <td>471.0</td>\n",
       "      <td>826.00</td>\n",
       "      <td>4986.0</td>\n",
       "    </tr>\n",
       "  </tbody>\n",
       "</table>\n",
       "<p>5 rows × 32 columns</p>\n",
       "</div>"
      ],
      "text/plain": [
       "         cool                                                useful            \\\n",
       "        count      mean       std  min  25%  50%  75%   max   count      mean   \n",
       "stars                                                                           \n",
       "1       749.0  0.576769  1.474759  0.0  0.0  0.0  1.0  17.0   749.0  1.604806   \n",
       "2       927.0  0.719525  1.491182  0.0  0.0  0.0  1.0  14.0   927.0  1.563107   \n",
       "3      1461.0  0.788501  1.602576  0.0  0.0  0.0  1.0  18.0  1461.0  1.306639   \n",
       "4      3526.0  0.954623  2.034367  0.0  0.0  0.0  1.0  38.0  3526.0  1.395916   \n",
       "5      3337.0  0.944261  2.484583  0.0  0.0  0.0  1.0  77.0  3337.0  1.381780   \n",
       "\n",
       "       ... funny        length                                              \\\n",
       "       ...   75%   max   count        mean         std   min    25%    50%   \n",
       "stars  ...                                                                   \n",
       "1      ...   1.0  30.0   749.0  826.515354  742.929304  11.0  315.0  600.0   \n",
       "2      ...   1.0  20.0   927.0  842.256742  704.079491   7.0  365.5  656.0   \n",
       "3      ...   1.0  24.0  1461.0  758.498289  627.594294   1.0  342.0  599.0   \n",
       "4      ...   1.0  57.0  3526.0  712.923142  600.158476   2.0  307.0  551.5   \n",
       "5      ...   1.0  39.0  3337.0  624.999101  558.578229   6.0  243.0  471.0   \n",
       "\n",
       "                        \n",
       "           75%     max  \n",
       "stars                   \n",
       "1      1075.00  4618.0  \n",
       "2      1105.00  4972.0  \n",
       "3       975.00  4975.0  \n",
       "4       945.75  4997.0  \n",
       "5       826.00  4986.0  \n",
       "\n",
       "[5 rows x 32 columns]"
      ]
     },
     "execution_count": 90,
     "metadata": {},
     "output_type": "execute_result"
    }
   ],
   "source": [
    "yelp_data.groupby('stars').describe()"
   ]
  },
  {
   "cell_type": "code",
   "execution_count": 100,
   "metadata": {},
   "outputs": [
    {
     "name": "stderr",
     "output_type": "stream",
     "text": [
      "C:\\Users\\david\\Anaconda3\\lib\\site-packages\\seaborn\\_decorators.py:43: FutureWarning: Pass the following variable as a keyword arg: x. From version 0.12, the only valid positional argument will be `data`, and passing other arguments without an explicit keyword will result in an error or misinterpretation.\n",
      "  FutureWarning\n"
     ]
    },
    {
     "data": {
      "image/png": "[encoded data removed]",
      "text/plain": [
       "<Figure size 432x288 with 1 Axes>"
      ]
     },
     "metadata": {
      "needs_background": "light"
     },
     "output_type": "display_data"
    }
   ],
   "source": [
    "sns.countplot(yelp_data['stars']);"
   ]
  },
  {
   "cell_type": "code",
   "execution_count": 108,
   "metadata": {},
   "outputs": [
    {
     "data": {
      "text/plain": [
       "<AxesSubplot:ylabel='Frequency'>"
      ]
     },
     "execution_count": 108,
     "metadata": {},
     "output_type": "execute_result"
    },
    {
     "data": {
      "image/png": "[encoded data removed]",
      "text/plain": [
       "<Figure size 432x288 with 1 Axes>"
      ]
     },
     "metadata": {
      "needs_background": "light"
     },
     "output_type": "display_data"
    }
   ],
   "source": [
    "yelp_data[yelp_data['stars']==1]['length'].plot(kind= 'hist',bins=50)"
   ]
  },
  {
   "cell_type": "code",
   "execution_count": 109,
   "metadata": {},
   "outputs": [
    {
     "data": {
      "text/plain": [
       "<AxesSubplot:ylabel='Frequency'>"
      ]
     },
     "execution_count": 109,
     "metadata": {},
     "output_type": "execute_result"
    },
    {
     "data": {
      "image/png": "[encoded data removed]",
      "text/plain": [
       "<Figure size 432x288 with 1 Axes>"
      ]
     },
     "metadata": {
      "needs_background": "light"
     },
     "output_type": "display_data"
    }
   ],
   "source": [
    "yelp_data[yelp_data['stars']==2]['length'].plot(kind= 'hist',bins=50)"
   ]
  },
  {
   "cell_type": "code",
   "execution_count": 110,
   "metadata": {},
   "outputs": [
    {
     "data": {
      "text/plain": [
       "<AxesSubplot:ylabel='Frequency'>"
      ]
     },
     "execution_count": 110,
     "metadata": {},
     "output_type": "execute_result"
    },
    {
     "data": {
      "image/png": "[encoded data removed]",
      "text/plain": [
       "<Figure size 432x288 with 1 Axes>"
      ]
     },
     "metadata": {
      "needs_background": "light"
     },
     "output_type": "display_data"
    }
   ],
   "source": [
    "yelp_data[yelp_data['stars']==3]['length'].plot(kind= 'hist',bins=50)"
   ]
  },
  {
   "cell_type": "code",
   "execution_count": 111,
   "metadata": {},
   "outputs": [
    {
     "data": {
      "text/plain": [
       "<AxesSubplot:ylabel='Frequency'>"
      ]
     },
     "execution_count": 111,
     "metadata": {},
     "output_type": "execute_result"
    },
    {
     "data": {
      "image/png": "[encoded data removed]",
      "text/plain": [
       "<Figure size 432x288 with 1 Axes>"
      ]
     },
     "metadata": {
      "needs_background": "light"
     },
     "output_type": "display_data"
    }
   ],
   "source": [
    "yelp_data[yelp_data['stars']==4]['length'].plot(kind= 'hist',bins=50)"
   ]
  },
  {
   "cell_type": "code",
   "execution_count": 112,
   "metadata": {},
   "outputs": [
    {
     "data": {
      "text/plain": [
       "<AxesSubplot:ylabel='Frequency'>"
      ]
     },
     "execution_count": 112,
     "metadata": {},
     "output_type": "execute_result"
    },
    {
     "data": {
      "image/png": "[encoded data removed]",
      "text/plain": [
       "<Figure size 432x288 with 1 Axes>"
      ]
     },
     "metadata": {
      "needs_background": "light"
     },
     "output_type": "display_data"
    }
   ],
   "source": [
    "yelp_data[yelp_data['stars']==5]['length'].plot(kind= 'hist',bins=50)"
   ]
  },
  {
   "cell_type": "code",
   "execution_count": 116,
   "metadata": {},
   "outputs": [
    {
     "data": {
      "text/plain": [
       "<seaborn.axisgrid.FacetGrid at 0x1d05b6d8ac8>"
      ]
     },
     "execution_count": 116,
     "metadata": {},
     "output_type": "execute_result"
    },
    {
     "data": {
      "image/png": "[encoded data removed]",
      "text/plain": [
       "<Figure size 1080x216 with 5 Axes>"
      ]
     },
     "metadata": {
      "needs_background": "light"
     },
     "output_type": "display_data"
    }
   ],
   "source": [
    "grid = sns.FacetGrid(data=yelp_data, col='stars')\n",
    "grid.map(plt.hist, 'length', bins=50 ,color = 'g')"
   ]
  },
  {
   "cell_type": "code",
   "execution_count": 132,
   "metadata": {},
   "outputs": [
    {
     "name": "stderr",
     "output_type": "stream",
     "text": [
      "[nltk_data] Downloading package stopwords to\n",
      "[nltk_data]     C:\\Users\\david\\AppData\\Roaming\\nltk_data...\n",
      "[nltk_data]   Unzipping corpora\\stopwords.zip.\n"
     ]
    }
   ],
   "source": [
    "import nltk\n",
    "nltk.download('stopwords')\n",
    "from nltk.corpus import stopwords"
   ]
  },
  {
   "cell_type": "code",
   "execution_count": 179,
   "metadata": {},
   "outputs": [
    {
     "name": "stdout",
     "output_type": "stream",
     "text": [
      "['i', 'me', 'my', 'myself', 'we', 'our', 'ours', 'ourselves', 'you', \"you're\", \"you've\", \"you'll\", \"you'd\", 'your', 'yours', 'yourself', 'yourselves', 'he', 'him', 'his', 'himself', 'she', \"she's\", 'her', 'hers', 'herself', 'it', \"it's\", 'its', 'itself', 'they', 'them', 'their', 'theirs', 'themselves', 'what', 'which', 'who', 'whom', 'this', 'that', \"that'll\", 'these', 'those', 'am', 'is', 'are', 'was', 'were', 'be', 'been', 'being', 'have', 'has', 'had', 'having', 'do', 'does', 'did', 'doing', 'a', 'an', 'the', 'and', 'but', 'if', 'or', 'because', 'as', 'until', 'while', 'of', 'at', 'by', 'for', 'with', 'about', 'against', 'between', 'into', 'through', 'during', 'before', 'after', 'above', 'below', 'to', 'from', 'up', 'down', 'in', 'out', 'on', 'off', 'over', 'under', 'again', 'further', 'then', 'once', 'here', 'there', 'when', 'where', 'why', 'how', 'all', 'any', 'both', 'each', 'few', 'more', 'most', 'other', 'some', 'such', 'no', 'nor', 'not', 'only', 'own', 'same', 'so', 'than', 'too', 'very', 's', 't', 'can', 'will', 'just', 'don', \"don't\", 'should', \"should've\", 'now', 'd', 'll', 'm', 'o', 're', 've', 'y', 'ain', 'aren', \"aren't\", 'couldn', \"couldn't\", 'didn', \"didn't\", 'doesn', \"doesn't\", 'hadn', \"hadn't\", 'hasn', \"hasn't\", 'haven', \"haven't\", 'isn', \"isn't\", 'ma', 'mightn', \"mightn't\", 'mustn', \"mustn't\", 'needn', \"needn't\", 'shan', \"shan't\", 'shouldn', \"shouldn't\", 'wasn', \"wasn't\", 'weren', \"weren't\", 'won', \"won't\", 'wouldn', \"wouldn't\"]\n"
     ]
    }
   ],
   "source": [
    "print(stopwords.words('english'))"
   ]
  },
  {
   "cell_type": "code",
   "execution_count": 149,
   "metadata": {},
   "outputs": [
    {
     "data": {
      "text/plain": [
       "'!\"#$%&\\'()*+,-./:;<=>?@[\\\\]^_`{|}~'"
      ]
     },
     "execution_count": 149,
     "metadata": {},
     "output_type": "execute_result"
    }
   ],
   "source": [
    "import string\n",
    "string.punctuation"
   ]
  },
  {
   "cell_type": "code",
   "execution_count": 160,
   "metadata": {},
   "outputs": [],
   "source": [
    "sample_sent = 'I am not your doctor!! please understand it!!?'"
   ]
  },
  {
   "cell_type": "code",
   "execution_count": 162,
   "metadata": {},
   "outputs": [
    {
     "data": {
      "text/plain": [
       "'I am not your doctor please understand it'"
      ]
     },
     "execution_count": 162,
     "metadata": {},
     "output_type": "execute_result"
    }
   ],
   "source": [
    "without_punc = ''.join([char for char in sample_sent if char not in string.punctuation])\n",
    "without_punc"
   ]
  },
  {
   "cell_type": "code",
   "execution_count": 157,
   "metadata": {},
   "outputs": [
    {
     "data": {
      "text/plain": [
       "['I', 'am', 'not', 'your', 'doctor', 'please', 'understand', 'it']"
      ]
     },
     "execution_count": 157,
     "metadata": {},
     "output_type": "execute_result"
    }
   ],
   "source": [
    "without_punc.split()"
   ]
  },
  {
   "cell_type": "code",
   "execution_count": 159,
   "metadata": {},
   "outputs": [
    {
     "data": {
      "text/plain": [
       "'I doctor please understand'"
      ]
     },
     "execution_count": 159,
     "metadata": {},
     "output_type": "execute_result"
    }
   ],
   "source": [
    "without_stopw = ' '.join([word for word in without_punc.split() if word not in stopwords.words('english')])\n",
    "without_stopw\n"
   ]
  },
  {
   "cell_type": "code",
   "execution_count": 183,
   "metadata": {},
   "outputs": [],
   "source": [
    "def clean_text(text):\n",
    "    without_punc = ''.join([char for char in text if char not in string.punctuation])\n",
    "    without_stopw = ' '.join([word for word in without_punc.split() if word.lower() not in stopwords.words('english')])\n",
    "    return without_stopw.split()\n",
    "                                                                                                   "
   ]
  },
  {
   "cell_type": "code",
   "execution_count": 184,
   "metadata": {},
   "outputs": [
    {
     "data": {
      "text/plain": [
       "\"Everything was nice. The ice cream was delicious, no overwhelming alcohol taste & an interesting variety of flavors. Service was fine, place was clean. I'll go back, but only because I have a killer sweet tooth and they're in the neighborhood.\""
      ]
     },
     "execution_count": 184,
     "metadata": {},
     "output_type": "execute_result"
    }
   ],
   "source": [
    "yelp_data[yelp_data['stars']==3]['text'][45]"
   ]
  },
  {
   "cell_type": "code",
   "execution_count": 186,
   "metadata": {},
   "outputs": [
    {
     "name": "stdout",
     "output_type": "stream",
     "text": [
      "['Everything', 'nice', 'ice', 'cream', 'delicious', 'overwhelming', 'alcohol', 'taste', 'interesting', 'variety', 'flavors', 'Service', 'fine', 'place', 'clean', 'Ill', 'go', 'back', 'killer', 'sweet', 'tooth', 'theyre', 'neighborhood']\n"
     ]
    }
   ],
   "source": [
    "print(clean_text(yelp_data[yelp_data['stars']==3]['text'][45]))"
   ]
  },
  {
   "cell_type": "code",
   "execution_count": 187,
   "metadata": {},
   "outputs": [],
   "source": [
    "from sklearn.feature_extraction.text import CountVectorizer"
   ]
  },
  {
   "cell_type": "code",
   "execution_count": 189,
   "metadata": {},
   "outputs": [],
   "source": [
    "vectorizer = CountVectorizer(analyzer=clean_text)"
   ]
  },
  {
   "cell_type": "code",
   "execution_count": 190,
   "metadata": {},
   "outputs": [],
   "source": [
    "yelp_vectorizer =  vectorizer.fit_transform(yelp_data[yelp_data['stars']==3]['text'])"
   ]
  },
  {
   "cell_type": "code",
   "execution_count": 194,
   "metadata": {},
   "outputs": [
    {
     "name": "stdout",
     "output_type": "stream",
     "text": [
      "['0', '01', '039oz', '04052012', '05', '072511', '075', '099', '1', '10', '100', '1000', '100000', '1002', '100s', '100yearold', '101', '1012', '1012glass', '1015', '102729', '1030', '1030330', '104', '105', '1050', '108', '10cocktail', '10for', '10ish', '10pm', '10pm2am', '10x', '11', '110', '1100', '110th', '1115', '1130', '114', '115', '1150', '1183', '1195', '11AM', '11am', '12', '120', '1200', '1210', '1223', '1230', '1252', '12and', '12lb', '12th', '13', '130', '130PM', '1324hrs', '135', '1394', '13lb', '13th', '14', '140', '1400', '14000', '1495', '15', '150', '1500', '1520', '1598', '15L', '15each', '15min', '15mins', '15yrold', '16', '1600', '16th', '17', '170', '17696', '179', '18', '180', '1820', '19', '1913', '195', '1950s', '1962', '1970s', '199', '1992', '1999', '19th', '1B', '1PM', '1Smashburger', '1am', '1pm', '1st', '1star', '2', '20', '200', '2000', '2003', '2006', '2009', '2010', '20110530', '202', '2030', '205', '20Camelback', '20s', '21', '215', '22', '225', '23', '230', '24', '240', '24hours', '24hr', '24th', '25', '250', '250night', '2550', '25oz', '26', '260', '27', '275', '275The', '2775', '28', '28an', '29', '2939', '2AM', '2am', '2nd', '2seat', '2x', '2year', '3', '30', '300', '3000', '3045', '30L', '30mins', '30s', '30something', '32', '324', '325', '32nd', '32oz', '33', '330', '330am', '34', '341', '34ths', '35', '350', '3500', '359', '35th', '36', '37', '375', '38', '3L', '3Star', '3am', '3d', '3liter', '3rd', '3s', '3star', '3stars', '4', '40', '400', '4000', '40000', '40s', '40th', '40yearold', '413', '415', '430', '43rd', '44', '44th', '45', '450', '45minute', '46', '47', '475', '480', '48th', '49ers', '4F', '4p', '4peaks', '4pm', '4seat', '4star', '4th', '4top', '4x', '5', '50', '500', '500000', '5012', '5050', '507', '50s', '50x', '51', '510', '515am', '515pm', '52', '53', '530', '530PM', '530p', '530pm', '54', '545', '55', '550', '555', '56', '56ths', '575', '599', '5AM', '5Diner', '5GBF', '5XX', '5dollar', '5glass', '5ish', '5k', '5minute', '5oz', '5pm', '5pm10pm', '5stars', '5th', '6', '60', '600', '60007000', '60F', '60s', '612', '62', '625', '630', '630PM', '630pm', '645', '645am', '64oz', '65', '6580', '66', '67', '675', '68', '6pm', '6th', '7', '70', '700', '70s', '70second', '70yearold', '710', '725', '73', '730', '730pm', '745', '746', '75', '750', '772012', '795', '799', '7AM', '7PM', '7am', '7minute', '7p', '7pm', '7th', '8', '80', '80120', '80F', '80s', '810', '815', '84', '85', '850', '859', '899', '8drink', '8ish', '8month', '8oz', '8pm', '8th', '8x10s', '9', '90', '900', '90210', '90s', '910pm', '91st', '930', '95', '96year', '975', '98', '99', '999', '9ers', '9ish', '9pm', '9pm1am', '9th', 'A1', 'AA', 'AAA', 'AC', 'ACTUALLY', 'ADA', 'AHMAZING', 'AIR', 'AJ', 'AJs', 'ALREADY', 'ALSO', 'ALWAYS', 'AMAZING', 'AMAZINGLY', 'AMC', 'AMEX', 'ANNOYING', 'ANYONE', 'ANYTHING', 'AOK', 'AOk', 'AOkay', 'APPARENTLY', 'ARGHHH', 'ARIZONA', 'ASAP', 'ASASDA', 'ASKED', 'ASS', 'ASU', 'ASUs', 'ATM', 'ATT', 'AVERAGE', 'AWESOME', 'AWFUL', 'AYES', 'AZ', 'AZ88', 'Aaaaaalright', 'Abacus', 'Abbey', 'Abita', 'Absolutely', 'Absolutley', 'According', 'Accordingly', 'Aces', 'Act', 'Active', 'Actually', 'Adams', 'Add', 'Added', 'Adding', 'Additionally', 'Admission', 'Adobe', 'Adorable', 'Adults', 'Advisor', 'Aegean', 'Aesthetically', 'Affordable', 'Africa', 'Afterall', 'Aged', 'Aggressive', 'Agree', 'Ah', 'Ahab', 'Ahh', 'Ahhh', 'Ahi', 'Ahwatukee', 'Ai', 'Aid', 'Air', 'Airlines', 'Airport', 'Ajo', 'Al', 'Alas', 'Alaskan', 'Albacore', 'Albeit', 'Albertos', 'Albertsons', 'Alcohol', 'Ale', 'Alemmmm', 'Alexa', 'Alice', 'Alison', 'Allah', 'Almost', 'Aloft', 'Along', 'Alpine', 'Alright', 'Als', 'Also', 'Although', 'Althoughone', 'Always', 'Amalfi', 'Amanda', 'Amazin', 'Amber', 'Ambiance', 'Ambience', 'America', 'American', 'AmericanChinese', 'Americanized', 'Americas', 'Amino', 'Amoeba', 'Amtrack', 'Amy', 'Amys', 'Anaheim', 'Anandita', 'Anazazi', 'Ancestral', 'Andre', 'Angel', 'Angela', 'Angeles', 'Angus', 'Anime', 'Anise', 'Ann', 'Annes', 'Anniversary', 'Anniversaryyes', 'Annual', 'Another', 'Ansel', 'Answer', 'Antichrist', 'Antipasta', 'Antipasto', 'Antonio', 'Anyhoo', 'Anyhow', 'Anyone', 'Anything', 'Anyway', 'AnywayI', 'Anyways', 'Anywho', 'Ao', 'Apart', 'App', 'Apparently', 'Appears', 'Appetite', 'Appetizer', 'Apple', 'Applebees', 'Applewood', 'Approaching', 'April', 'Apts', 'Arai', 'Arbuckles', 'Arbys', 'Arcadia', 'Area', 'Arena', 'Arik', 'Arizona', 'Arizonas', 'Arizonasized', 'Arizonians', 'Arlecchino', 'Armadillo', 'Arnold', 'Around', 'Arrived', 'Arrogant', 'Arrowhead', 'Artichoke', 'Artichokes', 'Arts', 'Asada', 'Asado', 'Ashley', 'Ashleys', 'Asholes', 'AsiAsi', 'Asian', 'Asians', 'Aside', 'Asked', 'Asparagus', 'Ate', 'Atleast', 'Atmosphere', 'Atomic', 'Atoyac', 'Atoyas', 'Attack', 'Attentive', 'Attic', 'Attitude', 'August', 'Aunt', 'Aunty', 'Austin', 'Auther', 'Authority', 'Auto', 'AutoZone', 'Avalon', 'Avatar', 'Ave', 'Avengers', 'Aventinus', 'Avenue', 'Average', 'Avina', 'Avoid', 'Awesome', 'B', 'BACK', 'BAD', 'BADS', 'BAM', 'BAP', 'BAR', 'BBQ', 'BBQing', 'BBQranch', 'BEST', 'BF', 'BFeFs', 'BG', 'BIG', 'BJs', 'BK', 'BKMcDs', 'BLOODYMARYS', 'BLT', 'BMW', 'BN', 'BOB', 'BOMB', 'BOP', 'BRU', 'BTW', 'BTWCASH', 'BYOB', 'BYOL', 'Babies', 'Baby', 'Babybel', 'Back', 'Bacon', 'Baconator', 'Baconzilla', 'Bad', 'Baers', 'Bagel', 'Bagels', 'Bahama', 'Bahn', 'Bahooka', 'Baja', 'Baked', 'Bakery', 'Ball', 'Balls', 'Balsamic', 'Bambi', 'Bamboo', 'Banana', 'Band', 'Bandido', 'Bang', 'Banh', 'Bank', 'Banner', 'Baptist', 'Bar', 'Barbies', 'Barcelona', 'Bare', 'Barely', 'Bargain', 'Bargains', 'Barn', 'Barnes', 'Barons', 'Barrel', 'Barrio', 'Barros', 'Bartender', 'Bartenders', 'Baseball', 'Based', 'Baseline', 'Bashas', 'Basically', 'Basil', 'Basket', 'Bass', 'Bastard', 'Bastards', 'Bath', 'Bathroom', 'Bathrooms', 'Batista', 'Bats', 'Bay', 'Bayrn', 'Beach', 'Beaches', 'Bean', 'Beanie', 'Beans', 'Bear', 'Bears', 'Beats', 'Beautiful', 'Beaver', 'Bed', 'Beef', 'Beer', 'Beers', 'Bees', 'Beet', 'BeetsI', 'Beijing', 'Belgian', 'Believe', 'Bell', 'BellPizza', 'Belvedere', 'Benedict', 'Benesstyle', 'Benihana', 'Benis', 'Bennigans', 'Berry', 'Besides', 'Best', 'Besties', 'Beth', 'Betitos', 'Betos', 'Betta', 'Better', 'Betty', 'Beware', 'Beyond', 'Bianca', 'Bianco', 'Biancoverde', 'Biersch', 'Big', 'Biggest', 'Bigmac', 'Bill', 'Biltmore', 'Birds', 'Birthday', 'Biscuits', 'Bistek', 'Bistro', 'Bistros', 'Bit', 'Bittmans', 'Bizarre', 'Black', 'Blackberries', 'Blacked', 'Blackhawks', 'Blanca', 'Blanco', 'Bleh', 'Blessings', 'Bleu', 'Blimpie', 'Bliss', 'Blockbuster', 'Bloody', 'Blossom', 'Blue', 'Blushing', 'BoSa', 'Boars', 'Bob', 'Boba', 'Bobby', 'BobbyQs', 'Bocca', 'Bocce', 'Boddingtons', 'Bodega', 'Body', 'Bollywood', 'Bolognese', 'Bombay', 'Bombers', 'Bon', 'Bonkers', 'Bonny', 'Bonus', 'Boo', 'Bookmans', 'Bookstar', 'Boom', 'Boombozz', 'Borders', 'Boring', 'Bosa', 'Boston', 'Bottled', 'Bottles', 'Bottom', 'Boulders', 'Bouncers', 'BouncersReally', 'Bourbon', 'Bourke', 'Bowl', 'Box', 'Boy', 'Boyfriend', 'Braggs', 'Braised', 'Brand', 'Brat', 'Brats', 'Braves', 'Brazilian', 'Bread', 'Breadfruit', 'Break', 'Breakdown', 'Breakfast', 'Brenda', 'Brent', 'Brett', 'Brewer', 'Brewers', 'Brewery', 'Brewhouse', 'Brewing', 'Brews', 'Breyers', 'Brian', 'Bring', 'Brio', 'BrioYESare', 'Brisket', 'Brit', 'Britain', 'British', 'Britney', 'Brittany', 'Brizza', 'Broadway', 'Brokerswhat', 'Bros', 'Brothers', 'Brown', 'Brownie', 'Brulee', 'Brunch', 'Brunswick', 'Bruschetta', 'Brussel', 'Bryans', 'Bs', 'Bud', 'Buddha', 'Buddhas', 'Buffalo', 'Buffet', 'Bula', 'Bull', 'Bulls', 'Bummer', 'Bunbun', 'Bungalow', 'Bunnis', 'Burger', 'Burgers', 'Burmese', 'Burrito', 'Burritto', 'Burro', 'Burros', 'Bus', 'Buschetta', 'Bust', 'Busy', 'Butter', 'Butterfields', 'Butters', 'ButyesBut', 'Buy', 'Bye', 'C', 'CA', 'CAME', 'CARNE', 'CB', 'CDs', 'CFB', 'CFu', 'CHASE', 'CHEAP', 'CHEESE', 'CHEEboh', 'CHICKEN', 'CJ', 'CK', 'CKs', 'CLOSED', 'CMFTs', 'COLD', 'COMPLAIN', 'COMPLETELY', 'CONCEPT', 'CONS', 'CONSIDER', 'CONSTANTLY', 'CORK', 'CORN', 'COULD', 'COVERED', 'CPK', 'CRAMPED', 'CRAZY', 'CREAMY', 'CURTAINS', 'Cab', 'Cabelas', 'Cabernet', 'Cabo', 'Cadillac', 'Caesar', 'Caesars', 'Cafe', 'Cajun', 'Cakes', 'Cal', 'Calamari', 'Cali', 'California', 'Call', 'Called', 'Calling', 'Calo', 'Calvin', 'Calzone', 'Calzones', 'Camarones', 'Cambodian', 'Came', 'Camelback', 'Camelview', 'Cameo', 'Campanelle', 'Canada', 'Canadian', 'Cant', 'Canteen', 'Cantina', 'Canyon', 'Capital', 'Cappicola', 'Capri', 'Capriottis', 'Captain', 'Car', 'Carbonara', 'Cardinals', 'Cards', 'Carimali', 'Carls', 'Carlsbad', 'Carlys', 'Carna', 'Carne', 'Carnes', 'Carolina', 'Caroline', 'Carrot', 'CarryOut', 'Cartel', 'Carumbas', 'Casa', 'Case', 'Cash', 'Casino', 'Casual', 'Cat', 'Catalina', 'Caterpillar', 'Caucasian', 'Cause', 'Cave', 'CenPho', 'CenPhos', 'Center', 'Centers', 'Central', 'Centrally', 'Certain', 'Certainly', 'Cesar', 'Ceviche', 'Cezanne', 'Cha', 'Chad', 'Chai', 'Chain', 'Challah', 'Champon', 'Chan', 'Chandler', 'ChandlerMesa', 'Changs', 'Channel', 'Chaparral', 'Chard', 'Chardonnay', 'Charles', 'Charlestons', 'Charlies', 'Chars', 'Chase', 'Cheap', 'Cheat', 'Check', 'Checked', 'Checkin', 'Cheddar', 'Cheeburger', 'Cheers', 'Cheese', 'Cheeseburger', 'Cheesecake', 'Cheesesteak', 'Chef', 'Chefs', 'Chelseas', 'Chengs', 'Cher', 'Cherry', 'CherryBlossom', 'Cherubini', 'Cheuvronts', 'Chevres', 'Chew', 'Chicago', 'Chicagostyle', 'Chicken', 'Chiladas', 'Chile', 'Chili', 'Chilis', 'Chilisactually', 'Chilistype', 'Chiliswith', 'Chill', 'Chimi', 'Chimichanga', 'Chimis', 'China', 'Chines', 'Chinese', 'Chino', 'Chipotle', 'ChipotleKokopellis', 'Chips', 'Chivas', 'Chocolate', 'Choice', 'Choosing', 'Chopped', 'Choppino', 'Chorizo', 'Choula', 'Chow', 'Chris', 'Christian', 'Christies', 'Christmas', 'Christophers', 'Chuck', 'Chuckbox', 'Chuckboxs', 'Chuckhouse', 'Churn', 'Ciao', 'Cibatta', 'Cibo', 'Cine', 'Cinnamon', 'Circle', 'Circus', 'Citronage', 'City', 'CityScape', 'ClangClang', 'Clara', 'Clarendon', 'Clarice', 'Clarices', 'Classic', 'Classical', 'Classics', 'Classified', 'Classmate', 'Clean', 'Cleaners', 'Cleanliness', 'Clem', 'Cliché', 'Clinic', 'Close', 'Closed', 'Closet', 'Club', 'Clubhouse', 'Clueless', 'Cmon', 'Co', 'Coach', 'Coal', 'Coast', 'Cob', 'Cobb', 'Cobras', 'Cocina', 'Cocktails', 'Coconut', 'Coffee', 'Coincidence', 'Coke', 'Cokey', 'Cold', 'Cole', 'Coliseum', 'College', 'Colorado', 'Columbus', 'Com', 'Combine', 'Combined', 'Come', 'Comedor', 'Comes', 'Comfy', 'Comicon', 'Comics', 'Coming', 'Comme', 'Commons', 'Communication', 'Community', 'Companions', 'Company', 'Comparable', 'Compared', 'Comparing', 'CompedAfter', 'Competitions', 'Complete', 'Completely', 'Complimentary', 'Compote', 'Concepts', 'Concert', 'Conclusion', 'Concrete', 'Condesa', 'Confusing', 'Cons', 'Consideration', 'Considering', 'Contemporary', 'Content', 'Convenient', 'Convention', 'Conversation', 'Cook', 'Cookie', 'Cookieit', 'Cookies', 'Cool', 'Cooper', 'Coors', 'Cops', 'Corn', 'Corned', 'Corona', 'Coronado', 'Coronas', 'Corporate', 'Cost', 'Costco', 'Costcos', 'Could', 'Couldve', 'Country', 'Coup', 'Coupons', 'Courses', 'Courtyard', 'Cover', 'Covered', 'Covina', 'Cow', 'Cowboy', 'Coworkers', 'Coyotes', 'Crab', 'Crackers', 'Crackle', 'Craftsteak', 'Crankite', 'Crate', 'Crave', 'Create', 'Creek', 'Creme', 'Crepe', 'Crinkle', 'Crocker', 'Croquettes', 'CrowdMeh', 'CrowdThe', 'Crowded', 'Crown', 'Crowns', 'Crush', 'Crust', 'Cruz', 'Cs', 'Cuban', 'Cuisine', 'Culinary', 'Cultural', 'Culvers', 'Cup', 'Cupcake', 'Cupcakes', 'Curiosity', 'Curry', 'Cusiene', 'Custard', 'Customer', 'Customers', 'Cute', 'Cypress', 'DBACKS', 'DBacks', 'DBs', 'DC', 'DEEP', 'DEFINITELY', 'DELISH', 'DFW', 'DIDoh', 'DIRTY', 'DISLIKE', 'DIm', 'DJ', 'DJs', 'DOG', 'DOH', 'DONE', 'DONT', 'DONTDo', 'DOOrder', 'DOUBLE', 'DRINK', 'DRIVE', 'DRIVING', 'DROWNED', 'DSienna', 'DVAP', 'DVD', 'DVDs', 'DYNaMITE', 'Dad', 'Dai', 'DaiGirls', 'Daily', 'Dairy', 'Daiya', 'Dalat', 'Dallas', 'Dam', 'Dammit', 'Damn', 'Dan', 'Dangerfield', 'Danielles', 'Daniels', 'Daquiri', 'Dark', 'Darts', 'Date', 'Daughter', 'Dave', 'Daves', 'David', 'Davids', 'Davidson', 'Davis', 'Dawn', 'Day', 'Dayum', 'Daze', 'De', 'Dear', 'Death', 'Debbi', 'Debevics', 'Decades', 'Decaf', 'Decanter', 'December', 'Decent', 'Decided', 'Deck', 'Decor', 'Deer', 'Defalcos', 'Definitely', 'Del', 'Deli', 'Delias', 'Delicious', 'Delight', 'Delish', 'Delivery', 'Delosantos', 'Delux', 'Den', 'Dennys', 'Denver', 'Depeche', 'Depending', 'Depot', 'Descent', 'Desert', 'Design', 'Despite', 'Desserts', 'Detroit', 'Devil', 'Devils', 'DiGiorno', 'DiGiornos', 'Diablo', 'Diamondbacks', 'Diavola', 'Dice', 'Dicks', 'Didnt', 'Diego', 'Diet', 'Diggin', 'Dijon', 'Dillards', 'Dim', 'Dimeadozen', 'Dined', 'Diner', 'Dinguan', 'Dining', 'Dinner', 'Dinning', 'Dip', 'Dippin', 'Disappointing', 'Disappointment', 'Disaster', 'Discount', 'Discouraged', 'Discover', 'Dish', 'Disheartenment', 'Dispointing', 'Distictive', 'District', 'Distrito', 'Dj', 'Dlish', 'DnD', 'Dobson', 'Doc', 'Dodeys', 'Dodgers', 'Doesnt', 'Dog', 'Dollar', 'Dolmades', 'Dom', 'Dominos', 'DominosPapa', 'Doner', 'Dont', 'Donts', 'Donuts', 'Doon', 'Dooney', 'Door', 'Doorman', 'Dos', 'Dose', 'Dots', 'Double', 'Doubletree', 'Doug', 'Doughnuts', 'Downside', 'Downsides', 'Downtown', 'Dr', 'Draft', 'Dragon', 'Draw', 'Dreamy', 'Dresses', 'Dressing', 'Dried', 'Drink', 'Drinks', 'DrinksMeh', 'Drive', 'Drop', 'Dropout', 'Dropped', 'Dropping', 'Drove', 'Drs', 'Drug', 'Drunk', 'Dry', 'Dryers', 'Duck', 'Ducked', 'Duckling', 'Dude', 'Due', 'Dukes', 'Dukeslocal', 'Duluth', 'Dumplings', 'Dunkin', 'Dunlap', 'Durango', 'Durants', 'Dusk', 'Dutch', 'Dutchman', 'Dwellers', 'Dyed', 'E', 'EATING', 'EDIT', 'END', 'ENTIRE', 'ER', 'ESPN', 'EVER', 'EVERYTHING', 'EVERYWHERE', 'EXCELLENT', 'EXTRA', 'EZ', 'Earls', 'Earth', 'East', 'Eastern', 'Eastwind', 'Easy', 'Eat', 'Eaten', 'Eating', 'Eccentric', 'Echo', 'Econ', 'Ed', 'Edamame', 'Eden', 'Edit', 'Edited', 'Efes', 'Egg', 'Eggfooyung', 'Eggo', 'Eggplant', 'Eggrolls', 'Eggs', 'Eh', 'Ehhh', 'Eight', 'Einstein', 'Einsteins', 'Eisenhower', 'Either', 'El', 'Elaine', 'Electronica', 'Elsa', 'Elvis', 'Em', 'Embassy', 'Embuchado', 'Emerald', 'Employees', 'Empty', 'England', 'English', 'Enjoy', 'Enjoyed', 'Enough', 'Enter', 'Enterprise', 'Entrance', 'Entrees', 'Entries', 'Entrée', 'Epping', 'Equis', 'Eric', 'Ernie', 'Errrrrrrrrrrr', 'Esan', 'Escentuals', 'Especially', 'Esplanade', 'Essence', 'Essentially', 'Essex', 'Ethiopian', 'Euro', 'European', 'Europeanstyle', 'Evas', 'Eve', 'Even', 'Evenings', 'Ever', 'Every', 'Everybody', 'Everyhting', 'Everyone', 'Everything', 'Ex', 'Examples', 'Excellent', 'Except', 'Exchange', 'Exit', 'Exotic', 'Expect', 'Expectations', 'Expecting', 'Expensive', 'Expereinced', 'Experience', 'Experiences', 'Explosion', 'Express', 'Extra', 'Extraordinarily', 'Extreme', 'Extremely', 'Eye', 'Eyebrows', 'Eyes', 'F', 'FABULOUS', 'FANTASTIC', 'FAST', 'FASTER', 'FE', 'FEZ', 'FH', 'FIND', 'FIRST', 'FOOD', 'FOREVER', 'FORK', 'FOUR', 'FREE', 'FREEZING', 'FTR', 'FU', 'FULL', 'FUN', 'FYI', 'FaceTime', 'Facebook', 'Facility', 'Factor', 'Factory', 'Factorys', 'Faculty', 'Fair', 'Fairly', 'Fajita', 'Fajitas', 'Falafel', 'Fall', 'Falling', 'Family', 'Famoso', 'Famous', 'Fancy', 'Far', 'Farfalle', 'Farm', 'Farmers', 'Farmhouse', 'Farms', 'Fashion', 'Fast', 'Fastfood', 'Fat', 'Fatburger', 'Fe', 'Feast', 'February', 'Feed', 'Feel', 'Feeling', 'Felix', 'Feliz', 'Fennel', 'Ferrari', 'Festival', 'Feta', 'Fettuccine', 'Fettucine', 'Fez', 'Fiction', 'Field', 'Fieri', 'Fiesta', 'Fifteen', 'Fifth', 'Fiji', 'Filabertos', 'Filbertos', 'Filet', 'Filibertos', 'Filibertosnot', 'Filing', 'Filipina', 'Filipino', 'Final', 'Finally', 'Finding', 'Fine', 'Fingers', 'Fire', 'FireGrilled', 'Firesky', 'First', 'Firstly', 'Fish', 'Fitness', 'Five', 'Flagship', 'Flamenco', 'Flaming', 'Flamingo', 'Flan', 'Flash', 'Flat', 'Flatbread', 'Flatiron', 'Flavored', 'Flavorful', 'Flavors', 'Flavorwise', 'Flea', 'Flemings', 'Flight', 'Florist', 'Flos', 'Floyd', 'FnB', 'Foam', 'Followed', 'Food', 'FoodDrink', 'Foods', 'Foot', 'Football', 'Ford', 'Foreman', 'Forever', 'Forgot', 'Fork', 'Found', 'Four', 'FourSquare', 'Fourth', 'Fox', 'Fr', 'Framboise', 'Franc', 'Francis', 'Francisco', 'Frankenstein', 'Frankly', 'Franks', 'Frap', 'Fred', 'Free', 'Frees', 'Fremont', 'French', 'Frenchlike', 'Frenchy', 'Fresh', 'Freshie', 'Freshly', 'Fri', 'Friday', 'Fridays', 'Fried', 'Friend', 'Friendliness', 'Friendly', 'Frienemies', 'Fries', 'Frites', 'FroYo', 'Fruit', 'Fruits', 'Fruittas', 'Frutti', 'Frys', 'Fuddruckers', 'Fuji', 'Full', 'Fully', 'Fun', 'Fundido', 'Funkycool', 'Funny', 'Furnishings', 'Furniture', 'Fusion', 'G', 'GD', 'GENIUS', 'GF', 'GG', 'GIANT', 'GO', 'GOD', 'GOOD', 'GOODS', 'GOTTA', 'GQ', 'GRABBING', 'GRAVEL', 'GREAT', 'Gabi', 'Gaga', 'Gahan', 'Gai', 'Galbi', 'Galleria', 'Gallo', 'Gambas', 'Gang', 'Gap', 'Garage', 'Garbage', 'Garbanzos', 'Garden', 'Garlic', 'Gas', 'Gauging', 'Geesh', 'Geisha', 'Geishaagogo', 'Gelato', 'General', 'Generally', 'Genetics', 'Genghis', 'Genius', 'George', 'German', 'Germann', 'Germany', 'Get', 'Gets', 'Getting', 'Giants', 'Gibson', 'Gilbert', 'Gimmie', 'Ginger', 'Girl', 'Girls', 'Give', 'Given', 'Glad', 'Glendale', 'Glenn', 'Glitters', 'Glorified', 'Gluten', 'Gnocchi', 'Go', 'Goat', 'Gobi', 'God', 'GodAwful', 'Godfather', 'Godfood', 'Gods', 'Going', 'Gold', 'Golden', 'Golds', 'Gone', 'Good', 'Goodness', 'Goodwill', 'Google', 'Gordon', 'Gorgeous', 'Gorgonzola', 'Got', 'Gothic', 'Gotta', 'Gourmet', 'Goyza', 'Gracies', 'Grand', 'Grande', 'Grandfather', 'Grandma', 'Granted', 'Grape', 'Graphic', 'Grazie', 'Greasy', 'Great', 'Greedy', 'Greek', 'Greeks', 'Greektown', 'Green', 'Greene', 'Grenache', 'Greyhound', 'Grill', 'Grille', 'Grilled', 'Grills', 'Grimaldis', 'Grind', 'Gringos', 'Grog', 'Ground', 'Grounds', 'Groupon', 'Groups', 'Growing', 'Grrls', 'Grrrrfrustrating', 'Grrrrr', 'Gruben', 'Guac', 'Guacamole', 'Guadalajara', 'Guandong', 'Gucci', 'Guess', 'Guests', 'Guilty', 'Guinness', 'Guns', 'Guo', 'Guy', 'Guys', 'Guysexcept', 'Gym', 'Gymgoers', 'Gyoza', 'H', 'HA', 'HATE', 'HD', 'HEAVEN', 'HH', 'HIGH', 'HIGHLY', 'HINT', 'HK', 'HM', 'HOME', 'HORRIBLE', 'HOT', 'HOUSE', 'HOWEVER', 'HUGE', 'HUMMDINGER', 'Ha', 'Habit', 'Hair', 'Halen', 'Halfway', 'Hall', 'Hallelujah', 'Halloween', 'Ham', 'Hamachi', 'Hamburger', 'Hamburgers', 'Hand', 'Hanger', 'Hansen', 'Happy', 'Harajuku', 'Harbor', 'Hard', 'Hardly', 'Hardware', 'Harkins', 'Harley', 'Harlows', 'Harps', 'Hasbrowns', 'Hashbrowns', 'Haus', 'Havent', 'Haver', 'Hawaiian', 'Hawian', 'Hawken', 'Hayde', 'Head', 'Healed', 'Healthy', 'Heard', 'Heart', 'Hearty', 'Heat', 'Heavy', 'Heck', 'Heed', 'Hefeweizen', 'Heffe', 'Hello', 'Hells', 'Help', 'Hence', 'Henderson', 'Henry', 'Herberger', 'Herein', 'Heres', 'Heritage', 'Hersheysacclimated', 'Hes', 'Hesitant', 'Hey', 'Hi', 'HiHealth', 'Hidden', 'Hideaway', 'High', 'Highlight', 'Highlights', 'Highly', 'Hikers', 'Hilarious', 'Hills', 'Hillside', 'Hillstone', 'Hilton', 'Hiltonand', 'Hip', 'Hispanic', 'Hit', 'Hmits', 'Hmm', 'HmmDidnt', 'Hmmm', 'Hmmthis', 'Hmph', 'Ho', 'HoHo', 'Hoagie', 'Hob', 'Hoboken', 'Hockey', 'Hohokam', 'Hold', 'Hole', 'Holiday', 'Holland', 'Hollandaise', 'Hollywood', 'Holy', 'Home', 'Homewood', 'Homey', 'Honestly', 'Honey', 'Hong', 'Honolulu', 'Honor', 'Hood', 'Hooray', 'Hooters', 'Hop', 'Hope', 'Hopefully', 'Hopping', 'Horoscope', 'Horseradish', 'Hosiptal', 'Hospital', 'Hostess', 'Hostesses', 'Hot', 'Hotel', 'Hour', 'House', 'HouseMade', 'Housekeeping', 'Housewell', 'Houston', 'Houstons', 'Howard', 'However', 'Howevermany', 'Howies', 'Hubbies', 'Hubby', 'Hubbys', 'Hubs', 'Huehner', 'Huge', 'Huh', 'Hula', 'Hulas', 'Hulu', 'HuluPlus', 'Humbertos', 'Humble', 'Humm', 'Hummus', 'Hummustzatziki', 'Hundreds', 'Hungry', 'Hunts', 'HurryUp', 'Husband', 'Hut', 'Hyatts', 'Hybrid', 'I17', 'ICE', 'ID', 'IDK', 'IDing', 'IDs', 'IHOP', 'II', 'IL', 'IMAX', 'IMHO', 'IMO', 'IMPECCABLE', 'INC', 'ING', 'INSIDE', 'IPA', 'ITT', 'Ice', 'Iceberg', 'Iced', 'Ick', 'Id', 'Ida', 'Idiots', 'Ihop', 'Iike', 'Ikea', 'Ikura', 'Ill', 'Illinois', 'Im', 'Imagine', 'Imax', 'Immediately', 'Important', 'Impossible', 'Impressive', 'Improve', 'InandOut', 'Incredible', 'Incubus', 'Indeed', 'India', 'Indian', 'Indians', 'Industrial', 'Inexpensive', 'Ingredient', 'Initially', 'Inn', 'InnOut', 'InnOuts', 'Ins', 'Inside', 'Instantly', 'Instead', 'Institute', 'Interesting', 'Internationals', 'Internet', 'Interview', 'Inventive', 'Irish', 'Iron', 'Iruna', 'Ishikari', 'Island', 'Isle', 'Isnt', 'Israeli', 'Italian', 'Italians', 'Itll', 'Ive', 'Ivy', 'Iwill', 'Iyer', 'J', 'JBLs', 'JBs', 'JC', 'JCPenny', 'JD', 'JJ', 'JOKE', 'JTs', 'JUMPSUIT', 'Jack', 'Jackrabbit', 'Jackson', 'Jade', 'Jakes', 'Jalapeno', 'Jamaican', 'Jamba', 'Jambas', 'James', 'Jameson', 'Jane', 'Jans', 'January', 'Japan', 'Japanese', 'Jasmine', 'Jason', 'Jasons', 'Javinos', 'Jazz', 'Jeep', 'Jeez', 'Jelly', 'Jersey', 'Jerusalem', 'Jesse', 'Jessica', 'Jewish', 'Jiffy', 'Jim', 'Jimmy', 'JitB', 'JoAnn', 'Joe', 'Joelle', 'Joes', 'John', 'Johns', 'Johnsons', 'Jones', 'Jordan', 'Jordans', 'Jose', 'JoseCupertino', 'Joya', 'Joynt', 'Jr', 'Juans', 'Juarez', 'Judge', 'Judy', 'Juice', 'Julie', 'July', 'Jumba', 'Jumbo', 'JumpStreet', 'Jungle', 'Junk', 'Jupiter', 'Jury', 'Justin', 'Jutenhoops', 'Juts', 'K', 'KC', 'KEEP', 'KIND', 'KNOW', 'KWIM', 'KYOT', 'Kabob', 'Kabuki', 'Kalamata', 'Kalbi', 'Karen', 'Kareys', 'Kashmans', 'Katsu', 'Kaz', 'Kazimierz', 'Kee', 'Keegans', 'Keep', 'Keeps', 'Keg', 'Keller', 'Kelly', 'Kellys', 'Kelsey', 'Ken', 'Kendall', 'Kenny', 'Kens', 'Ketchup', 'Kevin', 'Key', 'Kha', 'Kid', 'Kids', 'Kierland', 'Kieu', 'Kilo', 'Kilt', 'Kiltlifted', 'Kiltlifter', 'Kim', 'Kimchi', 'Kimmelweck', 'Kimmy', 'Kimow', 'Kimpton', 'Kind', 'Kinda', 'King', 'Kings', 'Kitchen', 'Kitchens', 'Kitty', 'Klein', 'Knock', 'Know', 'Knowing', 'Knowledgeable', 'Kobe', 'Koi', 'Kokopellis', 'Kona', 'Kong', 'Kool', 'Korea', 'Korean', 'Kreme', 'Krispy', 'Kroger', 'Krunch', 'Ks', 'Kudos', 'Kung', 'Kurdy', 'Kyle', 'Kyoto', 'L', 'LA', 'LAME', 'LARGE', 'LAST', 'LB', 'LCD', 'LEAGUES', 'LEAST', 'LEAVING', 'LED', 'LG', 'LGO', 'LGOespecially', 'LIKED', 'LMAO', 'LOCKED', 'LOL', 'LONG', 'LOOOOONG', 'LORD', 'LOST', 'LOT', 'LOTS', 'LOUD', 'LOVE', 'LOVED', 'LRT', 'LSU', 'LT', 'LUSH', 'LVs', 'La', 'Labor', 'Lacey', 'Lackluster', 'Lady', 'Lake', 'Lamb', 'Lambshank', 'Lame', 'Lao', 'Larchmont', 'Lard', 'Laredo', 'Large', 'Las', 'Lasagna', 'Last', 'Late', 'Lately', 'Latin', 'Latino', 'Laurie', 'Lavelles', 'Layers', 'Layout', 'Lean', 'Leasing', 'Leave', 'Lebanese', 'Lee', 'LeeLee', 'LeeLees', 'Lees', 'Left', 'Leinart', 'Lemon', 'Lemonade', 'Length', 'Lenny', 'Lennys', 'Lentil', 'Leon', 'Less', 'Let', 'Lets', 'Letter', 'Lettuce', 'Lexus', 'Liberty', 'Libraries', 'Library', 'Lifetime', 'Light', 'Like', 'Liked', 'Lillien', 'Limited', 'Lindsey', 'Lindseys', 'Linens', 'Lines', 'Ling', 'Linguine', 'Lion', 'Liquid', 'Lite', 'Literally', 'Little', 'Live', 'Living', 'LivingSocial', 'Lo', 'LoLo', 'LoLos', 'Lobster', 'Local', 'LocalDinescom', 'Located', 'Location', 'Loccitane', 'Lock', 'Locker', 'Loco', 'Lodge', 'Logans', 'Lola', 'Lollicup', 'Lolos', 'Lomein', 'Lomo', 'London', 'Long', 'Look', 'Looking', 'Looks', 'Lord', 'Lori', 'Los', 'Losing', 'Lost', 'Lots', 'Lotus', 'Loud', 'Louis', 'Lounge', 'Love', 'Loved', 'Lovely', 'Lover', 'Loving', 'Low', 'Lowlights', 'Lox', 'Lube', 'Lubys', 'Lucca', 'Lucia', 'Luciana', 'Lucis', 'Luckily', 'Lucky', 'Lumbergh', 'Luna', 'Lunas', 'Lunch', 'Lychee', 'MAC', 'MADCAP', 'MADCAPs', 'MALL', 'MANY', 'MB', 'MBA', 'MCC', 'MDG', 'MEAT', 'MIA', 'MINE', 'MJ', 'MLB', 'MONEY', 'MORONS', 'MOUNTAIN', 'MOUTH', 'MSG', 'MTV', 'MUCH', 'MULTIPLE', 'MUST', 'MaGees', 'Mac', 'MacAlpines', 'MacNCheese', 'Macaroni', 'Machaca', 'Macys', 'Madness', 'Madonna', 'Mafia', 'Magazine', 'Mailees', 'Main', 'Mainly', 'Maizies', 'Majerles', 'Make', 'Makes', 'Making', 'Mall', 'Malt', 'Man', 'Manage', 'Management', 'Manager', 'Managers', 'Mandalay', 'Mandarin', 'Mane', 'Mango', 'Manhattan', 'Manuels', 'Many', 'Mapo', 'Mar', 'Marcellas', 'Marcellinos', 'March', 'March10', 'Mare', 'Marg', 'Margarita', 'Margaritas', 'Margaritaville', 'Margharita', 'Margherita', 'Marian', 'Maricopa', 'Marie', 'Marilyn', 'Marinara', 'Mark', 'MarkKeyed', 'Market', 'Marketplace', 'Marnier', 'Marquee', 'Marques', 'Marriott', 'Marriotts', 'Martini', 'Martinis', 'Mary', 'Marys', 'Maryvale', 'Marzen', 'Mas', 'Mashed', 'Mastros', 'MastrosCity', 'Matadors', 'Mate', 'Matt', 'Mattas', 'Matts', 'Max', 'May', 'Maya', 'Maybe', 'Mayer', 'Mayish', 'Mayo', 'Mazz', 'McCanns', 'McDonalds', 'McDowell', 'McDowellCentral', 'McGaees', 'McKnight', 'Meat', 'Meatball', 'Meatballs', 'Meatloaf', 'Meaty', 'Mecca', 'Medi', 'Medical', 'Medicine', 'Mediocre', 'Mediterranean', 'Megan', 'Meh', 'Mehnot', 'Mejico', 'Mellow', 'Melrose', 'Melt', 'Memorial', 'Men', 'Mendys', 'Mens', 'Menu', 'Menus', 'MenzaMenzaComme', 'Merc', 'Mercedes', 'Merchants', 'Mesa', 'Met', 'Metal', 'Metro', 'Mex', 'Mexcian', 'Mexi', 'Mexican', 'Mexicanesque', 'Mexicanish', 'Mexico', 'Mexifood', 'Mi', 'Michael', 'Micheal', 'Michelle', 'Michelles', 'Mickey', 'Microsoft', 'Middle', 'MiddleEastern', 'Middleofthe', 'Midwestern', 'Might', 'Mignon', 'Mikes', 'Mikunis', 'Milk', 'Mill', 'Millarea', 'Mills', 'Mimis', 'Mina', 'Minas', 'Mind', 'Mine', 'Mini', 'Minnesota', 'Minnie', 'Minus', 'Minute', 'Miso', 'Missed', 'Mission', 'Mitchs', 'Mitsuwa', 'Mix', 'Mixed', 'Mixteca', 'Mizithra', 'Mmhmm', 'Mmmm', 'Mmmmm', 'MoJo', 'Mobile', 'MobileMe', 'Mobsters', 'Mocha', 'Mochas', 'Mode', 'Modern', 'Modest', 'Moira', 'Mole', 'Molina', 'Molinari', 'Molino', 'Molinos', 'Mom', 'MommaKat', 'Moms', 'Monday', 'Mondays', 'Mondrian', 'Money', 'Mongolian', 'Monitors', 'Monk', 'Monkey', 'Monroe', 'Monster', 'Montelucia', 'Monterey', 'Months', 'Moon', 'Moose', 'Moral', 'Moretti', 'Morgan', 'Mormon', 'Morning', 'Moroccan', 'Moron', 'Mortons', 'Mostly', 'Mothers', 'Moto', 'Motown', 'Mountain', 'Mountains', 'Mountainside', 'Mouse', 'Moved', 'Movie', 'Moving', 'Mozz', 'Mozzarella', 'Mr', 'Mraz', 'Mrs', 'Much', 'Mucho', 'Mulligans', 'Muni', 'Municipal', 'Murphys', 'Mushroom', 'Music', 'Mussaman', 'Must', 'Myst', 'N', 'NAME', 'NBA', 'NEED', 'NERD', 'NEVER', 'NEVERJust', 'NEW', 'NEXT', 'NFL', 'NHL', 'NM', 'NOLA', 'NOM', 'NONE', 'NOTE', 'NOTHING', 'NOwere', 'NY', 'NYC', 'NYCs', 'NYPD', 'Naaah', 'Naan', 'Nachos', 'Nagasaki', 'Nah', 'Naked', 'Nam', 'Nanotechnology', 'Napa', 'Naperville', 'Narc', 'Narcisse', 'Nash', 'Nathan', 'Native', 'Naturally', 'Navajo', 'Nay', 'Nazi', 'Near', 'Nearly', 'Neat', 'Necco', 'Nee', 'Need', 'Needed', 'Needless', 'Needlessly', 'Needs', 'Neither', 'Netflix', 'Netnetit', 'Neutral', 'Neutrogena', 'Never', 'Nevermind', 'New', 'Newly', 'Newport', 'Newton', 'Next', 'Nice', 'Nicole', 'Night', 'Nigiri', 'Nike', 'Nimrod', 'Ninfas', 'Niptuck', 'Niros', 'Nites', 'Nob', 'Noble', 'Nobody', 'Nobs', 'Noce', 'Noir', 'Noiselevel', 'None', 'Nonetheless', 'Nonofficial', 'Noodle', 'Noodles', 'Nope', 'Nordstroms', 'Noreen', 'Normally', 'North', 'Northern', 'Northgates', 'Northsight', 'Note', 'Nothin', 'Nothing', 'Notice', 'Noticed', 'Noticing', 'Notsopositive', 'Nourish', 'November', 'Nowhere', 'Nowonder', 'NuernbergerKassler', 'Nuff', 'Nurse', 'Nutcracker', 'Nutella', 'Nutter', 'OC', 'ODD', 'OG', 'OH', 'OHSO', 'OK', 'OKAY', 'OKprobably', 'OKtasting', 'OKthis', 'OMG', 'OMGeatherethisinstant', 'ONE', 'ONeal', 'OPA', 'ORDER', 'ORDERING', 'ORGANIC', 'OSF', 'Oakland', 'Oaxaca', 'Obviously', 'Ock', 'October', 'Odd', 'Offered', 'Often', 'Oftentimes', 'Oh', 'Ohhhh', 'Ohio', 'Oil', 'Oink', 'Ok', 'Okay', 'OkaysoI', 'Oklahoma', 'Okseriously', 'Old', 'Olde', 'Older', 'Oli', 'Olive', 'Olives', 'Olivos', 'Olympics', 'Omelet', 'Omelette', 'One', 'Onion', 'Online', 'Onto', 'Onward', 'Ooo', 'Oops', 'Opa', 'Open', 'Optima', 'Opus', 'Oral', 'Orange', 'Orbit', 'Order', 'Ordered', 'Ordering', 'Orders', 'Ore', 'Oreganos', 'Oregon', 'Oreo', 'Organ', 'Organic', 'Original', 'Orleans', 'Oscuro', 'Ossobucco', 'Others', 'Otherwise', 'Outback', 'Outdoor', 'Outer', 'Outlet', 'Outrageous', 'Outs', 'Outside', 'Outstanding', 'Oven', 'Overall', 'Overalldecent', 'Overallgreat', 'Overflow', 'Overpriced', 'Overture', 'Owner', 'Owners', 'Oyl', 'Oysters', 'P', 'PA', 'PACKED', 'PB', 'PBR', 'PC', 'PDX', 'PEOPLE', 'PERSON', 'PETS', 'PF', 'PHONE', 'PHX', 'PIE', 'PIMPS', 'PLACE', 'PLAN', 'PLATE', 'PLEASE', 'PM', 'PMDD', 'POWER', 'PPP', 'PR', 'PRICE', 'PRICES', 'PROS', 'PS', 'PS2Xbox', 'PUT', 'PV', 'Packers', 'Pad', 'Padres', 'Paid', 'Painted', 'Pair', 'Palace', 'Paldo', 'Palette', 'Palmer', 'Paloma', 'Pamelas', 'PanSeared', 'Panang', 'Pancake', 'Pancakes', 'Pancetta', 'Panda', 'Pani', 'Paninis', 'Panko', 'Pants', 'Pao', 'Papa', 'Papago', 'Papaya', 'Pappadeauxs', 'Paradise', 'Parantha', 'Paris', 'Parisian', 'Park', 'Parked', 'Parking', 'Parlor', 'Parm', 'Parmesan', 'Parmigiano', 'Parrothead', 'Part', 'Partner', 'Party', 'Paso', 'Pass', 'Pasta', 'Pastajust', 'Pastor', 'Pastry', 'Patatas', 'Patio', 'Patricks', 'Patron', 'Pats', 'Patty', 'Pawn', 'Peach', 'Peak', 'Peaks', 'Peanut', 'Peas', 'Peculiar', 'Pedro', 'Pei', 'PeiWei', 'Peking', 'Penne', 'Penny', 'People', 'Peoria', 'Pepper', 'Peppercorn', 'Peppers', 'Pepsi', 'Perfect', 'Perfectly', 'Performing', 'Perhaps', 'Perry', 'Persian', 'Person', 'Personally', 'Pesto', 'Petes', 'Pheonix', 'Philipino', 'Philly', 'Pho', 'Phoenicians', 'Phoenix', 'PhoenixScottsdale', 'Phoenixarea', 'Phoenixfoam', 'Phoenixs', 'Phone', 'Phx', 'Piano', 'Pibb', 'Picazzos', 'Pick', 'Picking', 'Pickle', 'Pie', 'Pier', 'Pier1', 'Pima', 'Pink', 'Pinkberry', 'Pinkeye', 'Pinneapple', 'Pinot', 'Pipe', 'Pistachio', 'Pit', 'Pita', 'Pitcher', 'Pizza', 'Pizzaria', 'Pizzas', 'Pizzeria', 'Pkwy', 'Place', 'Plan', 'Planet', 'Plantation', 'Plath', 'Plato', 'Platter', 'Play', 'Playable', 'Pleasant', 'Please', 'Plenty', 'Plus', 'Poetry', 'Point', 'Pointe', 'Polibertoseverything', 'Pollo', 'Pomeroys', 'Pomodoro', 'Pony', 'Pool', 'Pop', 'Popeye', 'Popeyes', 'Popped', 'Popper', 'Popsicle', 'Pork', 'Port', 'Porter', 'Portillos', 'Portion', 'Portions', 'Portland', 'Portlands', 'Portos', 'Positive', 'Postal', 'Postino', 'Postinos', 'Pot', 'Potato', 'Potatoes', 'Potbelly', 'Potino', 'Pottery', 'Pound', 'Prado', 'Praise', 'Prawns', 'Pray', 'Praying', 'Predictability', 'Preface', 'Prego', 'Prescott', 'Presentation', 'Presumably', 'Prettiest', 'Pretty', 'Pretzel', 'Pretzels', 'Previously', 'Price', 'Priced', 'Priceline', 'Prices', 'Pricey', 'Pricing', 'Prime', 'Prince', 'Princess', 'Print', 'Prior', 'Pristine', 'Pro', 'Probably', 'Problem', 'Pros', 'Providing', 'Provolone', 'Proximity', 'Proys', 'Psychological', 'Psychostick', 'Pub', 'Pueblo', 'Punch', 'Pure', 'Puree', 'Put', 'Puts', 'Puzzled', 'Q', 'QPR', 'Qdoba', 'Qdobas', 'Quaint', 'Quality', 'Quantity', 'Quarteresque', 'Queen', 'Queens', 'Quesadilla', 'Quesdilla', 'Queso', 'Question', 'Questions', 'Quick', 'Quickly', 'Quite', 'Quiznos', 'R', 'RA', 'RAID', 'RAVING', 'RB', 'REAL', 'REALLY', 'REFILLS', 'RESTAURANT', 'RICH', 'RIDING', 'RIGHT', 'RIP', 'RJ', 'ROCK', 'ROCKED', 'ROTD', 'RTs', 'RUDE', 'RUN', 'Ra', 'Race', 'Rachel', 'Raging', 'Ragu', 'Rahul', 'Rail', 'Raintree', 'Raj', 'Rallys', 'Rama', 'Ramada', 'Rams', 'Ramsey', 'Ranch', 'Rand', 'Rap', 'Rare', 'Rarely', 'Rather', 'Rating', 'Ravioli', 'Ray', 'Rays', 'Razor', 'Rd', 'Reach11', 'Read', 'Real', 'Really', 'Reasonable', 'Recently', 'Red', 'Redbox', 'Reeses', 'Refills', 'Regarding', 'Regardless', 'Rellano', 'Remember', 'Reminded', 'Reminds', 'Republic', 'Residence', 'Resort', 'Rest', 'Restaurant', 'Restaurantcom', 'Restaurants', 'Retail', 'Return', 'Returned', 'Reuben', 'Review', 'Rewards', 'Reyes', 'Reylynne', 'Ribeye', 'Ribeyes', 'Ribs', 'Rice', 'Rich', 'Richard', 'Richardsons', 'Richie', 'Richmond', 'Rickey', 'Rickie', 'Ricos', 'Ricotta', 'Ridge', 'Riesling', 'Right', 'Rinaldis', 'Ring', 'Ringo', 'Rings', 'Rita', 'Ritos', 'River', 'Riverview', 'RnR', 'Road', 'Roadhouse', 'Roadhouses', 'Roast', 'Roasted', 'Robertos', 'Robin', 'Robyn', 'Rock', 'Rockies', 'Rodney', 'Rojo', 'Rokerij', 'Roku', 'Roll', 'Rolling', 'Rolls', 'Roma', 'Romano', 'Romero', 'Room', 'Roosevelt', 'Rooste', 'Root', 'Rooter', 'Rosa', 'Rose', 'Rosemary', 'Rosemead', 'Rositas', 'Rossi', 'Roto', 'Route', 'Row', 'Royal', 'Roys', 'Rubios', 'Ruby', 'Rudolphos', 'Rudys', 'Rue', 'Rula', 'Rule', 'Ruling', 'Rum', 'Running', 'Rural', 'Russian', 'Ruths', 'Ryans', 'SAID', 'SALSA', 'SATtype', 'SCORE', 'SD', 'SELFOTHERS', 'SEND', 'SERVER', 'SERVICE', 'SEVERAL', 'SF', 'SFO', 'SFS', 'SHADE', 'SHAZAAM', 'SHIT', 'SHOWING', 'SIL', 'SLOW', 'SLOWLY', 'SLP', 'SMELLS', 'SOSO', 'SOUP', 'SP', 'SPICY', 'SPL', 'SRP', 'STILL', 'STRING', 'STRONG', 'SUCK', 'SUMMARY', 'SUMO', 'SUPER', 'SURE', 'SUV', 'SUVdriving', 'SUVs', 'SW', 'SWIMMING', 'SWest', 'SaBai', 'Sacbut', 'Sacks', 'Sacramento', 'Sad', 'Sadly', 'Safeway', 'Safeways', 'Said', 'Saigon', 'Saints', 'Sakana', 'Sake', 'Sakura', 'Salad', 'Salads', 'Salazars', 'Sallys', 'Salmon', 'Salon', 'Salsa', 'Salsas', 'Salt', 'Saltimbocca', 'Salton', 'Salty', 'Sam', 'Samauri', 'Sambuca', 'Sampled', 'Sampler', 'Sams', 'San', 'SanTan', 'Sandra', 'Sandwhich', 'Sandwich', 'Sandwiched', 'Sandwiches', 'Sanfrancisco', 'Sangria', 'Santa', 'Santana', 'Santas', 'Santoukas', 'Sapporo', 'Saskatchewan', 'Sat', 'Satay', 'Saturday', 'Saturdays', 'Sauce', 'Sausage', 'Sausalito', 'Sauvignon', 'Save', 'Savers', 'Savvy', 'Savy', 'Saw', 'Say', 'Scallion', 'Scandinavian', 'Scene', 'Scheduled', 'Scheduling', 'Schnitzel', 'School', 'Schreiners', 'Schriners', 'Schwarzbiers', 'Science', 'Scotland', 'Scottdale', 'Scotts', 'Scottsale', 'Scottsdale', 'Scottsdaleesque', 'Scottsdales', 'Scottsdalethe', 'Scottsdaletypes', 'Scottsdalian', 'Scottsdaling', 'Scramble', 'Scrambled', 'Screaming', 'Scrumptious', 'Sea', 'Seafood', 'Sears', 'Season', 'Seasoned', 'Seating', 'Seats', 'Seattle', 'Second', 'Secondly', 'Security', 'Sedona', 'See', 'Seeing', 'Seemed', 'Seemingly', 'Seems', 'Seen', 'Seftel', 'Segway', 'Seinfeld', 'Selection', 'Seller', 'Senas', 'Senor', 'Senorita', 'Sens', 'Seoul', 'Sephora', 'Sept', 'September', 'Seriously', 'Served', 'Server', 'Service', 'Serviceslow', 'Serving', 'Set', 'Several', 'Severs', 'Seville', 'Shack', 'Shake', 'Shakey', 'Shame', 'Shanghai', 'Shangri', 'Shank', 'Shannon', 'Shaquille', 'Shaved', 'Shawn', 'Sheesh', 'Shell', 'Sheraton', 'Sheratonbut', 'Sherpas', 'Sherwin', 'Shiitake', 'Shirley', 'Shock', 'Shop', 'Shopper', 'Shopping', 'Short', 'Shortbread', 'Shouldnt', 'Show', 'Showed', 'Shrimp', 'Shrug', 'Shumai', 'Shut', 'Sicilian', 'Side', 'SideBar', 'Sidebar', 'Sides', 'Sign', 'Signature', 'Silly', 'Silver', 'Similar', 'Simmons', 'Simple', 'Simply', 'Simpsons', 'Since', 'Singapore', 'Single', 'Singray', 'Sirachi', 'Sis', 'Sisters', 'Sit', 'Site', 'SiuWok', 'Sixpack', 'Sizzler', 'Ski', 'Skilled', 'Skillet', 'Skip', 'Sky', 'Slade', 'Slamsand', 'Slaw', 'Slices', 'Slides', 'Slightly', 'Slow', 'Slurpees', 'Small', 'Smart', 'Smash', 'Smashburger', 'Smashburgers', 'Smashchicken', 'Smashfries', 'Smirnoff', 'Smith', 'Smoked', 'Smokey', 'Smoothie', 'Snapper', 'Snarky', 'Sniveling', 'Snob', 'Snoogen', 'Snottsdale', 'Snow', 'SoCal', 'SoCo', 'SoI', 'SoSo', 'Soda', 'Sodas', 'Soft', 'Softs', 'Soggy', 'Sol', 'Sold', 'Solid', 'Som', 'Soma', 'Sombra', 'Sombreros', 'Somehow', 'Someone', 'Somethin', 'Something', 'Somethings', 'Sometimes', 'Somewhat', 'Somewhere', 'Sonic', 'Sonoma', 'Sonomas', 'Sonora', 'Sonoran', 'Soooif', 'Sopes', 'Soppressata', 'Sorry', 'Sort', 'Soso', 'Soup', 'Souplantation', 'Soups', 'Sour', 'Sourdough', 'South', 'Southern', 'Southwest', 'Southwestern', 'Southwests', 'SoxYankees', 'Spa', 'Spacious', 'Spaghetti', 'Spain', 'Spanish', 'Spanishas', 'Spanny', 'Spare', 'Spartan', 'Speaking', 'Spearsapproved', 'Special', 'Specials', 'Specifically', 'Spend', 'Spice', 'Spicy', 'SpiderMan', 'Spinach', 'Spinatos', 'Spirit', 'Spitfire', 'Splenda', 'SpongeBob', 'Spoon', 'Sport', 'Sports', 'Spot', 'Spotgiggle', 'Spring', 'Springhill', 'Springtime', 'Sprinklers', 'Sprinkles', 'Spritzer', 'Sprouts', 'Sproutsflower', 'Square', 'Squaw', 'Squid', 'Sriracha', 'Ss', 'St', 'StBerardus', 'Stacey', 'Stack', 'Stacy', 'Stacys', 'Stadium', 'Staff', 'Stage', 'Standard', 'Standing', 'Staples', 'Star', 'Starbucks', 'Starr', 'Stars', 'Starship', 'Started', 'State', 'States', 'Stateside', 'Station', 'Stay', 'Staying', 'Steak', 'Steakhouses', 'Steaks', 'Steal', 'Steamed', 'Stella', 'Step', 'Stepping', 'Stew', 'Stick', 'Still', 'Stillwater', 'Stingray', 'Stinkweeds', 'Stix', 'Stoked', 'Stone', 'Stonehenge', 'Stood', 'Stop', 'Stopped', 'Stopping', 'Store', 'Stout', 'Strange', 'Strawberry', 'Street', 'Strike', 'Stringy', 'Strip', 'Strong', 'Stube', 'Studio', 'Stuffed', 'Stupid', 'Style', 'Styles', 'Subaru', 'Subs', 'Suburbanites', 'Subway', 'Sucker', 'Sucks', 'Suddenly', 'Sugar', 'Sugarfree', 'Suggestion', 'Suggestions', 'Suicide', 'Suites', 'Sum', 'SumI', 'Summer', 'Sun', 'SunUp', 'Sunday', 'SundayThursday', 'Sundays', 'Sunflower', 'Suns', 'Sunset', 'Super', 'Superbowl', 'Supermarket', 'Superstition', 'Supper', 'Support', 'Sure', 'Surprise', 'Surprisingly', 'Surrounding', 'Sushi', 'Sushithe', 'Susies', 'Susman', 'Swaddee', 'Swaddees', 'Swapmeet', 'Swedish', 'Sweeeeeeet', 'Sweet', 'Sylvia', 'Symphony', 'Syrup850', 'Szechuan', 'TART', 'TASTY', 'TBSP', 'TBird', 'TERRIBLE', 'TERRIFIC', 'TG', 'TGI', 'THANK', 'THATS', 'THING', 'THINK', 'THIRD', 'TINY', 'TIPPY', 'TJs', 'TLC', 'TONS', 'TRIED', 'TSA', 'TT', 'TUMS', 'TV', 'TVs', 'TWO', 'TX', 'Tabasco', 'Taberna', 'Table', 'Tables', 'Tacky', 'Taco', 'Tacos', 'Tagalog', 'Taggia', 'Taggio', 'Tailgating', 'Take', 'Takeout', 'Talk', 'Tam', 'Tan', 'Tannat', 'Tao', 'Taos', 'Tap', 'Tapas', 'Tapatio', 'Taquitos', 'Target', 'Targets', 'Tart', 'Tartes', 'Taste', 'Tastewise', 'Tasty', 'Tater', 'Tavern', 'Tavola', 'Taylor', 'Tboning', 'Tea', 'Teas', 'Technical', 'Techno', 'Teds', 'Teh', 'Tempe', 'Tempethis', 'Temple', 'Ten', 'Tenderloin', 'Tenders', 'Tequila', 'Terminal', 'Terrific', 'Tesoro', 'Tessios', 'TexMex', 'Texas', 'Thai', 'Thaiger', 'Thailand', 'Thais', 'Thank', 'Thankfully', 'Thanks', 'Thats', 'Theater', 'Theaters', 'Therapy', 'Theres', 'Theyd', 'Theyll', 'Theyre', 'Theyve', 'Thick', 'Thier', 'Thing', 'Things', 'Think', 'Thinking', 'Third', 'Thirsty', 'Thoroughly', 'Though', 'Thought', 'Thousand', 'Three', 'Threw', 'Throw', 'Thuan', 'Thumbs', 'Thunderbird', 'Thursday', 'Thus', 'Tia', 'Tias', 'Tilapia', 'Till', 'Tillys', 'Tilted', 'Time', 'Times', 'Timing', 'Tina', 'Tinto', 'Tip', 'Tire', 'Titanic', 'Toast', 'Today', 'Todays', 'Toes', 'Tofu', 'Tokyo', 'Told', 'Tolleson', 'Toluca', 'Tom', 'Tomato', 'Tomatoes', 'Tomb', 'Tommy', 'Toms', 'Tomstruly', 'Tonight', 'Tonkatsu', 'Tons', 'Tonys', 'Took', 'Tooooooo', 'Top', 'Topped', 'Tops', 'Torah', 'Torched', 'Torta', 'Tortilla', 'Toscana', 'Tostada', 'Tostadas', 'Total', 'Totally', 'Tote', 'Totonnos', 'Tots', 'Totties', 'Totts', 'Town', 'Towns', 'Tracks', 'Trader', 'Traditional', 'Traffic', 'Trail', 'Train', 'Training', 'Transylvania', 'Travel', 'TravelZoo', 'Traveling', 'Treatments', 'Tremendous', 'Tres', 'Tricks', 'Tried', 'Triple', 'Tron', 'Truck', 'True', 'Truly', 'Trust', 'Truth', 'Try', 'Trying', 'Tryst', 'Tshirt', 'Tsos', 'Tucked', 'Tucson', 'Tuesday', 'Tuesdays', 'Tullys', 'Tums', 'Tuna', 'Turf', 'Turkey', 'Turkish', 'Turn', 'Turned', 'Turning', 'Turns', 'Two', 'Typical', 'Typically', 'Tzatziki', 'U', 'UFC', 'UFCs', 'UMC', 'UNACCEPTABLE', 'UPDATE', 'UPDATED', 'US', 'USA', 'UYE', 'Ugh', 'Uhoh', 'Ultimate', 'Ultimately', 'Um', 'Una', 'Unbelievable', 'Uncle', 'Uncovered', 'Understand', 'Understandable', 'Unfortunately', 'Unfriendly', 'Unique', 'United', 'Unless', 'Unlike', 'UpScale', 'Update', 'Upon', 'Upsides', 'Upstairs', 'Uptown', 'Uquiel', 'Urciuolis', 'Us', 'Used', 'Userfriendly', 'Using', 'Usually', 'Utah', 'Uva', 'Uzbek', 'VEGAN', 'VH', 'VIP', 'VOILA', 'Valet', 'Valle', 'Valley', 'Value', 'Van', 'Vancouver', 'Vanilla', 'Vegan', 'Vegans', 'Vegas', 'Vegatables', 'Vegetable', 'Vegetarian', 'Vegetarians', 'Veggie', 'Veggies', 'Vegie', 'Venezias', 'Vera', 'Verdict', 'Vermont', 'Vesuvius', 'Veterans', 'Veuve', 'Via', 'Victoria', 'Video', 'Vienna', 'Viet', 'Vietnam', 'Vietnamese', 'Vig', 'Vigs', 'Village', 'Villalpandos', 'Vine', 'Viper', 'Vipra', 'Virtually', 'Visa', 'Vision', 'Visited', 'Vittles', 'Vodka', 'Vogue', 'Vortex', 'Voted', 'W', 'WALLET', 'WARNING', 'WAY', 'WENT', 'WHITE', 'WHOLE', 'WIFI', 'WOOHOO', 'WOULD', 'WOW', 'WRAP', 'WTF', 'WTH', 'WWE', 'WYSIWYG', 'Waffle', 'Waffles', 'Wagamamalike', 'Waikiki', 'Wait', 'Waited', 'Waiter', 'Waiters', 'Waitress', 'WalMarts', 'Walk', 'Walked', 'Walking', 'Wall', 'Walls', 'Wally', 'Walmart', 'Walter', 'Wandas', 'Want', 'Wanted', 'Wanting', 'Warning', 'Wars', 'Wash', 'Washington', 'Wasnt', 'Watch', 'Water', 'Waters', 'Wavering', 'Wax', 'Way', 'Weak', 'Web', 'Wed', 'Wednesday', 'Wednesdays', 'Week', 'Weekend', 'Weekends', 'Wei', 'Weil', 'Weird', 'Weirdly', 'Weis', 'Weitheir', 'Welcome', 'Well', 'Wellit', 'Wellused', 'Wendy', 'Wendys', 'Went', 'Wesabi', 'West', 'Westcor', 'Westgate', 'Westin', 'Westside', 'Westward', 'Weve', 'Whaaat', 'Wham', 'Whatever', 'Whats', 'Whatza', 'Wheaties', 'Whenever', 'Wheres', 'Whew', 'WhewI', 'White', 'Whites', 'Whoa', 'Whoever', 'Whole', 'Whoop', 'Whopper', 'WiFi', 'Wicked', 'Wiener', 'Wienerschnitzel', 'Wife', 'Wifi', 'Wii', 'Wikipedia', 'Wilbur', 'Wild', 'Wildflower', 'Willo', 'Willos', 'Willothatwas', 'WinTel', 'Windows', 'Windsor', 'Windy', 'Wine', 'WineDownWednesday', 'Wines', 'Wings', 'WinterI', 'Winters', 'Wire', 'Wisconsin', 'Wiseguy', 'Wish', 'Wished', 'Within', 'Without', 'Woe', 'Wonderful', 'Wonderland', 'Wont', 'Wood', 'Woodys', 'Woohoo', 'Woos', 'Woot', 'Word', 'WorkI', 'Works', 'World', 'Worldit', 'Worlds', 'Worst', 'Worth', 'Would', 'Wouldacouldashoulda', 'Wouldnt', 'Wound', 'Wow', 'Wowza', 'Wrap', 'Wraps', 'Wrestlemania', 'Wrong', 'X', 'XL', 'Xeo', 'Xona', 'Xtreme', 'YAY', 'YCs', 'YEAH', 'YES', 'YUM', 'YUMMIE', 'YUMMMMMM', 'YUMMY', 'Ya', 'Yankee', 'Yard', 'Yardhouse', 'Yasu', 'Yawn', 'Yay', 'Ye', 'Yea', 'Yeah', 'Years', 'Yeesh', 'Yelp', 'Yelped', 'Yelper', 'Yelpers', 'Yelping', 'Yen', 'Yeos', 'Yep', 'Yes', 'Yet', 'Yeung', 'Yikes', 'Yogis', 'YogurtBuilderz', 'Yogurtland', 'Yogurtology', 'Yolis', 'York', 'Youd', 'Youll', 'Youre', 'Youve', 'Yuck', 'Yui', 'Yukon', 'Yum', 'Yummy', 'Yuphas', 'Yupthats', 'Z', 'Zin', 'Zinburger', 'Zinc', 'Zinfandel', 'Zipps', 'Zoes', 'Zone', 'abandoned', 'abilities', 'ability', 'able', 'abode', 'aboutChicken', 'aboutI', 'aboveaverage', 'abroad', 'absent', 'absolute', 'absolutely', 'absorbed', 'absurdly', 'abundance', 'abundant', 'abundantly', 'abysmal', 'accent', 'accents', 'accept', 'acceptable', 'accepted', 'access', 'accessible', 'accessories', 'accident', 'accidentally', 'accidentily', 'acclaimed', 'accomidating', 'accommodate', 'accommodating', 'accomodate', 'accomodating', 'accompanied', 'accompaniments', 'accompany', 'accompanying', 'accomplice', 'accomplished', 'accomplishment', 'according', 'accordingly', 'account', 'accounting', 'accurate', 'accustomed', 'ace', 'ache', 'achieved', 'acidic', 'acknowledge', 'acknowledged', 'acknowledgement', 'acknowledgment', 'ackward', 'acousticians', 'acoustics', 'acquire', 'acquired', 'across', 'act', 'acted', 'acting', 'action', 'actions', 'active', 'actively', 'activities', 'acts', 'actual', 'actuality', 'actually', 'ad', 'adaquate', 'add', 'addage', 'added', 'addict', 'addictI', 'addicted', 'addicting', 'addiction', 'addictive', 'addicts', 'adding', 'addins', 'addition', 'additional', 'additionally', 'additions', 'address', 'addressed', 'addressing', 'adds', 'adequate', 'adequatelythey', 'adhere', 'adhered', 'adjacent', 'adjectives', 'adjusted', 'admired', 'admission', 'admissions', 'admit', 'admitted', 'adobada', 'adobo', 'adopt', 'adopted', 'adorable', 'adorably', 'adore', 'adored', 'adores', 'adovada', 'ads', 'adult', 'adults', 'advance', 'advantage', 'adventure', 'adventurous', 'adventurousness', 'advertised', 'advertized', 'advice', 'advise', 'advised', 'adviser', 'advocate', 'aerobics', 'aesthetically', 'aesthetician', 'affair', 'affected', 'affiliate', 'affiliated', 'affirming', 'affix', 'afford', 'affordable', 'affordablypriced', 'afloat', 'aforementioned', 'afraid', 'afterIt', 'afterall', 'afternoon', 'afternoons', 'aftertaste', 'afterwards', 'afterwords', 'againespecially', 'againthough', 'agave', 'age', 'aged', 'agenda', 'agent', 'ages', 'agesCheers', 'aggravated', 'aggressive', 'aging', 'ago', 'agony', 'agoyou', 'agree', 'agreeable', 'agreed', 'agreement', 'ah', 'ahead', 'ahi', 'aid', 'aight', 'aint', 'aioli', 'air', 'aired', 'airline', 'airlines', 'airlinesfor', 'airlinesunless', 'airplane', 'airplanes', 'airport', 'airports', 'airportso', 'airpot', 'airways', 'airy', 'aisle', 'aisles', 'aka', 'akitas', 'aknowledge', 'al', 'ala', 'alarm', 'alarming', 'alas', 'albeit', 'albiet', 'albino', 'albondiga', 'album', 'alcohol', 'alcoholic', 'alcoholics', 'ale', 'alfafa', 'alfredo', 'alike', 'alive', 'allage', 'allaround', 'allbut', 'allday', 'allergic', 'allergies', 'allergy', 'alley', 'allinall', 'allot', 'allotment', 'allotted', 'allowed', 'allowing', 'allows', 'allrecipescom', 'alls', 'allure', 'allyoucandrink', 'allyoucaneat', 'alma', 'almond', 'almonds', 'almost', 'alone', 'along', 'alongside', 'aloof', 'alot', 'alphabet', 'alrady', 'already', 'alright', 'alrightwe', 'also', 'altered', 'alternate', 'alternating', 'alternative', 'alternatives', 'although', 'altogether', 'aluminum', 'alwasy', 'always', 'amateur', 'amaze', 'amazed', 'amazing', 'amazingI', 'amazingly', 'amber', 'ambiance', 'ambiancebut', 'ambience', 'ambient', 'ambiguous', 'amendment', 'amenities', 'america', 'american', 'americano', 'amicably', 'amidst', 'amigo', 'amoeba', 'among', 'amongst', 'amount', 'amountapparently', 'amounts', 'amoxicilon', 'amphitheatre', 'ample', 'amused', 'amusing', 'analogous', 'analysis', 'analytical', 'analyzing', 'anchor', 'anchovies', 'ancient', 'andor', 'ands', 'angel', 'angels', 'anglaise', 'angrier', 'angry', 'angus', 'anh', 'animal', 'animals', 'ankle', 'anniversary', 'annoyance', 'annoyed', 'annoying', 'annoyingly', 'annual', 'anonymity', 'another', 'answer', 'answered', 'answers', 'antechamber', 'antenna', 'antennas', 'anti', 'antibiotics', 'anticipate', 'anticipated', 'antics', 'antigay', 'antipasto', 'antiquated', 'antismoking', 'anxious', 'anxiously', 'anybody', 'anyday', 'anyhow', 'anymore', 'anymoremeans', 'anyone', 'anyones', 'anything', 'anytime', 'anyway', 'anyways', 'anywhere', 'aok', 'aokay', 'aolioli', 'apart', 'apartment', 'apologetic', 'apologetically', 'apologies', 'apologize', 'apologized', 'apology', 'app', 'apparel', 'apparenly', 'apparently', 'appeal', 'appealing', 'appeals', 'appear', 'appearance', 'appearances', 'appeared', 'appears', 'appease', 'appetite', 'appetites', 'appetizer', 'appetizers', 'appetizersalad', 'appetizing', 'appitizers', 'apple', 'apples', 'appletini', 'appliances', 'application', 'applied', 'applies', 'apply', 'appointed', 'appointment', 'appreciate', 'appreciated', 'appreciates', 'appreciation', 'apprehend', 'approach', 'approached', 'approaches', 'approed', 'appropriate', 'appropriately', 'apps', 'appspecial', 'apricot', 'apron', 'aprons', 'aps', 'aptly', 'apts', 'aqua', 'arcade', 'arching', 'architect', 'architecture', 'area', 'areas', 'areathese', 'arent', 'arepas', 'argued', 'argument', 'arizona', 'arm', 'armor', 'armorallin', 'arms', 'arnold', 'aroma', 'aromas', 'around', 'aroundnot', 'aroundso', 'arrangement', 'array', 'arrests', 'arrival', 'arrive', 'arriveanother', 'arrived', 'arrives', 'arriving', 'arrogance', 'art', 'artery', 'artichoke', 'artichokes', 'article', 'artificial', 'artificially', 'artisan', 'artisanal', 'artist', 'arts', 'artsy', 'artwork', 'arugala', 'arugula', 'asada', 'ashamed', 'ashtray', 'asian', 'aside', 'ask', 'asked', 'asking', 'asks', 'asleep', 'asparagus', 'aspargus', 'aspect', 'aspects', 'aspires', 'ass', 'assemble', 'assembled', 'assembly', 'assessment', 'asset', 'asshatness', 'asshole', 'assigned', 'assignment', 'assist', 'assistance', 'assisted', 'asslevel', 'associates', 'assorted', 'assortment', 'assortments', 'assume', 'assumed', 'assuming', 'assured', 'assy', 'asthetic', 'asthma', 'ate', 'athlete', 'athletes', 'athletic', 'atleast', 'atmosphere', 'atmosphererelaxing', 'atmospheric', 'atop', 'atrium', 'atrocious', 'attach', 'attached', 'attack', 'attacted', 'attempt', 'attempted', 'attempting', 'attempts', 'attend', 'attendant', 'attendants', 'attended', 'attendees', 'attending', 'attends', 'attention', 'attentive', 'attentively', 'attentiveness', 'attire', 'attired', 'attitude', 'attitudes', 'attract', 'attracted', 'attracting', 'attraction', 'attractions', 'attractive', 'attracts', 'au', 'audience', 'audiences', 'audio', 'auditor', 'auditorium', 'aunt', 'auntshrimp', 'autentico', 'authentic', 'authenticity', 'auto', 'autographs', 'automated', 'automatic', 'automatically', 'autopay', 'avacado', 'avail', 'available', 'ave', 'avenue', 'average', 'averaged', 'avid', 'avocado', 'avocados', 'avoid', 'avoided', 'avoiding', 'awaiting', 'awarded', 'aware', 'awareness', 'away', 'awesome', 'awesomeness', 'awful', 'awfully', 'awhatukee', 'awhile', 'awkward', 'awkwardly', 'awkwardlyIm', 'awning', 'aybe', 'az88', 'azcentralcom', 'b', 'b4', 'baba', 'babies', 'baby', 'back', 'backboards', 'backed', 'background', 'backgrounds', 'backing', 'backit', 'backpack', 'backs', 'backside', 'backup', 'backups', 'backwards', 'backyard', 'baco', 'bacon', 'baconnot', 'bad', 'badin', 'badly', 'bag', 'bagel', 'bagels', 'baggage', 'bagged', 'bagging', 'bagofood', 'bags', 'baguette', 'baileys', 'bailout', 'baja', 'bake', 'baked', 'bakeries', 'bakery', 'baking', 'balance', 'balanced', 'balcony', 'ball', 'baller', 'ballesque', 'ballistic', 'balloon', 'ballpark', 'balls', 'balm', 'balsamic', 'bamboo', 'banana', 'bananas', 'band', 'bands', 'bang', 'bangers', 'banging', 'bangs', 'banished', 'bank', 'banks', 'banner', 'bar', 'barIf', 'barbacoa', 'barbecue', 'barbeque', 'barber', 'barbut', 'bare', 'barefoot', 'barely', 'barely100lbs', 'barely18', 'barflys', 'barfood', 'barfront', 'bargain', 'bargained', 'bargrill', 'barista', 'baristas', 'baritone', 'barmaid', 'barn', 'barometer', 'barpub', 'barrels', 'barrier', 'barring', 'barrow', 'bars', 'barsbreweries', 'barsclubs', 'bartender', 'bartenders', 'bartending', 'bartype', 'base', 'baseball', 'based', 'basement', 'basepads', 'bases', 'bash', 'bashing', 'basic', 'basically', 'basics', 'basil', 'basis', 'basket', 'basketball', 'basketbut', 'baskets', 'bass', 'bastions', 'bat', 'bathing', 'bathrobes', 'bathroom', 'bathroomat', 'bathrooms', 'bathtub', 'batman', 'bats', 'batter', 'battered', 'battery', 'batting', 'battle', 'baud', 'bay', 'bbq', 'bbqI', 'bc', 'bday', 'beach', 'bean', 'beancarrotonion', 'beans', 'bear', 'bearable', 'bearers', 'bears', 'beast', 'beat', 'beatiful', 'beating', 'beats', 'beaty', 'beautiful', 'beautifulbut', 'beauty', 'became', 'beckons', 'become', 'becomes', 'becoming', 'becuse', 'bed', 'bedroom', 'beds', 'bee', 'beef', 'beefeater', 'beefneck', 'beefy', 'beehive', 'beeline', 'beenbut', 'beer', 'beers', 'beertasting', 'beerwhatever', 'beet', 'beets', 'beforehand', 'began', 'beggars', 'begin', 'beginners', 'beginning', 'begins', 'behalf', 'behave', 'behavior', 'behind', 'behing', 'beignet', 'belated', 'belief', 'believe', 'bell', 'bellini', 'bellman', 'bellowing', 'belly', 'belongs', 'beloved', 'belt', 'belts', 'bench', 'benches', 'bend', 'beneath', 'benedict', 'benefit', 'benefited', 'bent', 'berries', 'berrimundi', 'berry', 'bertos', 'beside', 'besides', 'best', 'bestselling', 'besweet', 'bet', 'betrays', 'bets', 'better', 'betterbigger', 'betting', 'beverage', 'beverages', 'beware', 'beyond', 'beyondextraordinary', 'bf', 'bfast', 'bias', 'biased', 'bibimbap', 'bicycle', 'biege', 'big', 'bigMeh', 'bigger', 'biggest', 'biggie', 'bigmaybe', 'bike', 'bikers', 'biking', 'bill', 'billions', 'bills', 'biltmore', 'bin', 'bird', 'birdcage', 'birdie', 'birds', 'biriyani', 'birthday', 'biryani', 'biscottes', 'biscuit', 'biscuits', 'bison', 'bisque', 'bistro', 'bit', 'bitGive', 'bitch', 'bitches', 'bitchez', 'bitchy', 'bite', 'biteHey', 'bites', 'bitesized', 'biting', 'bits', 'bitter', 'biz', 'bizarre', 'blaaaah', 'black', 'blackberries', 'blackberry', 'blackbottom', 'blacked', 'bladder', 'bladders', 'blades', 'blah', 'blame', 'blaming', 'bland', 'blandest', 'blandish', 'blank', 'blanket', 'blanketed', 'blankets', 'blaring', 'blasphemous', 'blast', 'blasting', 'blatantly', 'blazed', 'blazing', 'bleak', 'blend', 'blended', 'blending', 'blends', 'blessingugh', 'bleu', 'blew', 'blinchik', 'blink', 'blinking', 'bliss', 'blitzed', 'block', 'blocked', 'blocks', 'blogs', 'blonde', 'blood', 'bloody', 'blossom', 'blossoming', 'blouse', 'blow', 'blower', 'blowing', 'blown', 'blownup', 'blows', 'blue', 'blueberries', 'blueberry', 'blues', 'bluesman', 'bluethemed', 'blunt', 'bmovies', 'board', 'boarded', 'boarding', 'boasted', 'boasting', 'boasts', 'boat', 'boba', 'bobas', 'bocce', 'bode', 'bodied', 'bodies', 'body', 'boiled', 'boiling', 'bok', 'bold', 'bomb', 'bombandgouge', 'bombarded', 'bombers', 'bombs', 'bonafide', 'bone', 'boneless', 'bones', 'bonsai', 'bonus', 'boo', 'boob', 'boobies', 'book', 'booked', 'booking', 'bookmans', 'books', 'bookssuppliments', 'bookstore', 'booming', 'boosted', 'boot', 'booth', 'booths', 'bootleged', 'boots', 'booze', 'booze50', 'boozers', 'boozing', 'borderline', 'bored', 'boring', 'born', 'borracho', 'borrow', 'borrowed', 'boss', 'bother', 'bothered', 'bothering', 'bothers', 'bothersome', 'bottle', 'bottled', 'bottleneck', 'bottles', 'bottom', 'bottomless', 'bought', 'boulders', 'bounce', 'bouncer', 'bouncers', 'bouncy', 'bound', 'bourbon', 'boutique', 'bow', 'bowl', 'bowling', 'bowls', 'bows', 'box', 'boxes', 'boy', 'boycotted', 'boyfriend', 'boyfriends', 'boys', 'braciole', 'brag', 'bragging', 'brain', 'branches', 'branching', 'brand', 'branded', 'brands', 'brandy', 'brat', 'brats', 'bratwurst', 'brau', 'brave', 'braved', 'bread', 'breadboard', 'breadcrumbs', 'breaded', 'breadeddeepfried', 'breading', 'breads', 'breadstick', 'break', 'breaker', 'breakfast', 'breakfasts', 'breaking', 'breakroom', 'breaks', 'breast', 'breath', 'breathe', 'breathed', 'breathing', 'breathtaking', 'breech', 'breeze', 'brew', 'brewed', 'breweddespite', 'breweries', 'brewery', 'brewing', 'brewmaster', 'brews', 'brewskis', 'bricabrac', 'brick', 'bridal', 'bridge', 'bridgein', 'brie', 'brieI', 'brief', 'briefed', 'bright', 'brightly', 'brilliantly', 'brim', 'bring', 'bringing', 'brings', 'brisket', 'britches', 'broad', 'broadcast', 'broader', 'broccoli', 'brocolli', 'broke', 'broken', 'brokenhearted', 'bros', 'broth', 'brother', 'brothers', 'brothsoup', 'brought', 'brow', 'brown', 'browner', 'brownie', 'brownies', 'browning', 'brownish', 'brownishblack', 'browns', 'brows', 'browse', 'browsed', 'browsing', 'browsingfriendly', 'bruchetta', 'bruin', 'brule', 'brulee', 'brunch', 'brunette', 'bruscetta', 'bruschetta', 'brush', 'brushetta', 'brusque', 'brussel', 'btw', 'bu', 'bubbles', 'buck', 'buckaroos', 'bucket', 'buckfifty', 'bucks', 'buckwheat', 'bud', 'buddies', 'buddy', 'budget', 'buds', 'bueno', 'buffalo', 'buffet', 'buffets', 'buffetstyle', 'bug', 'bugers', 'bugged', 'buggers', 'bugs', 'build', 'building', 'buildings', 'buildyourown', 'built', 'bulge', 'bulgogi', 'bulk', 'bulky', 'bull', 'bullet', 'bullhorn', 'bullshit', 'bummed', 'bummer', 'bump', 'bumped', 'bumper', 'bumping', 'bumpy', 'bums', 'bun', 'bunch', 'bungalow', 'bunker', 'bunkering', 'buns', 'burger', 'burgerAngus', 'burgerness', 'burgerreluctantly', 'burgers', 'buried', 'burlesqueish', 'burlesquestyle', 'burn', 'burned', 'burner', 'burning', 'burns', 'burnt', 'burrata', 'burrito', 'burritos', 'burro', 'burst', 'bursting', 'bursts', 'bus', 'buschetta', 'buses', 'busier', 'busiest', 'business', 'businesses', 'busser', 'busserfoodrunner', 'buster', 'bustling', 'busy', 'butI', 'butt', 'butter', 'butterburger', 'buttercream', 'butterfat', 'buttering', 'buttermilk', 'butternut', 'butterscotch', 'buttery', 'buttload', 'button', 'buttondowns', 'buttons', 'butts', 'butwho', 'buy', 'buying', 'buys', 'buzz', 'buzzed', 'buzzer', 'buzzers', 'bypass', 'bys', 'c', 'cab', 'cabbage', 'cabbagecarrotpotato', 'cabin', 'cabinets', 'cabs', 'cackling', 'caesar', 'caf', 'cafe', 'cafes', 'cafeteria', 'cafeteriastyle', 'caffeinated', 'caffeine', 'caffine', 'café', 'cage', 'caicos', 'cajun', 'cake', 'cakedon', 'cakes', 'calabacitas', 'calamari', 'calamaris', 'calc', 'calendar', 'cali', 'caliber', 'call', 'called', 'calling', 'callouses', 'calls', 'calm', 'calming', 'caloric', 'calorie', 'caloriefree', 'calories', 'calzone', 'calzones', 'cam', 'camaraderie', 'cambodian', 'came', 'camelback', 'camera', 'camp', 'camper', 'camperI', 'campus', 'canal', 'cancel', 'cancelled', 'cancer', 'candied', 'candies', 'candieschocolate', 'candle', 'candles', 'candy', 'canned', 'cannelini', 'cannot', 'cans', 'cant', 'cantaloupe', 'cantina', 'canvas', 'capacity', 'caper', 'capers', 'capital', 'capitalism', 'capitalize', 'caponata', 'capped', 'cappuccino', 'cappucinothis', 'caprese', 'capris', 'captioning', 'captivate', 'captive', 'captured', 'car', 'carafe', 'caramel', 'caramelized', 'caramelizing', 'carb', 'carbombs', 'carbon', 'carbs', 'card', 'cardboard', 'cardboardy', 'cardemom', 'cardinal', 'cardio', 'cards', 'care', 'cared', 'career', 'careful', 'carefully', 'carelessly', 'cares', 'caring', 'carmel', 'carmelized', 'carne', 'carnitas', 'carnival', 'carnivore', 'carp', 'carpaccio', 'carriers', 'carries', 'carrot', 'carrotbean', 'carrots', 'carry', 'carrying', 'carryout', 'cars', 'cart', 'carte', 'cartomb', 'cartoon', 'carts', 'casa', 'case', 'cases', 'cash', 'cashews', 'cashier', 'cashiers', 'cashola', 'casino', 'casseroles', 'cast', 'casual', 'casually', 'cat', 'catalogI', 'catalyst', 'catch', 'catching', 'categories', 'categorizing', 'category', 'categoryAs', 'cater', 'catered', 'catering', 'caterpillar', 'caters', 'caught', 'cauliflower', 'cause', 'caused', 'causes', 'causing', 'caution', 'cave', 'caveman', 'cavernous', 'caves', 'cavity', 'cayou', 'ceasar', 'ceiling', 'ceilings', 'celebrate', 'celebrated', 'celebration', 'celebrations', 'celebratory', 'celery', 'celiacs', 'cell', 'cement', 'censored', 'cent', 'center', 'centered', 'centerfield', 'centerpieces', 'centers', 'central', 'centralized', 'centrally', 'cents', 'century', 'cereal', 'cereals', 'certain', 'certainly', 'certificate', 'certified', 'cest', 'ceviche', 'chai', 'chain', 'chainlike', 'chains', 'chainsoneverycorner', 'chainy', 'chair', 'chairs', 'challenge', 'challenged', 'challenging', 'champagne', 'chance', 'chances', 'chandeliers', 'change', 'changed', 'changeofpace', 'changer', 'changes', 'changing', 'channel', 'channels', 'chaos', 'char', 'character', 'characters', 'characterwas', 'charbroiled', 'charburger', 'charge', 'charged', 'charges', 'charging', 'charm', 'charming', 'charred', 'chase', 'chashu', 'chasing', 'chat', 'chatnot', 'chatted', 'chatter', 'chatting', 'chatty', 'cheap', 'cheaper', 'cheapest', 'cheat', 'check', 'checked', 'checkedin', 'checkers', 'checkin', 'checking', 'checkout', 'checks', 'cheddar', 'cheerful', 'cheerfully', 'cheering', 'cheerios', 'cheerleader', 'cheers', 'cheery', 'cheese', 'cheeseburger', 'cheeseburgerfries', 'cheeseburgers', 'cheesecake', 'cheeseit', 'cheeses', 'cheesesteak', 'cheesey', 'cheesiness', 'cheesy', 'cheezy', 'chef', 'chefowner', 'chefs', 'chemically', 'chengs', 'cherish', 'cherries', 'cherry', 'chest', 'chevre', 'chew', 'chewed', 'chewing', 'chewy', 'chic', 'chicas', 'chick', 'chickem', 'chicken', 'chickenNice', 'chickens', 'chickenyears', 'chickpea', 'chickpeas', 'chicks', 'chiefly', 'chil', 'chilantro', 'chilaquiles', 'child', 'childhood', 'childish', 'children', 'chile', 'chiles', 'chili', 'chilie', 'chilies', 'chill', 'chilled', 'chillies', 'chilling', 'chilly', 'chime', 'chimi', 'chimichanga', 'chimichangas', 'chimichangs', 'chimis', 'chinese', 'chip', 'chipolte', 'chipotle', 'chipper', 'chipping', 'chips', 'chipssalsa', 'chirashi', 'chirping', 'chistorra', 'chit', 'chiuaua', 'chive', 'chloride', 'chock', 'chocolate', 'chocolates', 'chocolatey', 'choice', 'choices', 'choicesmothered', 'choked', 'chokehold', 'choking', 'choose', 'choosing', 'chop', 'chopped', 'chopsticks', 'chord', 'chore', 'chorizo', 'chorizoegg', 'chose', 'chosen', 'choux', 'chow', 'chowder', 'choy', 'christmas', 'chrome', 'chuckle', 'chuckled', 'chucks', 'chumps', 'chundering', 'chunderplease', 'chunk', 'chunks', 'chunky', 'church', 'churros', 'chute', 'chutney', 'chutneys', 'chx', 'ci', 'ciabatta', 'cider', 'cigar', 'cigarette', 'cigarettes', 'cigarettesthere', 'cigars', 'cilantro', 'cinammon', 'cinch', 'cinder', 'cinema', 'cinematic', 'cinnamon', 'circle', 'circleK', 'circles', 'circular', 'circulating', 'circulation', 'circumstance', 'circumstances', 'circus', 'cities', 'citizen', 'citrus', 'citrusbalsamic', 'city', 'civic', 'clad', 'claim', 'claimed', 'claims', 'clam', 'clambering', 'clams', 'clanging', 'clarification', 'clarify', 'clarity', 'class', 'classes', 'classic', 'classics', 'classier', 'classified', 'classify', 'classy', 'clause', 'clay', 'clean', 'cleanbut', 'cleaned', 'cleaner', 'cleaners', 'cleanest', 'cleaning', 'cleanish', 'cleanliness', 'cleanly', 'cleansers', 'cleanup', 'clear', 'clearance', 'cleared', 'clearly', 'cleavage', 'clerk', 'clerks', 'clever', 'cleverly', 'cliche', 'click', 'client', 'clientele', 'clients', 'cliff', 'climb', 'climbing', 'climes', 'clogging', 'close', 'closed', 'closely', 'closer', 'closes', 'closest', 'closet', 'closing', 'closingtypical', 'closure', 'cloth', 'clothed', 'clothes', 'clothesincluding', 'clothier', 'clothing', 'cloths', 'cloudy', 'cloves', 'club', 'clubbers', 'clubbersor', 'clubbing', 'clubby', 'clubhouse', 'clubs', 'clue', 'clued', 'clues', 'clump', 'clunk', 'clustering', 'clusters', 'cluttering', 'cmon', 'co', 'coalesce', 'coast', 'coaster', 'coat', 'coated', 'coating', 'coats', 'cob', 'cobb', 'cobbler', 'cochinita', 'cocktail', 'cocktails', 'cocoa', 'coconut', 'coconuts', 'coctail', 'code', 'coerce', 'coffee', 'coffeehouse', 'coffeehouses', 'coffeenot', 'coffeeshops', 'coin', 'coincidence', 'coke', 'colby', 'cold', 'colder', 'cole', 'coleslaw', 'collages', 'collapse', 'collard', 'colleague', 'collected', 'collection', 'collections', 'college', 'collegey', 'collegiate', 'collumns', 'color', 'colored', 'colorful', 'coloring', 'colors', 'colorway', 'colorways', 'colossal', 'com', 'coma', 'comanage', 'combination', 'combinations', 'combine', 'combined', 'combining', 'combo', 'comboplatter', 'combos', 'come', 'comedy', 'comes', 'comfort', 'comfortable', 'comfortably', 'comforting', 'comfy', 'comic', 'comical', 'comics', 'coming', 'command', 'commensurate', 'comment', 'commented', 'commenter', 'comments', 'commercial', 'commercialized', 'commitment', 'commitments', 'committed', 'committee', 'committment', 'common', 'communal', 'communicating', 'community', 'commute', 'commuters', 'comp', 'compact', 'compacted', 'companies', 'companion', 'companions', 'company', 'companys', 'comparable', 'compare', 'compared', 'compares', 'comparing', 'comparison', 'compartmentalized', 'compassionate', 'compatriot', 'comped', 'compelling', 'compels', 'compensate', 'compete', 'competent', 'competently', 'competing', 'competition', 'competitive', 'competitors', 'competiveness', 'complain', 'complained', 'complaining', 'complaint', 'complaints', 'complement', 'complementary', 'complements', 'complete', 'completed', 'completely', 'completes', 'completing', 'complex', 'complex18', 'complexes', 'compliant', 'complicated', 'complications', 'compliment', 'complimentary', 'complimented', 'compliments', 'comply', 'component', 'composed', 'composing', 'composition', 'compound', 'compounded', 'comprehend', 'compressed', 'comprised', 'compulsion', 'computer', 'computers', 'computerwe', 'con', 'concept', 'concern', 'concerned', 'concerns', 'concert', 'concertmusic', 'concerts', 'concession', 'concessions', 'conciliation', 'concise', 'conclude', 'conclusion', 'concoction', 'concoctions', 'concourse', 'concrete', 'condensed', 'condescending', 'condiment', 'condimentdrink', 'condiments', 'condition', 'conditioned', 'conditioner', 'conditions', 'conducive', 'conductor', 'conelike', 'confection', 'conference', 'confess', 'confidence', 'confident', 'confidently', 'confirmed', 'confirms', 'confiscated', 'confit', 'confounds', 'confused', 'confusing', 'confusion', 'congealy', 'congee', 'congeniality', 'congratulate', 'congregate', 'connected', 'connecting', 'connection', 'conniption', 'connoisseur', 'conquering', 'cons', 'conscience', 'conscious', 'consecutive', 'consider', 'considerably', 'considerate', 'considerately', 'consideration', 'considered', 'considering', 'consist', 'consistant', 'consistantly', 'consisted', 'consistency', 'consistent', 'consistently', 'consisting', 'consists', 'constant', 'constantly', 'constrained', 'constraints', 'construction', 'consult', 'consulted', 'consumable', 'consume', 'consumed', 'consumer', 'consumers', 'consumes', 'consuming', 'contact', 'contacted', 'contained', 'container', 'containers', 'contains', 'contemplate', 'contemplated', 'contemporary', 'content', 'contents', 'context', 'contextless', 'continental', 'continually', 'continue', 'continued', 'continues', 'continuesoh', 'continuing', 'continuously', 'contract', 'contradiction', 'contradictionokay', 'contradictory', 'contraptions', 'contrast', 'control', 'convenience', 'convenient', 'conveniently', 'convention', 'conversation', 'conversational', 'conversations', 'converse', 'conversion', 'converstaion', 'converted', 'convey', 'conveyer', 'convience', 'convinced', 'convo', 'cook', 'cooked', 'cooker', 'cookie', 'cookieand', 'cookiecutter', 'cookiemore', 'cookies', 'cookin', 'cooking', 'cookout', 'cooks', 'cool', 'cooler', 'coolers', 'cooling', 'coolness', 'coordinate', 'coordination', 'copied', 'copious', 'coppers', 'cops', 'copy', 'core', 'cork', 'corking', 'corn', 'cornbread', 'cornbreadall', 'corned', 'corner', 'corners', 'cornholeEither', 'cornrelish', 'corporate', 'corporateowned', 'corporatey', 'corpse', 'correct', 'corrected', 'correctly', 'correlate', 'corrosion', 'cos', 'cosistent', 'cost', 'costing', 'costs', 'costume', 'cotija', 'cottage', 'cotton', 'couch', 'couches', 'cougaresque', 'cougars', 'coughed', 'could', 'couldnt', 'couldve', 'counselor', 'count', 'counted', 'counter', 'counterbalance', 'counterparts', 'counters', 'countless', 'countries', 'country', 'countrydrool', 'countrys', 'countryside', 'counts', 'county', 'couple', 'coupled', 'couples', 'coupon', 'coupons', 'courage', 'course', 'courses', 'court', 'courteous', 'courtesy', 'courts', 'courtshe', 'courtyard', 'courtyards', 'couscous', 'cousin', 'cover', 'coverage', 'covered', 'covering', 'covers', 'cowboy', 'cowboyish', 'cowboys', 'cowgirls', 'coworker', 'coworkers', 'cows', 'coyote', 'cozy', 'crab', 'crabcake', 'crabcakes', 'crack', 'cracked', 'cracker', 'crackers', 'cracks', 'craft', 'crafts', 'crammed', 'cramming', 'cramped', 'cranberries', 'cranberry', 'crap', 'crapola', 'crappier', 'crappy', 'craptastic', 'crapthey', 'crash', 'crashed', 'crashers', 'crave', 'craving', 'cravings', 'crawfish', 'crawl', 'crayons', 'craziness', 'crazy', 'cream', 'creamcolored', 'creaminess', 'creamsicle', 'creamy', 'create', 'created', 'creates', 'createyourown', 'creating', 'creation', 'creations', 'creative', 'creativity', 'cred', 'credit', 'credited', 'creep', 'creeps', 'creepy', 'creme', 'creole', 'creosotetasting', 'crepe', 'crepes', 'crew', 'crickets', 'criminis', 'cringe', 'cripsy', 'crisis', 'crisp', 'crisped', 'crisper', 'crispier', 'crispiness', 'crisps', 'crispy', 'criteria', 'critic', 'critical', 'criticisms', 'critiques', 'critters', 'croissant', 'crop', 'croquette', 'cross', 'crossed', 'crosswalk', 'crostini', 'crotchety', 'croutons', 'crow', 'crowd', 'crowded', 'crowdedthey', 'crowding', 'crowds', 'crowed', 'crown', 'crucial', 'crudo', 'cruise', 'cruised', 'crumbfree', 'crumbled', 'crumbles', 'crumbs', 'crunch', 'crunched', 'crunchy', 'crunchyunderdone', 'crush', 'crushed', 'crushing', 'crust', 'crusted', 'crusts', 'crustso', 'crusty', 'cry', 'crying', 'crystal', 'crystals', 'cubes', 'cucumber', 'cucumbers', 'cuilichi', 'cuisine', 'culichi', 'culinary', 'cult', 'cultural', 'culture', 'culturesethnic', 'cup', 'cupcake', 'cupcakeand', 'cupcakecan', 'cupcakes', 'cupcakesnot', 'cupcakesreally', 'cups', 'curb', 'curd', 'curds', 'cure', 'curfew', 'curious', 'curled', 'curly', 'currency', 'current', 'currently', 'curried', 'curries', 'currly', 'curry', 'currys', 'curse', 'cursed', 'cursor', 'curt', 'curtain', 'curtains', 'curved', 'cussed', 'custard', 'custom', 'customer', 'customers', 'customersaka', 'customersinsuchahurry', 'customs', 'cut', 'cute', 'cutest', 'cutesy', 'cuts', 'cutter', 'cutting', 'cuz', 'cycle', 'cylindershaped', 'cylindrical', 'cynical', 'da', 'dad', 'dadaged', 'dads', 'daikon', 'daily', 'daiquiri', 'dairy', 'dam', 'damage', 'damaged', 'dammit', 'damn', 'damned', 'damnit', 'damper', 'dance', 'dancefloor', 'dancer', 'dancers', 'dancing', 'dang', 'dangerous', 'dangerously', 'dark', 'darker', 'darkness', 'darn', 'dart', 'darts', 'dash', 'date', 'dated', 'dates', 'datish', 'daugher', 'daughter', 'daughters', 'daunting', 'day', 'daymorning', 'daynight', 'days', 'daytime', 'dayweek', 'dazed', 'dazzling', 'dbag', 'de', 'dead', 'deadbolted', 'deaf', 'deal', 'dealing', 'deals', 'dealt', 'dear', 'dearly', 'death', 'debatable', 'debate', 'debating', 'debit', 'debris', 'dec', 'decade', 'decadent', 'decaf', 'deceiving', 'decency', 'decent', 'decently', 'decenttobland', 'deceptive', 'decide', 'decided', 'decidedly', 'decidely', 'deciding', 'decipher', 'decision', 'decisions', 'deck', 'decker', 'declarations', 'declare', 'decline', 'declined', 'declining', 'decor', 'decorate', 'decorated', 'decorating', 'decoration', 'decorations', 'decorator', 'decorum', 'dedicated', 'deeeelicious', 'deelishous', 'deem', 'deep', 'deepfried', 'def', 'default', 'defeating', 'defeatist', 'defiance', 'defiantly', 'definately', 'definatly', 'defined', 'definite', 'definitely', 'definition', 'defintely', 'defrosted', 'degrade', 'degraded', 'degree', 'degrees', 'deheaded', 'dehydrated', 'delay', 'delcious', 'delete', 'deli', 'deliberation', 'delicate', 'delicately', 'delicious', 'deliciousif', 'deliciousness', 'delight', 'delighted', 'delightful', 'delightfully', 'delights', 'delis', 'delish', 'deliver', 'delivered', 'delivering', 'delivers', 'delivery', 'delta', 'deluxe', 'demand', 'demanding', 'demands', 'demi', 'demise', 'demo', 'demographic', 'demographics', 'demonstrations', 'den', 'denlike', 'dense', 'dentally', 'dente', 'dentist', 'department', 'departure', 'depend', 'dependable', 'depending', 'depends', 'depot', 'depressed', 'depressing', 'depression', 'dept', 'depth', 'derive', 'derogatory', 'des', 'descent', 'describe', 'described', 'describing', 'description', 'descriptionDont', 'descriptor', 'desert', 'deserted', 'deserts', 'deserve', 'deserved', 'deserves', 'design', 'designated', 'designations', 'designdecorating', 'designed', 'designer', 'designs', 'desire', 'desired', 'desk', 'desolation', 'desperate', 'desperately', 'despise', 'despite', 'dessert', 'dessertentree', 'desserts', 'destination', 'destroyed', 'detail', 'detailed', 'detailing', 'details', 'detect', 'determine', 'determined', 'detest', 'detouring', 'detoxing', 'detract', 'detracted', 'detraction', 'devein', 'deveined', 'develop', 'developed', 'developing', 'develops', 'deviled', 'devoid', 'devour', 'devoured', 'devouring', 'dew', 'dhosa', 'dhosas', 'diabetes', 'diabetic', 'diablo', 'diameter', 'diamonds', 'diaper', 'diappointing', 'diarrhea', 'dice', 'diced', 'dicks', 'dictionary', 'didnt', 'die', 'died', 'diehard', 'dieing', 'dies', 'diet', 'dieting', 'diets', 'difference', 'different', 'differently', 'differentno', 'difficult', 'difficulties', 'difficulty', 'diffuser', 'dig', 'diggin', 'digging', 'diggity', 'digi', 'digress', 'digresswere', 'digs', 'diiid', 'dill', 'dillards', 'dim', 'dime', 'dimension', 'diming', 'diminished', 'dimly', 'dimmed', 'dimsum', 'dimwitted', 'din', 'dine', 'dined', 'dinein', 'diner', 'diners', 'dinertype', 'ding', 'dingy', 'dining', 'dinner', 'dinners', 'dinnerwe', 'dip', 'dipped', 'dipping', 'dippingI', 'dippity', 'direct', 'directed', 'direction', 'directions', 'directly', 'directories', 'dirt', 'dirty', 'disabilities', 'disagree', 'disappeared', 'disappearing', 'disappoint', 'disappointed', 'disappointing', 'disappointingasked', 'disappointment', 'disaster', 'discernable', 'disclaimer', 'disclosure', 'disconcerted', 'discontinue', 'discount', 'discounted', 'discourage', 'discouraged', 'discover', 'discovered', 'discovering', 'discrete', 'discriminated', 'discuss', 'discussed', 'discussing', 'discussion', 'disdain', 'disfigured', 'disguised', 'disgust', 'disgusted', 'disgusting', 'dish', 'dishes', 'dishing', 'dishs', 'disillusioned', 'disinterested', 'disjointed', 'dislike', 'dismay', 'dismiss', 'disorder', 'disorganized', 'dispenser', 'dispensers', 'disperse', 'display', 'displayed', 'displays', 'disposal', 'disppointing', 'dispute', 'disputed', 'disrepair', 'disrespect', 'disrupt', 'dissapointed', 'dissappointed', 'dissected', 'disservice', 'distance', 'distinctive', 'distinguish', 'distract', 'distracted', 'distracting', 'distraction', 'distress', 'distribute', 'distribution', 'district', 'disturb', 'disturbed', 'disturbing', 'dive', 'diverse', 'diversion', 'dives', 'divorced', 'dizzying', 'dj', 'doable', 'docked', 'doctored', 'doctors', 'doctorslawyersrocket', 'doesnt', 'dog', 'doggy', 'dogleg', 'dogs', 'dogyou', 'doityourself', 'doldrums', 'dollar', 'dollars', 'dollop', 'dolmades', 'dolmas', 'dolsot', 'domestic', 'domestics', 'dominated', 'dominates', 'donate', 'donated', 'donations', 'donburis', 'done', 'donned', 'dont', 'donut', 'donuts', 'donutsraised', 'doodle', 'doofuses', 'doomed', 'door', 'doorbell', 'doors', 'doorsthe', 'dosent', 'double', 'doublesbut', 'doubly', 'doubt', 'doubted', 'douche', 'douchebags', 'douchefilled', 'douchy', 'dough', 'doughnuts', 'doughy', 'downed', 'downer', 'downfall', 'downgrade', 'downgrading', 'downhill', 'download', 'downright', 'downside', 'downstairs', 'downtoearth', 'downtown', 'downward', 'dozen', 'dozens', 'dr', 'draft', 'drafts', 'drag', 'dragged', 'drain', 'drama', 'drank', 'drastic', 'drastically', 'draught', 'draw', 'drawback', 'drawbacks', 'drawers', 'drawing', 'drawn', 'draws', 'dreadful', 'dreaming', 'dreary', 'drenched', 'dress', 'dressed', 'dresser', 'dresses', 'dressing', 'dressings', 'dressy', 'drew', 'dribble', 'dried', 'driest', 'drift', 'drill', 'drink', 'drinkable', 'drinker', 'drinkfood', 'drinking', 'drinks', 'drinks15', 'drinksorders', 'drinkswhy', 'drinkydrink', 'drip', 'dripping', 'drive', 'driven', 'driver', 'drivers', 'drives', 'drivethrough', 'drivethru', 'driving', 'drizzle', 'drizzled', 'drizzleit', 'drones', 'drooling', 'drop', 'droping', 'dropped', 'dropping', 'drops', 'drove', 'droves', 'drowned', 'drowning', 'drug', 'drugs', 'drugstore', 'drum', 'drums', 'drumstick', 'drunk', 'drunkard', 'drunkards', 'drunken', 'drunkenly', 'dry', 'drycleaned', 'drycleaning', 'dryer', 'duck', 'ducks', 'dude', 'dudes', 'due', 'dueling', 'dug', 'duh', 'dulce', 'dull', 'duly', 'dumb', 'dumbass', 'dumbed', 'dump', 'dumped', 'dumpling', 'dumplings', 'dumpy', 'dungy', 'dunked', 'dunno', 'dunnoit', 'duper', 'duplicating', 'durable', 'durango', 'duration', 'dusk', 'dust', 'dusted', 'dusty', 'dvd', 'dvds', 'dwellers', 'dya', 'dyed', 'dying', 'décor', 'eIse', 'eachother', 'eachwhat', 'eager', 'ear', 'earlier', 'early', 'earn', 'earned', 'earnings', 'earns', 'ears', 'earth', 'earthfriendly', 'earthy', 'earwax', 'easier', 'easiest', 'easily', 'east', 'eastern', 'easy', 'easyearned', 'eat', 'eatable', 'eatand', 'eaten', 'eater', 'eateries', 'eaters', 'eatery', 'eatin', 'eating', 'eats', 'ecclectic', 'eclair', 'eclectic', 'economic', 'economy', 'edamame', 'edename', 'edge', 'edges', 'edible', 'edited', 'educated', 'education', 'eek', 'eel', 'effect', 'effecting', 'effects', 'efficient', 'efficientJanessa', 'efficiently', 'effort', 'efforts', 'egg', 'eggchorizopotatocheese', 'egged', 'egglplant', 'eggplant', 'eggroll', 'eggrolls', 'eggs', 'egos', 'eh', 'ehbut', 'ehhhh', 'ehhhmaybe', 'eight', 'either', 'elaborate', 'elastic', 'elbow', 'elderly', 'electric', 'electronic', 'elegant', 'element', 'elemental', 'elements', 'elevated', 'elevates', 'elevation', 'elevator', 'elimination', 'elite', 'elm', 'eloquently', 'else', 'elses', 'elsewhere', 'elves', 'em', 'email', 'embarassing', 'embarrassed', 'embarrassing', 'emboldened', 'emerged', 'emergency', 'emerging', 'emo', 'emphasizing', 'emphatic', 'employee', 'employees', 'employeesthink', 'employer', 'empty', 'emptywe', 'enamored', 'encased', 'enchanting', 'enchilada', 'enchiladas', 'enchillada', 'encore', 'encounter', 'encountered', 'encourage', 'end', 'endI', 'endeavor', 'ended', 'ending', 'endless', 'endorsement', 'ends', 'endure', 'endured', 'enduring', 'enemy', 'energetic', 'energy', 'energyeffort', 'energyvibe', 'engagement', 'engaging', 'engineering', 'english', 'engulfed', 'enhance', 'enhanced', 'enhancement', 'enhances', 'enjoy', 'enjoyable', 'enjoyed', 'enjoyers', 'enjoying', 'enjoyment', 'enjoys', 'enormous', 'enough', 'enought', 'ensure', 'enter', 'enterance', 'entered', 'entering', 'entertain', 'entertained', 'entertainer', 'entertaining', 'entertainment', 'enthusiastic', 'enthusiastically', 'entice', 'enticing', 'entire', 'entirely', 'entitle', 'entitled', 'entrance', 'entranceexit', 'entrancing', 'entree', 'entrees', 'entress', 'entries', 'entry', 'entrée', 'envelope', 'envelopes', 'environment', 'envisioned', 'envy', 'epic', 'epidemic', 'episode', 'equal', 'equally', 'equates', 'equipment', 'equipped', 'equivalent', 'equivocal', 'er', 'era', 'eras', 'eraser', 'erected', 'error', 'escape', 'escaped', 'espanola', 'especially', 'esplanade', 'espresso', 'essays', 'essence', 'essentially', 'essentials', 'estabilshment', 'established', 'establishment', 'establishments', 'estate', 'esteem', 'et', 'etc', 'ethiopians', 'ethnic', 'ettiquette', 'ettouffee', 'euphemism', 'evacuate', 'evaluated', 'evaluating', 'even', 'evening', 'evenings', 'evenly', 'event', 'events', 'eventually', 'ever', 'everbut', 'everelusive', 'evergreen', 'every', 'everybody', 'everyday', 'everyone', 'everyones', 'everything', 'everytime', 'everywhere', 'everywhereWhich', 'evil', 'evolve', 'evolved', 'evolving', 'ex', 'exact', 'exactly', 'exaggerating', 'exaggeration', 'examined', 'example', 'exausts', 'exceed', 'exceeded', 'exceeding', 'exceedingly', 'excellent', 'excellently', 'except', 'excepting', 'exception', 'exceptional', 'exceptions', 'excess', 'excessive', 'excessively', 'exchange', 'exchanged', 'exchanging', 'excitation', 'excited', 'excitement', 'exciting', 'exclaimed', 'excluding', 'exclusive', 'exclusives', 'exclusivity', 'excursions', 'excuse', 'execute', 'executed', 'execution', 'executive', 'exhaust', 'exhausting', 'exhibit', 'exhibits', 'exist', 'existed', 'existence', 'exit', 'exorbitant', 'exorbitantly', 'exotic', 'expand', 'expanded', 'expat', 'expats', 'expect', 'expectation', 'expectations', 'expectationshopes', 'expected', 'expecting', 'expedient', 'expedite', 'expense', 'expensive', 'expensiveThey', 'expensiveish', 'experience', 'experienced', 'experiences', 'experiencing', 'experiment', 'experimental', 'expert', 'expiration', 'expired', 'explain', 'explained', 'explaining', 'explains', 'explanation', 'explode', 'exploding', 'exploration', 'exploratory', 'explore', 'exploring', 'explosion', 'expose', 'exposed', 'exposure', 'express', 'expresses', 'expressing', 'exrtremely', 'exs', 'extend', 'extended', 'extensive', 'extent', 'exterior', 'extr', 'extra', 'extrabummer', 'extraction', 'extraordinary', 'extras', 'extravagant', 'extreme', 'extremely', 'extremes', 'exudes', 'eye', 'eyelas', 'eyeliner', 'eyes', 'eyewear', 'f', 'fab', 'fabric', 'fabrics', 'fabulous', 'facade', 'face', 'facelift', 'faces', 'facial', 'facilities', 'facility', 'facing', 'facsimilie', 'fact', 'factor', 'factored', 'factors', 'factory', 'facts', 'fadeaway', 'faded', 'fail', 'failed', 'failing', 'fails', 'fair', 'faire', 'fairly', 'fairlycheap', 'fairway', 'fairwaygreen', 'fairways', 'faith', 'fajita', 'fajitas', 'fake', 'fakeylike', 'falafel', 'fall', 'falling', 'falls', 'faltering', 'fame', 'famed', 'familiar', 'familiarity', 'families', 'family', 'familyowned', 'familyrun', 'familys', 'famished', 'famous', 'fan', 'fanatic', 'fanatics', 'fancier', 'fancierpricier', 'fancy', 'fandangos', 'fandom', 'fans', 'fantastic', 'far', 'fare', 'farelike', 'fares', 'farm', 'farmers', 'farming', 'fart', 'farther', 'fascinating', 'fashion', 'fashionably', 'fashioned', 'fashioneds', 'fast', 'faster', 'fastest', 'fastfood', 'fastfoodcoffee', 'fastwhich', 'fat', 'fate', 'fatfreeeverything', 'father', 'fathers', 'fats', 'fatty', 'fault', 'fauxfinish', 'fav', 'fave', 'favor', 'favorite', 'favorites', 'favoritewhich', 'favourite', 'fcking', 'feared', 'fearful', 'fearing', 'feat', 'feature', 'featured', 'features', 'featuring', 'fed', 'fee', 'feed', 'feedback', 'feeding', 'feeds', 'feel', 'feelin', 'feeling', 'feelings', 'feels', 'fees', 'feet', 'fell', 'fellaAnd', 'fellow', 'felt', 'feltthat', 'female', 'femaleit', 'females', 'feminine', 'fence', 'fenced', 'fend', 'fennel', 'fervent', 'fest', 'festival', 'festivals', 'festive', 'festivities', 'feta', 'fettuccine', 'fettucine', 'fewer', 'fiance', 'fiancee', 'fiances', 'field', 'fierce', 'fiery', 'fifteen', 'fig', 'fight', 'fighting', 'fights', 'figs', 'figuratively', 'figure', 'figured', 'figuredinstead', 'figures', 'figurines', 'filabertos', 'filed', 'filet', 'fill', 'filled', 'filledstuffed', 'filling', 'fillings', 'fillllled', 'fillng', 'fills', 'film', 'filmed', 'films', 'filthy', 'finacial', 'final', 'finally', 'financial', 'financing', 'find', 'finding', 'finds', 'findtheres', 'fine', 'finely', 'finest', 'finger', 'fingerless', 'fingers', 'finicky', 'finish', 'finished', 'finishing', 'fire', 'fired', 'firelit', 'firepit', 'fireplace', 'firetrucks', 'fireworks', 'firm', 'first', 'firsttime', 'fiscal', 'fish', 'fishballs', 'fishing', 'fishnet', 'fishsteakor', 'fishy', 'fist', 'fists', 'fit', 'fitness', 'fits', 'fitting', 'five', 'fix', 'fixe', 'fixed', 'fixes', 'fixin', 'fixing', 'fixings', 'fixins', 'fixture', 'fixtures', 'fizzy', 'fk', 'fkn', 'flack', 'flag', 'flagged', 'flair', 'flakey', 'flakiness', 'flaky', 'flaming', 'flan', 'flannel', 'flapjacks', 'flashing', 'flashlight', 'flat', 'flatbread', 'flatbreads', 'flatscreens', 'flattened', 'flavor', 'flavorable', 'flavored', 'flavorful', 'flavorings', 'flavorless', 'flavorlesshuh', 'flavors', 'flavorswhats', 'flavorthe', 'flavour', 'flavoured', 'flavours', 'flaws', 'flea', 'fled', 'flee', 'fleeced', 'fleecing', 'flew', 'flexibility', 'flick', 'flickering', 'flier', 'flies', 'flight', 'flights', 'flip', 'flirty', 'float', 'floating', 'floats', 'flock', 'flooded', 'floor', 'floordont', 'flooring', 'floors', 'flopsdoesnt', 'floral', 'florist', 'florists', 'floss', 'floundered', 'flour', 'flow', 'flowers', 'flowing', 'flown', 'fluent', 'fluffy', 'fluid', 'fluke', 'fluorescent', 'flushed', 'flustered', 'fly', 'flyers', 'flying', 'flys', 'fo', 'foam', 'focaccia', 'focus', 'focused', 'focusing', 'foie', 'foldable', 'folded', 'folding', 'foliage', 'folk', 'folks', 'folksWay', 'follow', 'followed', 'following', 'follows', 'fond', 'fondant', 'fonder', 'fondly', 'fondue', 'fontina', 'food', 'fooddelicious', 'fooddrink', 'foodie', 'foodies', 'foodits', 'foodnot', 'foodpresentation', 'foods', 'foodsauce', 'foodstuffs', 'fooled', 'fools', 'foot', 'footbal', 'football', 'footlong', 'footsteps', 'forbid', 'force', 'forced', 'forces', 'forcing', 'forehead', 'foreign', 'foresaken', 'forest', 'forever', 'forewarned', 'forgave', 'forget', 'forgive', 'forgo', 'forgot', 'forgotten', 'fork', 'forkful', 'forks', 'form', 'format', 'former', 'formerly', 'formula', 'formulalike', 'formulas', 'formulatype', 'forserver', 'forth', 'forthcoming', 'forthere', 'forthis', 'fortunate', 'fortunately', 'fortune', 'forward', 'foster', 'fot', 'foul', 'found', 'fountain', 'fountains', 'four', 'fourlegged', 'fourth', 'fowl', 'foyer', 'fragrant', 'frame', 'franchise', 'franchising', 'frank', 'frankly', 'frantic', 'frantically', 'frat', 'frazzled', 'freak', 'freakin', 'freaking', 'freakishly', 'free', 'freebie', 'freedom', 'freeway', 'freeze', 'freezedried', 'freezer', 'freezing', 'french', 'frenchItalian', 'frequent', 'frequented', 'frequenting', 'frequently', 'fresca', 'fresh', 'freshener', 'fresheners', 'fresher', 'freshly', 'freshness', 'freshwater', 'frickin', 'friday', 'fridge', 'fried', 'friend', 'friendfriends', 'friendlier', 'friendliest', 'friendliness', 'friendly', 'friendlybut', 'friendlytalkative', 'friends', 'friendsly', 'frienldy', 'fries', 'friesonion', 'friesthe', 'friggin', 'frightened', 'frills', 'frisk', 'fritters', 'fro', 'frolick', 'fromDude', 'front', 'frosted', 'frosting', 'frosty', 'froufrou', 'frowned', 'froyo', 'frozen', 'fructose', 'frugal', 'frugality', 'fruit', 'fruits', 'frumpy', 'frustrated', 'frustrating', 'frustration', 'fry', 'fryer', 'frying', 'frys', 'fuck', 'fuckface', 'fucking', 'fudgy', 'fulfill', 'fulfilled', 'full', 'fulland', 'fullblown', 'fulltime', 'fully', 'fumble', 'fumbling', 'fume', 'fun', 'functional', 'functionality', 'functioning', 'fundido', 'fundidto', 'funds', 'funghi', 'funinteresting', 'funk', 'funky', 'funnier', 'funny', 'furious', 'furnace', 'furnished', 'furnishing', 'furnishings', 'furniture', 'furry', 'furthest', 'fusion', 'fuss', 'future', 'futureperhaps', 'fuzz', 'fuzzy', 'gabacho', 'gadget', 'gage', 'gained', 'gal', 'galbi', 'gall', 'galleries', 'gallo', 'galore', 'gals', 'gamble', 'gambler', 'game', 'gameride', 'games', 'gaming', 'ganache', 'gang', 'ganoush', 'gap', 'gaps', 'garage', 'garb', 'garbage', 'garbled', 'garden', 'gardening', 'gardens', 'gargantuan', 'garlic', 'garlicheavy', 'garlicky', 'garlicy', 'garments', 'garner', 'garners', 'garnish', 'garnished', 'gas', 'gasping', 'gastral', 'gastro', 'gate', 'gates', 'gather', 'gathered', 'gathering', 'gave', 'gawking', 'gay', 'gayfriendly', 'gays', 'gazillion', 'gazing', 'gazpacho', 'gear', 'geared', 'gee', 'geeked', 'gel', 'gelato', 'gem', 'gems', 'general', 'generally', 'generate', 'generations', 'generator', 'generic', 'generous', 'generously', 'genius', 'genre', 'genres', 'gentle', 'gentleman', 'gentlemen', 'gently', 'genuine', 'genuinely', 'geriatric', 'germann', 'gesture', 'get', 'getaway', 'getaways', 'getout', 'gets', 'getting', 'gettingit', 'gf', 'ghesicuto', 'ghetto', 'ghettoside', 'ghost', 'giant', 'giardiniera', 'giddily', 'gift', 'gifting', 'gifts', 'gigando', 'gigantic', 'giggle', 'giggled', 'giggles', 'gilbert', 'gills', 'gimmick', 'gimmicks', 'gin', 'ginger', 'gins', 'girl', 'girlfirend', 'girlfriend', 'girlfriends', 'girlish', 'girls', 'girlswomen', 'girly', 'girth', 'give', 'given', 'gives', 'giving', 'glaciers', 'glad', 'gladly', 'glance', 'glanced', 'glances', 'glare', 'glaring', 'glass', 'glasses', 'glassmore', 'glassvery', 'glaze', 'glazed', 'glee', 'glendale', 'glimmer', 'glitch', 'glob', 'globs', 'glorified', 'glory', 'gloves', 'glow', 'glowing', 'gluey', 'gluten', 'gluttonous', 'go', 'goal', 'goals', 'goat', 'god', 'goddamit', 'gods', 'godsend', 'godson', 'goers', 'goes', 'gogo', 'going', 'goingThey', 'gold', 'golden', 'goldenbrown', 'golf', 'golfer', 'golfing', 'gone', 'gong', 'gonna', 'good', 'goodThe', 'goodbut', 'goodbye', 'goodhealthy', 'goodies', 'goodit', 'goodness', 'goodnot', 'goodnothing', 'goods', 'goodsauce', 'goodsized', 'goodstick', 'goodstill', 'goodthe', 'goodvery', 'goodwill', 'goodwills', 'gooey', 'goof', 'goofing', 'goofy', 'google', 'googled', 'gooky', 'goons', 'goooood', 'gorge', 'gorgeous', 'gorgonzola', 'gorilla', 'goround', 'gos', 'got', 'goto', 'gotta', 'gotten', 'gouge', 'gouged', 'gourmet', 'gourmetdesigner', 'gown', 'grab', 'grabbed', 'grabbing', 'grace', 'graced', 'graceful', 'gracehells', 'gracious', 'graciously', 'grad', 'grade', 'grading', 'graham', 'grain', 'grainlegume', 'grains', 'grainy', 'grand', 'grande', 'grandma', 'grandmas', 'grandson', 'granite', 'granny', 'grant', 'grape', 'grapes', 'graphic', 'gras', 'grass', 'grassy', 'grate', 'grated', 'grateful', 'gratin', 'gratuity', 'gravel', 'gravies', 'gravitational', 'gravity', 'gravlax', 'gravy', 'grease', 'greasy', 'great', 'greatA', 'greatI', 'greater', 'greatest', 'greatness', 'greatno', 'greats', 'greatsuch', 'greattasting', 'greatthe', 'greedy', 'greek', 'greekturkish', 'green', 'greener', 'greens', 'greet', 'greeted', 'greeting', 'grenadiene', 'grew', 'grey', 'greyhound', 'grid', 'griddle', 'grill', 'grilled', 'grilling', 'grills', 'grin', 'grind', 'gringo', 'grip', 'gripe', 'gripes', 'gristle', 'gristly', 'grits', 'groans', 'grocer', 'groceries', 'groceriesits', 'groceriesyeah', 'grocers', 'grocery', 'grody', 'groovy', 'gross', 'grossed', 'grossit', 'grouchy', 'ground', 'groundat', 'grounds', 'group', 'groupon', 'groups', 'grow', 'growing', 'growler', 'grown', 'grownup', 'grub', 'grumbling', 'grumpy', 'grunge', 'grunts', 'gs', 'guac', 'guacamole', 'guacamoleyum', 'guajillo', 'guarantee', 'guardrails', 'guess', 'guessed', 'guessing', 'guest', 'guests', 'guide', 'guidos', 'guilt', 'guilty', 'guiness', 'guinness', 'guitar', 'guitarvery', 'gulf', 'gumbo', 'gummi', 'gummy', 'gun', 'gunning', 'guns', 'gush', 'gustatory', 'gusto', 'gut', 'gutted', 'guy', 'guys', 'guysgot', 'gym', 'gyms', 'gyoza', 'gyozo', 'gyro', 'gyros', 'ha', 'habanero', 'habenero', 'habits', 'hadicapped', 'hadits', 'hadnt', 'hadwas', 'haha', 'hailed', 'hair', 'haircut', 'haircuts', 'haired', 'hairiest', 'half', 'halfenjoyed', 'halfhearted', 'halfhour', 'halfsies', 'halfway', 'halibut', 'hall', 'hallowed', 'hallway', 'hallways', 'halved', 'halves', 'ham', 'hamachi', 'hamburger', 'hamburgers', 'hammered', 'hamstink', 'hand', 'handbags', 'handbagsLOL', 'handed', 'handful', 'handicap', 'handicapaccessible', 'handicapped', 'handicappers', 'handing', 'handjob', 'handle', 'handled', 'handles', 'handmade', 'handout', 'handpulled', 'hands', 'handsdown', 'handy', 'handydandy', 'hang', 'hanger', 'hangin', 'hanging', 'hangout', 'hangover', 'hangs', 'hankering', 'haphazard', 'haphazardly', 'happen', 'happened', 'happenedyes', 'happening', 'happens', 'happily', 'happy', 'harassing', 'harbinger', 'harbored', 'hard', 'hardcore', 'hardearned', 'harder', 'hardly', 'hardtofind', 'hardware', 'hardwood', 'hardworking', 'harissa', 'harm', 'harmony', 'harried', 'harsh', 'harshly', 'hash', 'hashbrowns', 'hasnt', 'hassle', 'hat', 'hate', 'hated', 'hater', 'hating', 'hats', 'haunt', 'haunts', 'havent', 'haystack', 'hazard', 'hazardous', 'head', 'headache', 'headed', 'heading', 'headlights', 'heads', 'headsup', 'health', 'healthier', 'healthiest', 'healthiness', 'healthy', 'healthyorganic', 'healthyseeming', 'heaping', 'hear', 'heard', 'hearing', 'heart', 'heartbeat', 'heartily', 'hearts', 'heartstrings', 'hearty', 'heat', 'heated', 'heaters', 'heating', 'heatproof', 'heaven', 'heavenly', 'heavily', 'heavy', 'heck', 'hectic', 'hed', 'heed', 'heehee', 'heels', 'heft', 'hefty', 'height', 'heightened', 'heinekins', 'held', 'hell', 'hella', 'hellish', 'hello', 'hellohmm', 'helluva', 'help', 'helped', 'helper', 'helpful', 'helping', 'helpings', 'helps', 'hence', 'herb', 'herbed', 'herbs', 'herby', 'hereI', 'herebut', 'herejust', 'heres', 'heresomething', 'hero', 'hes', 'hesitant', 'hesitate', 'hey', 'hiatus', 'hibachi', 'hibiscus', 'hickory', 'hidden', 'hiddenand', 'hide', 'hideously', 'hides', 'hiding', 'high', 'highball', 'highballsized', 'highend', 'higher', 'highest', 'highlight', 'highlights', 'highliting', 'highly', 'hight', 'hike', 'hiked', 'hiker', 'hikers', 'hiking', 'hilarious', 'hill', 'hills', 'hint', 'hinted', 'hip', 'hip50s', 'hipness', 'hippity', 'hippo', 'hippy', 'hipster', 'hipsters', 'hire', 'hired', 'hiring', 'hispanic', 'historic', 'historical', 'historically', 'history', 'hit', 'hitandmiss', 'hitch', 'hits', 'hitting', 'hmm', 'hmmm', 'ho', 'hoarding', 'hoards', 'hockey', 'hodgepodge', 'hold', 'holder', 'holding', 'holds', 'hole', 'holeinthe', 'holeinthewall', 'holeinwall', 'holes', 'holiday', 'holidays', 'holla', 'hollaindase', 'hollandaise', 'holler', 'hollered', 'holy', 'hombre', 'home', 'homecooked', 'homeland', 'homeless', 'homemade', 'homesickness', 'homey', 'homies', 'homilies', 'hon', 'honest', 'honestly', 'honesty', 'honey', 'honeydew', 'honored', 'hood', 'hoodies', 'hooked', 'hookers', 'hoot', 'hooters', 'hop', 'hope', 'hoped', 'hopeful', 'hopefully', 'hopelessly', 'hopes', 'hoping', 'hopped', 'hoppin', 'hopping', 'horn', 'horrendous', 'horrible', 'horribly', 'horrid', 'horrific', 'horrifying', 'horse', 'horseradish', 'horseradishy', 'horses', 'hospitable', 'hospital', 'hospitalized', 'host', 'hosted', 'hostess', 'hostesses', 'hosting', 'hosts', 'hot', 'hotalmost', 'hotdog', 'hotel', 'hotels', 'hotplace', 'hotspicy', 'hotspot', 'hotter', 'hottest', 'hottie', 'hounded', 'hour', 'hourjust', 'hourly', 'hours', 'house', 'housemade', 'houses', 'housing', 'hovel', 'hovering', 'howdy', 'however', 'howeverthe', 'hrs', 'httpwww16thstindexhtml', 'httpwwwchandlercenterorgperformanceshtml', 'httpwwwvallelunacomVLMenu3html', 'hubbies', 'hubbub', 'hubby', 'hubbyI', 'hubbys', 'hubs', 'huckleberries', 'hue', 'hues', 'huevos', 'huffy', 'hug', 'huge', 'hugely', 'hugethe', 'huh', 'hum', 'human', 'humanly', 'humble', 'humbling', 'humidor', 'humming', 'hummus', 'humor', 'humus', 'hundred', 'hung', 'hunger', 'hungerwise', 'hungover', 'hungry', 'hungryafter', 'hunny', 'hunt', 'hunter', 'hunting', 'hurry', 'hurt', 'hurting', 'husband', 'husbands', 'hydraulic', 'hydrogenated', 'hygienists', 'hype', 'hyped', 'hyper', 'hyperbole', 'hysterically', 'iI', 'iPad', 'iPads', 'iPhone', 'iPhones', 'iPic', 'ice', 'iceball', 'iceberg', 'icebergs', 'icecream', 'iced', 'icing', 'ick', 'icky', 'icon', 'icy', 'id', 'idea', 'ideal', 'ideas', 'identify', 'identity', 'idiot', 'idiots', 'idle', 'idli', 'ie', 'iffy', 'iflip', 'ignite', 'ignore', 'ignored', 'ill', 'im', 'image', 'imaginable', 'imagination', 'imagine', 'imagined', 'imagining', 'imitation', 'immediately', 'immediatly', 'immense', 'immersed', 'immersion', 'immigrants', 'immortal', 'impartial', 'impatient', 'impeccable', 'impeccably', 'impersonal', 'implies', 'implore', 'imply', 'implying', 'important', 'importantbut', 'importantly', 'imported', 'imports', 'impose', 'impossible', 'impossibly', 'impress', 'impressed', 'impression', 'impressive', 'impromptu', 'improve', 'improved', 'improvement', 'improvements', 'improving', 'inability', 'inadequate', 'inadvertantly', 'inadvertent', 'inand', 'inandout', 'inappropriate', 'inattentive', 'inattentiveness', 'inbetween', 'incarnation', 'incessant', 'inch', 'inches', 'incl', 'inclined', 'include', 'included', 'includes', 'including', 'income', 'incompetent', 'inconsideration', 'inconsistency', 'inconsistent', 'inconvenient', 'incorrectly', 'increase', 'incredible', 'incredibly', 'indecision', 'indecisive', 'indeed', 'independent', 'indepth', 'index', 'indian', 'indicated', 'indicating', 'indication', 'indie', 'indifferent', 'indiscernible', 'individual', 'individually', 'indoor', 'indooroutdoor', 'indoors', 'induction', 'indulge', 'indulged', 'industrial', 'industrialized', 'industry', 'indy', 'inebriated', 'inedible', 'inetc', 'inexpensive', 'inexperience', 'inexperienced', 'infamous', 'infant', 'infection', 'infections', 'infield', 'influence', 'influenced', 'influencing', 'info', 'inform', 'informal', 'information', 'informationchose', 'informative', 'informed', 'infuse', 'infused', 'infusion', 'ingrediants', 'ingredient', 'ingredients', 'inhabit', 'inhaled', 'inherent', 'inherently', 'initial', 'initially', 'initiated', 'inject', 'injera', 'inmigration', 'innards', 'inner', 'innetwork', 'innocent', 'innovative', 'innuendos', 'inordinately', 'input', 'inquiry', 'insane', 'insanely', 'insanity', 'insert', 'inside', 'insideThe', 'insides', 'insignificant', 'insist', 'insisted', 'insistence', 'inspirations', 'inspiring', 'install', 'installed', 'installer', 'installers', 'installing', 'instance', 'instances', 'instantly', 'instead', 'instinct', 'instructed', 'instructor', 'instructors', 'insurance', 'integration', 'integrity', 'intellectual', 'intended', 'intense', 'intent', 'intention', 'intentionally', 'intentions', 'interact', 'interacting', 'interest', 'interested', 'interesting', 'interests', 'interfere', 'interior', 'interloper', 'interludes', 'internal', 'international', 'internet', 'internetetc', 'interpersonal', 'interrupt', 'interrupted', 'interrupting', 'intervals', 'interview', 'intestine', 'intimate', 'intimiate', 'intimidated', 'intimidating', 'intimidatingall', 'intl', 'intolerable', 'intolerant', 'intoxicated', 'intoxicating', 'intrested', 'intricate', 'intrigued', 'intriguing', 'introduce', 'introduced', 'introducing', 'intruder', 'intrusive', 'invariably', 'inventive', 'inventory', 'investing', 'investment', 'invisiable', 'invisible', 'invited', 'invitetake', 'inviting', 'invoked', 'involve', 'involved', 'inyet', 'iota', 'iphone', 'ipic', 'irish', 'irked', 'irksome', 'iron', 'ironic', 'ironically', 'irresponsible', 'irritated', 'irritating', 'isDid', 'isand', 'isbut', 'iscrazy', 'ish', 'ishow', 'island', 'islands', 'isle', 'ismeh', 'isnt', 'isolated', 'issue', 'issues', 'istwo', 'isyes', 'itOK', 'italian', 'itchin', 'itching', 'itd', 'item', 'items', 'itespecially', 'itew', 'ithey', 'itkinda', 'itll', 'itmaybe', 'itpretty', 'ive', 'jack', 'jacket', 'jacuzzi', 'jaded', 'jadore', 'jager', 'jail', 'jalapeno', 'jalapenos', 'jalapeño', 'jalapeños', 'jalepeno', 'jalepenos', 'jam', 'jammed', 'jams', 'jan', 'janitor', 'japanese', 'jar', 'jared', 'jasmine', 'jaunt', 'jaz', 'jazz', 'jeans', 'jeep', 'jeeps', 'jenga', 'jeopardy', 'jerk', 'jerky', 'jersey', 'jerseys', 'jewelry', 'jicama', 'jiggling', 'jimmies', 'jist', 'job', 'jobOn', 'jobs', 'jobthe', 'jocks', 'jogging', 'join', 'joined', 'joing', 'joining', 'joint', 'joints', 'joke', 'joked', 'joker', 'jokes', 'joking', 'jovial', 'joy', 'joys', 'judge', 'judgement', 'judging', 'jug', 'juice', 'juices', 'juicier', 'juicing', 'juicy', 'juke', 'jukebox', 'jumbled', 'jumbo', 'jump', 'jumped', 'jumper', 'jumpers', 'junior', 'junk', 'junkedup', 'junkie', 'jurisdiction', 'jus', 'justice', 'justified', 'justifies', 'justify', 'jutting', 'kabobs', 'kalbi', 'kama', 'karaoke', 'karaoking', 'katsu', 'kebabs', 'keep', 'keeping', 'keeps', 'keg', 'kept', 'ketchup', 'ketchupdipping', 'kettle', 'key', 'keys', 'kick', 'kicked', 'kickin', 'kicking', 'kicks', 'kid', 'kiddies', 'kidding', 'kiddos', 'kids', 'kill', 'killed', 'killer', 'killers', 'killing', 'kills', 'kilts', 'kimchi', 'kind', 'kinda', 'kindly', 'kindof', 'kindred', 'kinds', 'king', 'kinks', 'kiosk', 'kiosks', 'kiss', 'kit', 'kitchen', 'kitchencounter', 'kitchenette', 'kitchy', 'kitschy', 'kitten', 'kiwi', 'kneel', 'knees', 'knew', 'knife', 'knifefight', 'knish', 'knock', 'knocked', 'knockout', 'knocks', 'knoll', 'knots', 'know', 'knowhad', 'knowing', 'knowledgable', 'knowledge', 'knowledgeable', 'knowledgeably', 'known', 'knows', 'knowsounds', 'kobe', 'koi', 'koolaid', 'korean', 'korma', 'kosher', 'kthxbye', 'kudos', 'kung', 'l', 'la', 'label', 'labeled', 'labyrinth', 'lacation', 'lack', 'lacked', 'lacking', 'lackluster', 'lacks', 'ladders', 'ladies', 'lady', 'ladys', 'lag', 'lager', 'laid', 'laidback', 'lamb', 'lambshank', 'lame', 'lamp', 'lamps', 'land', 'landed', 'landing', 'landmark', 'landscape', 'landscaping', 'lane', 'lanes', 'language', 'lanterns', 'lap', 'lapping', 'laptop', 'lard', 'lardons', 'large', 'largely', 'larger', 'largerthanshoebox', 'larges', 'largest', 'lasagna', 'lasagnas', 'lashes', 'lashing', 'lassi', 'last', 'lasting', 'lasts', 'latch', 'late', 'late20s', 'lately', 'latenight', 'later', 'laterlike', 'latest', 'latte', 'latter', 'laugh', 'laughed', 'laughing', 'laughs', 'laundromat', 'laundry', 'lava', 'lavender', 'lavosh', 'law', 'lawn', 'laws', 'lawyers', 'lay', 'layer', 'layered', 'laying', 'layout', 'layover', 'layovers', 'lazy', 'lb', 'lbs', 'lead', 'leading', 'leads', 'leaf', 'league', 'leak', 'leaked', 'lean', 'leaner', 'leaning', 'leans', 'learn', 'learned', 'learning', 'lease', 'leashless', 'least', 'leather', 'leave', 'leaves', 'leaving', 'leche', 'lecture', 'lectures', 'led', 'left', 'leftovers', 'leg', 'legacy', 'legal', 'legendary', 'legit', 'legroom', 'legs', 'leisure', 'leisurely', 'lemon', 'lemonade', 'lemonadewow', 'lemongrass', 'lemonherb', 'lemonlime', 'lemons', 'lemony', 'lends', 'length', 'lengthwise', 'lengthy', 'lenient', 'lentil', 'lentils', 'less', 'lessees', 'lessened', 'lesser', 'lessno', 'lessnoisy', 'lesson', 'lessons', 'let', 'letdown', 'lethal', 'lets', 'letters', 'letting', 'lettuce', 'lettuceeating', 'lettucetomatocheeseand', 'level', 'levels', 'lez', 'liable', 'liar', 'libations', 'liberal', 'library', 'license', 'licensed', 'lick', 'licked', 'licking', 'lid', 'lids', 'lie', 'lies', 'lieu', 'life', 'lifeguard', 'lifeguards', 'lifeless', 'lifestyle', 'lifetime', 'light', 'lightened', 'lighter', 'lightest', 'lighting', 'lightly', 'lightrail', 'lights', 'lightsmirrors', 'lightweight', 'like', 'liked', 'likelihood', 'likely', 'likes', 'liking', 'lil', 'limb', 'limbs', 'lime', 'limes', 'limit', 'limitation', 'limited', 'limp', 'line', 'linebut', 'lined', 'linen', 'linens', 'lines', 'lineup', 'lingered', 'lingo', 'lingua', 'linguine', 'link', 'lips', 'liquid', 'liquids', 'liquor', 'lisa', 'list', 'listed', 'listen', 'listened', 'listening', 'listens', 'listing', 'listlessness', 'lit', 'lite', 'literally', 'literature', 'litter', 'littered', 'little', 'live', 'lived', 'lively', 'lives', 'living', 'lizards', 'lo', 'load', 'loaded', 'loading', 'loads', 'loaf', 'loath', 'loathe', 'loathed', 'loaves', 'lobby', 'lobster', 'local', 'locale', 'locally', 'localnatural', 'locals', 'locate', 'located', 'location', 'locations', 'lock', 'locked', 'locker', 'lockers', 'loco', 'lodge', 'lodgelike', 'logged', 'logic', 'logical', 'logistical', 'logistically', 'logistics', 'lol', 'lola', 'lonesome', 'long', 'longer', 'longerit', 'longest', 'longs', 'longtime', 'loofa', 'look', 'looked', 'looking', 'lookingso', 'lookout', 'looks', 'looky', 'looming', 'loooooooooooove', 'loop', 'loops', 'loose', 'loosing', 'lord', 'lore', 'lose', 'loser', 'loses', 'losing', 'loss', 'lost', 'lot', 'lotion', 'lots', 'lotus', 'loud', 'louder', 'loudly', 'loudness', 'lounge', 'loungejust', 'lounging', 'loungy', 'lousy', 'love', 'loved', 'lovehate', 'lovely', 'lover', 'lovers', 'loves', 'lovey', 'loving', 'lovingly', 'low', 'lowdown', 'lower', 'lowered', 'lowly', 'lox', 'loyalty', 'luck', 'lucked', 'luckily', 'lucky', 'lug', 'luggage', 'lukewarm', 'lumpia', 'lunch', 'lunchapprox', 'lunched', 'lunches', 'lunchtime', 'lungs', 'lure', 'lurve', 'lushes', 'luster', 'luxurious', 'luxury', 'lve', 'lychee', 'lying', 'mMmm', 'mabels', 'mac', 'macadamia', 'macandcheese', 'macaroni', 'macaroons', 'macchiato', 'macerated', 'machaca', 'machiato', 'machine', 'machines', 'macys', 'mad', 'made', 'madhouse', 'madly', 'madness', 'magazine', 'magazines', 'magic', 'magical', 'magically', 'magnificence', 'mahi', 'mail', 'mailboxes', 'mailers', 'main', 'mainly', 'mains', 'mainstream', 'maintain', 'maintained', 'maintains', 'maintenance', 'maitre', 'major', 'majority', 'makani', 'make', 'maker', 'makes', 'makeup', 'making', 'male', 'males', 'malicious', 'mall', 'malls', 'malodorous', 'malt', 'malty', 'man', 'manadrian', 'manage', 'manageable', 'managed', 'management', 'managements', 'manager', 'managers', 'manages', 'manchego', 'mandarin', 'maneuvering', 'mango', 'mangopineapple', 'mangos', 'manicure', 'manly', 'manmade', 'manner', 'mannered', 'manners', 'manning', 'mans', 'manthose', 'many', 'maple', 'maps', 'marble', 'march', 'marg', 'margarita', 'margaritas', 'margerita', 'margharita', 'margherita', 'marginal', 'marginally', 'mariachi', 'mariachis', 'marinade', 'marinades', 'marinara', 'marinated', 'mark', 'marked', 'marker', 'markers', 'market', 'marketing', 'marriage', 'marriages', 'married', 'marry', 'mars', 'marshmallow', 'mart', 'martial', 'martian', 'martini', 'martinis', 'marvelous', 'mary', 'marys', 'masala', 'mash', 'mashed', 'mask', 'masked', 'mason', 'mass', 'massage', 'massages', 'massaging', 'masseuse', 'massive', 'massmarket', 'massproduced', 'mat', 'match', 'matched', 'matching', 'mate', 'materials', 'math', 'mats', 'matt', 'matted', 'matter', 'matters', 'mature', 'maturity', 'maximum', 'may', 'maybe', 'mayo', 'mayomustard', 'mayor', 'mcnuggets', 'meI', 'meager', 'meal', 'meals', 'mealy', 'mean', 'meaning', 'meaningful', 'means', 'meant', 'meantime', 'measely', 'measly', 'measure', 'measurement', 'measures', 'meat', 'meatball', 'meatballs', 'meatheavy', 'meatiest', 'meatl', 'meatloaf', 'meatlog', 'meatnoodlesvegetables', 'meats', 'meattell', 'meaty', 'mecca', 'mechado', 'mechanical', 'med', 'medal', 'media', 'medicinal', 'medicore', 'mediocre', 'mediocrity', 'mediterranean', 'medium', 'mediumwell', 'medley', 'meet', 'meeting', 'meets', 'mega', 'megachain', 'megacontract', 'megasale', 'meh', 'mein', 'mellow', 'mellower', 'melon', 'melt', 'meltdown', 'melted', 'melting', 'melts', 'melty', 'member', 'members', 'membership', 'memorabilia', 'memorable', 'memories', 'memorized', 'men', 'menagerie', 'mens', 'mention', 'mentioned', 'mentioning', 'mentions', 'menu', 'menubrochure', 'menudo', 'menus', 'merchandise', 'merchandising', 'mere', 'merely', 'merged', 'merit', 'mesa', 'mesh', 'mesome', 'mesorry', 'mesquite', 'mess', 'message', 'messed', 'messes', 'messiness', 'messy', 'met', 'metacky', 'metal', 'metallike', 'meter', 'meth', 'methamphetamine', 'meticulous', 'metro', 'metype', 'mexi', 'mexican', 'mi', 'mic', 'micro', 'microbeers', 'microfoam', 'microphones', 'microscopic', 'microwave', 'microwaved', 'mid', 'midafternoon', 'midcentury', 'middle', 'middleaged', 'middleoftheafternoon', 'midnight', 'midrange', 'midriffs', 'midst', 'midtolong', 'midtown', 'midweek', 'midwestern', 'mien', 'might', 'mignon', 'mild', 'mildly', 'mile', 'miles', 'military', 'milk', 'milkshake', 'mill', 'miller', 'milling', 'million', 'mimics', 'mimosa', 'mimosas', 'min', 'mind', 'mindblowing', 'mindblowingly', 'minded', 'minds', 'mine', 'minerals', 'miners', 'mingle', 'mini', 'minibucket', 'minigolfing', 'minimal', 'minimalist', 'minimize', 'minimum', 'mining', 'minipatties', 'minipencils', 'minis', 'minky', 'minor', 'minority', 'mins', 'mint', 'minted', 'mintlamb', 'minty', 'minus', 'minuses', 'minute', 'minutes', 'mirrors', 'miscellaneous', 'mischief', 'miscommunication', 'miserable', 'miserably', 'mishaps', 'mishmash', 'misled', 'miso', 'misoy', 'misplaced', 'miss', 'missed', 'missedthe', 'missing', 'mission', 'misspelled', 'missus', 'mistake', 'mistaken', 'mister', 'misters', 'mistifiers', 'misting', 'mistreated', 'mitts', 'mix', 'mixed', 'mixer', 'mixing', 'mixture', 'mmmm', 'mmmmm', 'mo', 'mob', 'mobile', 'mobsterchanneling', 'mocha', 'mochi', 'mochianyways', 'mock', 'moco', 'model', 'modem', 'moderate', 'moderately', 'modern', 'modernization', 'modify', 'mofo', 'moist', 'mojito', 'mojitos', 'molasasville', 'molasses', 'mold', 'mole', 'moley', 'moltenhot', 'mom', 'moment', 'moments', 'mommy', 'momoriginally', 'moms', 'monday', 'mondo', 'money', 'moneymaker', 'mongolian', 'moniker', 'monitoring', 'monkey', 'monotone', 'monster', 'monstrosity', 'montages', 'month', 'monthly', 'months', 'moo', 'mooch', 'mood', 'moody', 'moon', 'mop', 'mopped', 'mor', 'moral', 'morass', 'morning', 'mornings', 'moron', 'mortgage', 'mostly', 'motel', 'mother', 'motherinlaw', 'mothers', 'motif', 'motion', 'motioned', 'motions', 'motorcycles', 'mound', 'mounds', 'mountain', 'mountains', 'mountaintop', 'mounted', 'mousse', 'mouth', 'mouthfeel', 'mouthful', 'move', 'moved', 'movement', 'movements', 'mover', 'movers', 'moves', 'movie', 'movies', 'moving', 'mozarella', 'mozz', 'mozzarella', 'mozzerella', 'msg', 'much', 'muchachos', 'muchneeded', 'muchtoo', 'muffin', 'muffins', 'muffled', 'mug', 'mugged', 'mugs', 'mullet', 'multicolored', 'multiple', 'multipletimes', 'multitude', 'multiyear', 'mumbled', 'munch', 'munchies', 'muni', 'mural', 'murder', 'muscle', 'museum', 'museums', 'mush', 'mushed', 'mushroom', 'mushrooms', 'mushy', 'music', 'musiccoming', 'musicians', 'mussels', 'must', 'mustard', 'musty', 'muzzles', 'myselflobster', 'mysteriously', 'mystery', 'n', 'naan', 'nab', 'nacho', 'nachos', 'nachosbad', 'nah', 'naked', 'nakey', 'name', 'named', 'namedanother', 'nameless', 'names', 'napkin', 'napkins', 'narrow', 'narrowed', 'nascent', 'nastily', 'nasty', 'nation', 'national', 'nationwide', 'native', 'natural', 'naturally', 'nature', 'natures', 'naughty', 'navarra', 'navigate', 'navigating', 'navigation', 'nay', 'nazzle', 'near', 'nearaccident', 'nearby', 'neared', 'nearer', 'nearest', 'nearly', 'neat', 'neatcute', 'necessarily', 'necessary', 'necessities', 'necessity', 'neck', 'need', 'needed', 'needing', 'needle', 'needs', 'negative', 'negatives', 'negativity', 'neglected', 'neglectful', 'negotiate', 'neigborhood', 'neighbor', 'neighborhood', 'neighborhoodeatery', 'neighboring', 'neighbors', 'neither', 'neon', 'neopolitana', 'nephew', 'nephews', 'nerd', 'nervous', 'nest', 'net', 'network', 'networking', 'never', 'neverending', 'nevermind', 'new', 'newbies', 'newborn', 'newer', 'newest', 'newness', 'news', 'newspaper', 'next', 'nibble', 'nice', 'nicebut', 'niceit', 'nicely', 'nicer', 'nicest', 'niche', 'nickel', 'nickle', 'nicknack', 'niece', 'night', 'nightGreat', 'nightYES', 'nightbut', 'nightcap', 'nightclub', 'nightlife', 'nightly', 'nightmare', 'nightmares', 'nightmarish', 'nights', 'nightsit', 'nightstands', 'nigiri', 'nigri', 'nine', 'nitpicky', 'nitrates', 'nobody', 'nobodys', 'nodding', 'noir', 'noise', 'noisy', 'non', 'nonScottsdale', 'nonTexas', 'nonalcoholic', 'nonattentive', 'nondairy', 'nondenomination', 'nondescript', 'nondinein', 'none', 'nonemergency', 'nonetheless', 'nonexistant', 'nonexistent', 'nonfun', 'nongreasy', 'nonhandicapped', 'nonhappy', 'noninitutive', 'nonintimidating', 'nonlard', 'nonmassmedia', 'nonmexican', 'nonminority', 'nono', 'nonsale', 'nonsense', 'nonsmoker', 'nonsmoking', 'nonstandard', 'nonsushi', 'nonthreatening', 'nontraditional', 'nonwineys', 'noodle', 'noodlee', 'noodles', 'nooks', 'noon', 'nope', 'norm', 'normal', 'normally', 'north', 'northern', 'northwest', 'nose', 'nosh', 'noshows', 'nosogreat', 'nostalgia', 'nostalgic', 'nosy', 'notable', 'notch', 'notches', 'note', 'noted', 'notepad', 'notes', 'noteworthy', 'notgreat', 'nothing', 'nothingexcitingorsurprising', 'nothingnothingno', 'noticable', 'notice', 'noticeable', 'noticed', 'notices', 'noticing', 'notified', 'notsobluecollar', 'notsonice', 'notsopositive', 'nouveau', 'novelty', 'novice', 'nowa', 'nowadays', 'nowcrap', 'nowdefunct', 'nowhere', 'nowuntil', 'nuff', 'nuggets', 'number', 'numbered', 'numbers', 'numerous', 'nun', 'nurse', 'nurses', 'nusiance', 'nuts', 'nutshell', 'nutty', 'nylons', 'oak', 'oakfilled', 'oasis', 'oatmeal', 'object', 'objective', 'objects', 'obligatory', 'oblige', 'obliged', 'oblivious', 'obnoxious', 'obnoxiously', 'observation', 'observations', 'observe', 'observed', 'obsessed', 'obstacle', 'obtain', 'obtrusive', 'obvious', 'obviously', 'ocassional', 'occasion', 'occasional', 'occasionally', 'occasions', 'occupancy', 'occupied', 'occupy', 'occurred', 'oclock', 'octopus', 'odd', 'oddest', 'oddly', 'odor', 'odors', 'offday', 'offending', 'offense', 'offer', 'offered', 'offereings', 'offering', 'offerings', 'offers', 'office', 'officer', 'officers', 'offices', 'officially', 'offleash', 'offputting', 'offroad', 'offset', 'often', 'ofthe', 'ogling', 'oh', 'ohhh', 'oil', 'oiled', 'oils', 'oilthe', 'oily', 'oink', 'ok', 'okay', 'okayed', 'okaythe', 'okfirst', 'okra', 'ol', 'old', 'older', 'oldest', 'oldfart', 'olds', 'oldtasting', 'ole', 'olive', 'olives', 'omelet', 'omelete', 'omelets', 'omelette', 'omen', 'omlette', 'onbut', 'onceinawhile', 'onceinawhiletreat', 'ondemand', 'one', 'oneEverything', 'onedimensional', 'oneinch', 'onenada', 'oneofakind', 'oneonone', 'ones', 'onestopshop', 'onethey', 'onhate', 'onhold', 'onion', 'onions', 'online', 'onoff', 'onscreen', 'onsite', 'onto', 'oogling', 'oomph', 'oooooKAY', 'oops', 'oopsie', 'oozed', 'open', 'opened', 'opener', 'opening', 'openminded', 'opens', 'operate', 'operated', 'operation', 'operator', 'opinion', 'opinions', 'opportunities', 'opportunity', 'opposed', 'opposite', 'opt', 'opted', 'optician', 'optimistic', 'opting', 'option', 'options', 'optionsand', 'optionsespecially', 'optionswhich', 'orange', 'oranges', 'orangutan', 'orangutans', 'orchestra', 'ordeal', 'order', 'orderand', 'ordered', 'orderedand', 'ordering', 'orderit', 'orders', 'ordinary', 'ordred', 'organic', 'organics', 'organization', 'organized', 'organizing', 'oriented', 'origin', 'original', 'originality', 'originally', 'ornate', 'orzo', 'oshibori', 'others', 'othersPlus', 'otherwise', 'ought', 'ounce', 'ouncer', 'ounces', 'ournces', 'outI', 'outThere', 'outand', 'outback', 'outdated', 'outdoor', 'outdoors', 'outer', 'outfield', 'outfit', 'outgoing', 'outing', 'outings', 'outlets', 'outline', 'outlyers', 'outofplace', 'outofthe', 'outoftown', 'outrageous', 'outrageously', 'outs', 'outside', 'outstanding', 'outta', 'outweigh', 'outweighs', 'oven', 'ovenroasted', 'ovens', 'over21', 'overabundance', 'overall', 'overallit', 'overattentive', 'overbearing', 'overboard', 'overcame', 'overcharged', 'overcooked', 'overcookedthey', 'overcrowded', 'overdone', 'overdressed', 'overdue', 'overestimate', 'overflow', 'overflowing', 'overflows', 'overhead', 'overhear', 'overheard', 'overhyped', 'overinflated', 'overkill', 'overload', 'overloaded', 'overlong', 'overlooked', 'overlooks', 'overly', 'overlyflavored', 'overnight', 'overpaid', 'overpower', 'overpowered', 'overpowering', 'overpriced', 'overrate', 'overrated', 'overrun', 'overs', 'oversalted', 'overshadowed', 'oversight', 'oversized', 'overstaffed', 'overstate', 'overstuffed', 'overt', 'overtake', 'overtaking', 'overthetop', 'overviews', 'overwhelmed', 'overwhelming', 'owe', 'owned', 'owner', 'owners', 'ownership', 'oysters', 'oz', 'pablano', 'pace', 'paced', 'pacing', 'pack', 'package', 'packaged', 'packed', 'packets', 'packing', 'packs', 'pad', 'padlock', 'page', 'pages', 'paid', 'pain', 'painful', 'painfully', 'painintheassness', 'painless', 'pains', 'paint', 'painted', 'painting', 'paintings', 'pair', 'paired', 'pairings', 'pairs', 'paitiently', 'pajamas', 'palaces', 'palate', 'pale', 'paleas', 'palette', 'palmer', 'palov', 'pals', 'pan', 'panang', 'pancake', 'pancakes', 'pancakesdont', 'pancetta', 'pancit', 'pancreas', 'panda', 'pandora', 'paneer', 'panel', 'paneling', 'panera', 'panini', 'panino', 'panko', 'pans', 'panseared', 'pant', 'pantry', 'pants', 'pao', 'papadums', 'papaya', 'paper', 'papers', 'paperthin', 'paperwork', 'par', 'paradise', 'parantha', 'paraphernalia', 'parasite', 'parasites', 'parents', 'parfait', 'parings', 'park', 'parked', 'parking', 'parkingnot', 'parks', 'parlor', 'parm', 'parmesaean', 'parmesan', 'part', 'partake', 'partial', 'participants', 'participating', 'particle', 'particular', 'particularly', 'parties', 'partly', 'partner', 'partners', 'parts', 'parttime', 'party', 'partying', 'pass', 'passable', 'passed', 'passenger', 'passengers', 'passerby', 'passes', 'passing', 'passion', 'passionate', 'past', 'pasta', 'pastabut', 'pastas', 'pastdue', 'pasthisprime', 'pasties', 'pastor', 'pastors', 'pastrami', 'pastries', 'pastry', 'pastured', 'pat', 'patato', 'patch', 'patent', 'path', 'pathetic', 'patient', 'patiently', 'patients', 'patio', 'patiodininglounging', 'patios', 'patron', 'patronage', 'patronize', 'patrons', 'pattie', 'patties', 'patty', 'pause', 'pawn', 'pay', 'paycheck', 'paying', 'payment', 'payments', 'payparking', 'pays', 'pb', 'peace', 'peaceful', 'peach', 'peak', 'peaks', 'peanut', 'peanuts', 'peanutty', 'peas', 'pecan', 'pecans', 'pecanswith', 'pecorino', 'peculiar', 'peculiarly', 'pedestrian', 'pedi', 'pedicure', 'pedigree', 'pee', 'peeked', 'peeking', 'peepee', 'peeps', 'peering', 'peeve', 'peeved', 'peices', 'peking', 'pen', 'penal', 'pending', 'penne', 'penny', 'peon', 'people', 'peoplebut', 'peoples', 'peoplewatching', 'peopleyou', 'pep', 'peperocini', 'peperoni', 'pepitas', 'pepper', 'peppercorn', 'peppered', 'pepperoni', 'peppers', 'peppersonions', 'peppy', 'per', 'percent', 'perfect', 'perfection', 'perfectly', 'performance', 'performances', 'performed', 'performer', 'performers', 'performing', 'perfume', 'perhaps', 'perimeter', 'period', 'periods', 'perk', 'permanent', 'permanently', 'permeates', 'permission', 'permitted', 'perpetual', 'perplexed', 'perse', 'perserveringmaybe', 'persisted', 'persistent', 'person', 'personable', 'personal', 'personalities', 'personality', 'personally', 'personals', 'persons', 'perspective', 'persuade', 'peruse', 'perusing', 'pestlein', 'pesto', 'pet', 'petals', 'petite', 'pets', 'pffft', 'pharmacy', 'phenomena', 'phenomenal', 'philly', 'philosophy', 'pho', 'phoenix', 'phone', 'phones', 'phony', 'photo', 'photogenic', 'photographer', 'photography', 'photos', 'phx', 'physical', 'physician', 'physicians', 'piano', 'pianos', 'pibil', 'pic', 'picatta', 'pick', 'picked', 'pickier', 'pickiest', 'picking', 'pickings', 'pickins', 'pickle', 'pickled', 'pickles', 'picks', 'pickup', 'picky', 'picnic', 'pico', 'pics', 'picture', 'pictured', 'pictures', 'picturesque', 'pie', 'pieI', 'piece', 'pieceofcrap', 'pieces', 'pierced', 'pies', 'pig', 'pigeons', 'piggies', 'piggly', 'pigs', 'pilaf', 'pile', 'piled', 'piles', 'pillow', 'pillows', 'pimp', 'pin', 'pinapple', 'pinch', 'pine', 'pineapple', 'ping', 'pining', 'pink', 'pinkbet', 'pino', 'pinot', 'pinots', 'pint', 'pints', 'pinwheel', 'pipe', 'pipedin', 'pipes', 'piping', 'pirate', 'piss', 'pissed', 'pistachio', 'pit', 'pita', 'pitas', 'pitch', 'pitcher', 'pitchers', 'pits', 'pizokie', 'pizza', 'pizzaat', 'pizzaits', 'pizzalike', 'pizzas', 'pizzasI', 'pizzeria', 'pizzeriaturnedbar', 'pizzetas', 'pizzza', 'placard', 'place', 'placeNeed', 'placea', 'placebut', 'placed', 'places', 'placeso', 'placethe', 'placing', 'plague', 'plagued', 'plain', 'plainand', 'plan', 'plane', 'planet', 'planetarium', 'plank', 'planned', 'planning', 'plans', 'plant', 'plantain', 'plantains', 'plants', 'plastic', 'plastics', 'plate', 'plates', 'platesplitting', 'platter', 'platters', 'play', 'played', 'player', 'players', 'playing', 'playlist', 'playoff', 'plays', 'playseriouslyif', 'plaza', 'plea', 'pleading', 'pleasant', 'pleasantly', 'please', 'pleased', 'pleasemakemyheadstopfeelinglikeitsabouttoexplode', 'pleasing', 'pleasurable', 'pleasure', 'plentiful', 'plenty', 'plethora', 'plop', 'plopped', 'plops', 'ploy', 'plug', 'plugs', 'plus', 'pm', 'po', 'poached', 'poblano', 'pocket', 'pocketbook', 'pockets', 'poetry', 'point', 'pointed', 'pointless', 'points', 'poison', 'poisoned', 'poisoning', 'poisson', 'poker', 'pokergo', 'pole', 'police', 'policy', 'polish', 'polite', 'politely', 'political', 'pomegranate', 'pompous', 'pond', 'ponder', 'pong', 'pony', 'poo', 'pooches', 'pooing', 'pool', 'poolcabana', 'pools', 'poolside', 'poop', 'pooped', 'poor', 'poorer', 'poori', 'poorly', 'pop', 'popcorn', 'popped', 'poppers', 'popping', 'popular', 'popularity', 'population', 'pork', 'porn', 'portafilter', 'porter', 'porterhouse', 'portfolio', 'portguese', 'portifino', 'portion', 'portioned', 'portions', 'portobello', 'portobellos', 'portrait', 'portraits', 'pose', 'poses', 'posh', 'positions', 'positive', 'positives', 'positivity', 'possible', 'possibly', 'post', 'post911', 'posted', 'posters', 'postgrad', 'posts', 'pot', 'potato', 'potatoes', 'potential', 'potentially', 'pots', 'potstickers', 'pottery', 'pound', 'pounded', 'pounds', 'pour', 'pourd', 'poured', 'pouring', 'pours', 'powder', 'powdered', 'power', 'powered', 'powerfully', 'powerhungry', 'ppl', 'practical', 'practically', 'practice', 'practices', 'practitioner', 'precisely', 'precooked', 'precut', 'predictability', 'predictable', 'predinner', 'prediscount', 'prefab', 'preface', 'prefer', 'preference', 'preferred', 'preggers', 'pregnant', 'premade', 'premise', 'premises', 'premium', 'preorder', 'prepackaged', 'prepaid', 'preparation', 'prepare', 'prepared', 'prescribed', 'presence', 'present', 'presentable', 'presentation', 'presented', 'presents', 'preservatives', 'preserve', 'preserved', 'preserves', 'president', 'press', 'pressed', 'pressedfried', 'pressing', 'pressure', 'pressured', 'pretend', 'pretentious', 'pretty', 'prettyaverage', 'pretzel', 'pretzels', 'preveg', 'prevent', 'prevented', 'preventmake', 'previous', 'previously', 'price', 'priced', 'priceless', 'pricepoint', 'pricer', 'prices', 'pricey', 'pricier', 'pricing', 'pricingehhh', 'pricy', 'pride', 'prides', 'primarily', 'primary', 'primavera', 'prime', 'princess', 'principle', 'printed', 'prints', 'prior', 'prioritize', 'prissy', 'privacy', 'private', 'prix', 'prixefix', 'pro', 'prob', 'probably', 'probaby', 'proble', 'problem', 'problematic', 'problems', 'problemthe', 'procedure', 'procedures', 'proceed', 'proceeded', 'proceeds', 'process', 'processed', 'processing', 'proclaimed', 'proclaiming', 'proclaims', 'produce', 'producerbut', 'produces', 'product', 'production', 'products', 'profane', 'professional', 'professionally', 'professionals', 'professors', 'proficiently', 'profile', 'profit', 'profiterole', 'profiteroles', 'programming', 'programs', 'progress', 'progressed', 'progressivehip', 'progressively', 'project', 'projects', 'prolly', 'promise', 'promised', 'promising', 'promoter', 'promotes', 'promoting', 'promotional', 'prompt', 'prompted', 'promptly', 'prone', 'pronounce', 'pronounced', 'proof', 'prop', 'propane', 'proper', 'properly', 'properties', 'property', 'proponent', 'proportion', 'proposition', 'props', 'pros', 'prosciutto', 'proscuitto', 'protective', 'protege', 'protein', 'protruding', 'proud', 'proudly', 'prove', 'proved', 'proves', 'provide', 'provided', 'providenciales', 'provider', 'providers', 'provides', 'providing', 'provincial', 'provolone', 'proximity', 'pruitts', 'ps', 'pseudohipness', 'psycho', 'psychology', 'pu', 'pub', 'public', 'publican', 'publicthats', 'pubs', 'puck', 'pudding', 'puff', 'puffery', 'puffs', 'puke', 'pull', 'pulled', 'pulling', 'pumped', 'pumpkin', 'pumpmefullofantibioticswhileistandinmyownshitwhilethesteroidsgrowmebiggerthanmybodywasevergoingtogrowin90daysfeelotmeat', 'pumps', 'punch', 'punching', 'punchmaybe', 'puncturing', 'pungent', 'punk', 'puny', 'puppy', 'purchase', 'purchased', 'purchases', 'purchasing', 'pure', 'purely', 'purge', 'purist', 'purists', 'purple', 'purpose', 'purse', 'pus', 'push', 'pushed', 'pushes', 'pushiness', 'pushing', 'put', 'puts', 'putting', 'puzzled', 'quadruple', 'quaint', 'qualified', 'qualifies', 'qualities', 'quality', 'qualm', 'qualms', 'quantity', 'quart', 'quarter', 'quartered', 'quarters', 'quasicouch', 'quasicubicles', 'queens', 'quench', 'quesadilla', 'quesadillas', 'quesdilla', 'quesdillas', 'queso', 'quest', 'question', 'questionable', 'questions', 'questionsinquiries', 'quibbles', 'quiche', 'quick', 'quicker', 'quickish', 'quickly', 'quiet', 'quieter', 'quietest', 'quilt', 'quilter', 'quintessential', 'quip', 'quips', 'quirks', 'quit', 'quite', 'quiteflaccid', 'quotable', 'quote', 'quoted', 'quotes', 'rabitt', 'race', 'races', 'racing', 'rack', 'racket', 'racketball', 'racks', 'raddest', 'radiation', 'radical', 'radio', 'radish', 'radishy', 'radius', 'rag', 'rage', 'raggedy', 'ragout', 'ragtime', 'rail', 'railings', 'rain', 'rainbow', 'rainstorm', 'rainy', 'raised', 'raisin', 'ramen', 'ramenand', 'ramkin', 'ramp', 'ran', 'ranch', 'ranchero', 'rancheros', 'random', 'randomly', 'rang', 'range', 'ranged', 'ranging', 'rangoon', 'rank', 'raprapraprap', 'rare', 'rarely', 'raspberry', 'ratatouille', 'rate', 'rated', 'rates', 'rather', 'rating', 'ratings', 'ratio', 'rats', 'raucous', 'rave', 'raved', 'ravenous', 'raves', 'ravine', 'raving', 'ravioli', 'raw', 'rd', 'reach', 'reachable', 'reached', 'reaches', 'reaching', 'reacquainted', 'react', 'reaction', 'read', 'reader', 'readily', 'reading', 'readjust', 'readjusted', 'reads', 'ready', 'reakfast', 'real', 'realistically', 'reality', 'realize', 'realized', 'reallllly', 'really', 'reallyfresh', 'reallyits', 'reals', 'realtor', 'reappeared', 'reasanablly', 'reason', 'reasonable', 'reasonably', 'reasonble', 'reasoning', 'reasons', 'reasonson', 'rebuilding', 'recall', 'recap', 'reccomend', 'reccomendations', 'reccs', 'receipt', 'receipts', 'receive', 'received', 'receiving', 'recent', 'recently', 'receptacles', 'reception', 'receptionist', 'receptive', 'recession', 'rechecked', 'recieved', 'recipe', 'recipes', 'recipt', 'reckon', 'reclaim', 'reclined', 'reclining', 'recognition', 'recognizable', 'recognize', 'recognized', 'recognizing', 'recomend', 'recommend', 'recommendation', 'recommendations', 'recommended', 'recommending', 'record', 'recover', 'recoveredkinda', 'recovering', 'rectify', 'recurring', 'recycle', 'red', 'redecorating', 'redeem', 'redeemed', 'redeemer', 'redeeming', 'redemption', 'redesigned', 'rediculuslly', 'redoctor', 'redolent', 'redone', 'redpurple', 'reduced', 'reducing', 'reduction', 'reeeeaaalllyyyyy', 'reeeeeally', 'reeked', 'reevaluatethe', 'ref', 'refer', 'reference', 'refers', 'refiled', 'refill', 'refilled', 'refilling', 'refills', 'refillsgeezzz', 'refired', 'reflect', 'reflecting', 'reflection', 'reflects', 'refrain', 'refrained', 'refreshing', 'refreshingly', 'refreshment', 'refried', 'refrigerate', 'refrigerated', 'refrigerators', 'refund', 'refurbished', 'refusal', 'refuse', 'refused', 'reg', 'regard', 'regarded', 'regarding', 'regardless', 'regards', 'region', 'register', 'registered', 'registers', 'registry', 'regret', 'regretted', 'regular', 'regularly', 'regulars', 'reheated', 'reheats', 'rehydrated', 'rejection', 'rejuvenate', 'relate', 'related', 'relationship', 'relative', 'relatively', 'relatives', 'relax', 'relaxation', 'relaxed', 'relaxing', 'relayed', 'relent', 'relentless', 'relents', 'relevant', 'reliable', 'relic', 'relief', 'relieved', 'religion', 'religious', 'relish', 'reliving', 'rellano', 'relleno', 'rellenos', 'relocate', 'reluctant', 'remade', 'remain', 'remaining', 'remains', 'remark', 'remarkable', 'remarkably', 'remedied', 'remedy', 'remember', 'remembered', 'remembering', 'remind', 'reminded', 'reminder', 'reminds', 'reminescent', 'reminisce', 'reminiscent', 'reminiscing', 'remodel', 'remodeled', 'remodeling', 'remotely', 'removable', 'remove', 'removed', 'removing', 'renaissance', 'renamed', 'rendition', 'renew', 'renovate', 'renovated', 'renovating', 'renovation', 'renovationAll', 'renovations', 'renown', 'rent', 'rental', 'renting', 'rents', 'reopen', 'reopened', 'repair', 'repast', 'repeat', 'repeated', 'repeatedly', 'repeating', 'repeats', 'repercussions', 'replace', 'replaced', 'replacement', 'replicate', 'replied', 'reply', 'report', 'reportedly', 'reporting', 'representative', 'represented', 'reps', 'repurposed', 'reputation', 'request', 'requested', 'requesting', 'requests', 'require', 'required', 'requires', 'requiring', 'requisite', 'reschedule', 'rescue', 'rescueaid', 'research', 'resemble', 'resembled', 'resembles', 'resembling', 'reservation', 'reservations', 'reserve', 'reserved', 'reset', 'reside', 'residence', 'resident', 'residential', 'resolved', 'resonated', 'resort', 'respect', 'respectable', 'respective', 'respond', 'responded', 'responding', 'response', 'responsibility', 'responsible', 'rest', 'restaraunt', 'restauantthe', 'restaurant', 'restaurantWine', 'restaurantbaked', 'restaurantbar', 'restaurantcom', 'restaurantmade', 'restaurants', 'restaurateur', 'resting', 'restock', 'restocked', 'restoration', 'restored', 'restroom', 'restrooms', 'restthe', 'resturant', 'resturants', 'result', 'resulting', 'results', 'resume', 'retail', 'retailers', 'retails', 'retakes', 'retarded', 'rethink', 'retired', 'retiring', 'retooled', 'retoxing', 'retreated', 'retrieved', 'retro', 'retromodern', 'return', 'returned', 'returning', 'returns', 'reuben', 'revelers', 'reversal', 'reverse', 'review', 'reviewIm', 'reviewed', 'reviewer', 'reviewers', 'reviewing', 'reviews', 'revised', 'revisit', 'revitalizing', 'revived', 'revolutionary', 'revolves', 'reward', 'rewrite', 'rhus', 'rib', 'ribeye', 'ribs', 'ribsbut', 'rice', 'riceask', 'rich', 'richardsons', 'riche', 'richest', 'richness', 'ricotta', 'rid', 'riddled', 'ride', 'ridealong', 'rides', 'ridiculous', 'ridiculously', 'ridiculousthe', 'riding', 'rigatoni', 'right', 'rights', 'rigid', 'ring', 'ringing', 'rings', 'rink', 'rinse', 'rip', 'ripe', 'riped', 'ripoff', 'ripped', 'rise', 'riser', 'risk', 'risks', 'risoto', 'risotto', 'rissoto', 'ritual', 'ritzy', 'rivaled', 'rivals', 'roaches', 'road', 'roadbut', 'roads', 'roadside', 'roast', 'roasted', 'roasts', 'robes', 'robot', 'robotic', 'rochelle', 'rock', 'rocked', 'rockers', 'rocket', 'rockhard', 'rockin', 'rocking', 'rocks', 'rocky', 'rode', 'rods', 'role', 'roll', 'rolled', 'roller', 'rolling', 'rolls', 'rollsand', 'roma', 'romaine', 'romance', 'romano', 'romantic', 'roof', 'rooftop', 'rooftops', 'room', 'rooms', 'roomy', 'root', 'roots', 'rosa', 'rose', 'rosehips', 'rosemary', 'roses', 'rossa', 'roster', 'rotate', 'rotating', 'rotation', 'roti', 'rotisserie', 'rouge', 'rough', 'roughly', 'roughness', 'round', 'rounded', 'rounding', 'rounds', 'roundtrip', 'route', 'routing', 'row', 'rowdy', 'rows', 'royalty', 'rqstd', 'rub', 'rubbery', 'rubbing', 'rubios', 'rubs', 'ruby', 'rude', 'rudely', 'rueben', 'ruin', 'ruined', 'rule', 'rules', 'rum', 'rumba', 'rumblings', 'rumors', 'run', 'rundown', 'runner', 'runners', 'running', 'runny', 'runofthemill', 'runs', 'runway', 'rush', 'rushed', 'rushing', 'rushy', 'rustic', 'rye', 'ryle', 'sa', 'saccharine', 'sacrifice', 'sad', 'saddened', 'saddens', 'sadder', 'sadly', 'safe', 'safer', 'safety', 'safeway', 'saffron', 'said', 'sail', 'sake', 'saki', 'salad', 'saladfor', 'salads', 'saladsever', 'saladwhich', 'salami', 'salbitxada', 'sale', 'sales', 'saleslady', 'salesperson', 'sally', 'salmon', 'salon', 'salsa', 'salsahorrible', 'salsas', 'salt', 'salted', 'saltier', 'saltiness', 'saltpepper', 'salty', 'salvageable', 'salvaged', 'sambar', 'sammie', 'sammynot', 'samosas', 'sample', 'sampled', 'sampler', 'samples', 'sampling', 'sand', 'sandal', 'sandals', 'sandwhich', 'sandwhiches', 'sandwich', 'sandwichI', 'sandwiches', 'sandwichesSo', 'sandwichessalads', 'sandwichplus', 'sandwichpotato', 'sangria', 'sangrias', 'sanitary', 'sans', 'sanscar', 'sanwiches', 'sashayed', 'sashimi', 'sassy', 'sat', 'satellite', 'satiated', 'satisfactory', 'satisfied', 'satisfy', 'satisfying', 'saturated', 'saturday', 'sauce', 'saucecovered', 'sauced', 'sauces', 'sauceso', 'saucy', 'sauerkraut', 'sauna', 'sauntered', 'sausage', 'sausages', 'sautéed', 'save', 'saved', 'saver', 'saves', 'saving', 'savings', 'savor', 'savoriness', 'savory', 'saw', 'say', 'saycheck', 'saying', 'says', 'saywe', 'scalded', 'scale', 'scaled', 'scallions', 'scallop', 'scallops', 'scaloppine', 'scamming', 'scan', 'scanning', 'scant', 'scantily', 'scarce', 'scared', 'scarf', 'scarfwearing', 'scaring', 'scary', 'scattered', 'scavenger', 'scene', 'scenic', 'scewers', 'schedule', 'scheduling', 'scheme', 'schlep', 'schnitzel', 'schnitzels', 'school', 'schtick', 'schwasted', 'science', 'scientists', 'scollops', 'sconces', 'scone', 'scoop', 'scooping', 'scoops', 'scootsdale', 'scoped', 'score', 'scoreboard', 'scored', 'scores', 'scoring', 'scotch', 'scottsdale', 'scramble', 'scrambled', 'scrambles', 'scrambling', 'scraping', 'scraps', 'scratch', 'scrawled', 'scream', 'screaming', 'screams', 'screen', 'screens', 'screw', 'screwed', 'screwing', 'scrub', 'scruffy', 'scrunch', 'sculptures', 'scummy', 'se', 'sea', 'seabass', 'seafood', 'seal', 'sealed', 'sealing', 'seamlessly', 'search', 'searching', 'seared', 'season', 'seasonal', 'seasoned', 'seasonedloved', 'seasoning', 'seasonings', 'seasons', 'seat', 'seatbelt', 'seated', 'seating', 'seatings', 'seats', 'seaweed', 'sec', 'secluded', 'second', 'secondhand', 'secondit', 'seconds', 'secret', 'section', 'sectioned', 'sections', 'secure', 'security', 'see', 'seeandbeseen', 'seedier', 'seeds', 'seedy', 'seeing', 'seek', 'seeking', 'seem', 'seemed', 'seemingly', 'seems', 'seen', 'seep', 'seerun', 'sees', 'seized', 'select', 'selected', 'selection', 'selections', 'self', 'selfcentered', 'selfcheckouts', 'selfrespecting', 'selfserve', 'selfservice', 'sell', 'selling', 'sells', 'semblance', 'semester', 'semiattractively', 'semiboringmorelikebrowngravy', 'semiglorified', 'semilarge', 'semiprivate', 'semistylish', 'semolina', 'send', 'sending', 'sends', 'senior', 'sense', 'sensed', 'sensible', 'sensory', 'sent', 'sentence', 'sentiment', 'separate', 'separately', 'separators', 'seperate', 'seperated', 'seperately', 'series', 'serious', 'seriously', 'sermon', 'serve', 'served', 'server', 'servere', 'serverpu', 'servers', 'serves', 'service', 'serviceYC', 'serviceable', 'serviceever', 'servicepretty', 'servicereturns', 'services', 'serving', 'servings', 'sesame', 'session', 'set', 'sets', 'setting', 'settingFor', 'settings', 'settle', 'settled', 'settling', 'setup', 'seven', 'sever', 'several', 'severe', 'sewer', 'sex', 'sexy', 'shabby', 'shack', 'shade', 'shaded', 'shady', 'shake', 'shaken', 'shaker', 'shakes', 'shaking', 'shall', 'shallot', 'shame', 'shampoo', 'shampoos', 'shank', 'shape', 'shaped', 'share', 'shared', 'shares', 'sharing', 'sharp', 'sharpie', 'shasta', 'shattered', 'shattering', 'shaved', 'shawarma', 'shear', 'shed', 'sheen', 'sheepishly', 'sheer', 'sheets', 'shelf', 'shelftag', 'shell', 'shells', 'shelved', 'shelves', 'shepherds', 'sherry', 'shes', 'shick', 'shield', 'shields', 'shift', 'shifty', 'shine', 'shined', 'shining', 'shiny', 'ship', 'shipped', 'shipping', 'shirt', 'shirtjust', 'shirtless', 'shirts', 'shit', 'shiteous', 'shitty', 'shivering', 'shock', 'shocked', 'shocker', 'shocking', 'shocks', 'shoe', 'shoebox', 'shoes', 'shoestring', 'shoot', 'shooting', 'shoots', 'shop', 'shoppe', 'shopped', 'shopper', 'shoppers', 'shopping', 'shops', 'short', 'shortage', 'shortcake', 'shortchanged', 'shortchanging', 'shorter', 'shorties', 'shortly', 'shortribs', 'shorts', 'shot', 'shotgun', 'shots', 'shoulder', 'shoulders', 'shouldnt', 'shouldve', 'shout', 'shouted', 'shouting', 'shove', 'shoved', 'show', 'showed', 'shower', 'showered', 'showers', 'showing', 'shown', 'shows', 'shred', 'shredded', 'shrimp', 'shrimpchicken', 'shrimppork', 'shrimps', 'shrinking', 'shriveled', 'shrug', 'shrugs', 'shuddered', 'shuffle', 'shuffleboard', 'shut', 'shutting', 'shuttle', 'shuttles', 'siblings', 'sicilian', 'sick', 'sickhmmmmsoggy', 'sickly', 'side', 'sidebar', 'sideish', 'sidenote', 'sides', 'sidespick', 'sidewalk', 'sidewalks', 'sigh', 'sighed', 'sight', 'sights', 'sign', 'signage', 'signal', 'signature', 'signatures', 'signed', 'significant', 'significantly', 'signs', 'signsboughtnewbutmadetolookold', 'silence', 'silicone', 'silk', 'silky', 'sills', 'silly', 'silver', 'silverware', 'similar', 'simmered', 'simmering', 'simple', 'simplicity', 'simply', 'simulaneously', 'simultaneous', 'sin', 'since', 'sinfully', 'sing', 'singer', 'singing', 'single', 'singled', 'sip', 'sipped', 'sipping', 'sir', 'sirloin', 'sis', 'sistahs', 'sister', 'sisterinlaw', 'sisters', 'sit', 'sitall', 'sitdown', 'site', 'sits', 'sitting', 'situated', 'situation', 'situations', 'six', 'sixpack', 'sizable', 'size', 'sizeable', 'sized', 'sizes', 'sizzling', 'skating', 'skepitcal', 'sketchy', 'sketchysometime', 'skew', 'skewer', 'skiball', 'skies', 'skill', 'skillet', 'skills', 'skimpy', 'skin', 'skinny', 'skins', 'skip', 'skipped', 'skipping', 'sku', 'skulls', 'sky', 'skyhigh', 'skyline', 'skyrocketed', 'slab', 'slabs', 'slacks', 'slammed', 'slamming', 'slant', 'slap', 'slapped', 'slaw', 'sleek', 'sleep', 'sleeper', 'sleeping', 'slew', 'slice', 'sliced', 'slicer', 'slices', 'slicesalso', 'slick', 'slide', 'sliders', 'sliderswho', 'sliding', 'slight', 'slighted', 'slightest', 'slightly', 'slim', 'slimy', 'sling', 'slip', 'slippery', 'slips', 'sliver', 'slivers', 'slllllllow', 'slllllow', 'sloe', 'slogan', 'slop', 'slope', 'slopes', 'slopping', 'slosh', 'slot', 'slow', 'slowed', 'slower', 'slowly', 'slowlyour', 'slows', 'sluggish', 'sluggishness', 'slurp', 'slushy', 'smacked', 'smal', 'small', 'small3', 'smallI', 'smallIf', 'smallass', 'smaller', 'smallest', 'smallish', 'smallwhich', 'smancy', 'smart', 'smarter', 'smash', 'smashburger', 'smashed', 'smattering', 'smell', 'smelled', 'smells', 'smile', 'smiled', 'smiles', 'smiling', 'smoke', 'smoked', 'smoker', 'smokers', 'smokesThe', 'smokey', 'smokin', 'smokiness', 'smoking', 'smokingfriendly', 'smoky', 'smooth', 'smoother', 'smoothie', 'smoothies', 'smoothly', 'smothered', 'snack', 'snacking', 'snacks', 'snafu', 'snag', 'snagged', 'snails', 'snake', 'snaked', 'snapped', 'snapper', 'snarky', 'snazzier', 'sneak', 'sneaked', 'sneezing', 'snickerdoodles', 'snide', 'sniffed', 'snippet', 'snob', 'snobbery', 'snobby', 'snobettes', 'snobs', 'snooty', 'snotty', 'snow', 'snowbird', 'snuck', 'soId', 'soak', 'soaked', 'soaking', 'soap', 'soapbox', 'soar', 'soaring', 'sober', 'socalled', 'soccer', 'social', 'socialite', 'socialize', 'socks', 'soda', 'sodas', 'sodium', 'sofa', 'soft', 'softened', 'softer', 'softies', 'softness', 'soggy', 'sold', 'sole', 'solely', 'soley', 'solicitors', 'solid', 'solidly', 'solidmenu', 'solidsolidsolidplus', 'solo', 'solution', 'solved', 'sombody', 'somebody', 'someday', 'somehow', 'someone', 'someones', 'someplace', 'something', 'somethings', 'sometime', 'sometimes', 'somewhat', 'somewhere', 'son', 'song', 'songs', 'sonoran', 'sons', 'soo', 'soon', 'sooner', 'soontobeborn', 'sooo', 'soooo', 'sooooo', 'soooooo', 'sooooooo', 'soothing', 'sopapillas', 'sophisticated', 'sopooritstealsitsrecipesfromotherrestaurants', 'soppy', 'soprassata', 'sorbet', 'sore', 'sorely', 'sorority', 'sorrry', 'sorry', 'sort', 'sorta', 'sorting', 'sorts', 'soso', 'soufflé', 'soul', 'soulsatisfying', 'sound', 'sounded', 'sounding', 'soundproof', 'sounds', 'soup', 'soups', 'soupy', 'sour', 'source', 'sourdough', 'south', 'southern', 'southwest', 'southwestern', 'southwesternTex', 'southwestmexican', 'souvenir', 'sovereign', 'soy', 'soyou', 'sp', 'spa', 'space', 'spacedgot', 'spaces', 'spacious', 'spackle', 'spaghetti', 'spam', 'spanikopita', 'spanish', 'spank', 'spare', 'sparkle', 'sparkles', 'sparkling', 'sparse', 'spartan', 'spas', 'spatzle', 'speak', 'speakeasy', 'speaker', 'speakers', 'speaking', 'spear', 'special', 'specialbut', 'specialities', 'specialize', 'specialized', 'specializes', 'specially', 'specials', 'specialties', 'specialty', 'specific', 'specifically', 'specifics', 'specified', 'specify', 'speckles', 'spectacle', 'spectacular', 'spectrum', 'speed', 'speedy', 'spell', 'spelled', 'spend', 'spending', 'spendthrift', 'spendy', 'spent', 'spice', 'spiced', 'spices', 'spicey', 'spicies', 'spiciest', 'spiciness', 'spicy', 'spicyI', 'spicynes', 'spiders', 'spied', 'spiedini', 'spill', 'spilled', 'spilling', 'spin', 'spinach', 'spinatos', 'spinning', 'spiral', 'spirit', 'spit', 'spite', 'splash', 'splashed', 'splashing', 'splatter', 'split', 'splitable', 'splitting', 'splurge', 'spoil', 'spoiled', 'spoke', 'spokesecurity', 'spongelike', 'spooky', 'spoon', 'spoonful', 'sporadic', 'sport', 'sporting', 'sports', 'sportstheme', 'spot', 'spotheard', 'spotless', 'spoton', 'spots', 'spotted', 'spotty', 'spray', 'sprayed', 'spread', 'spreadeagled', 'sprees', 'spring', 'springtime', 'springy', 'sprinkle', 'sprinkled', 'sprinkles', 'sprint', 'sprits', 'sprouts', 'spudskins', 'spumoni', 'spurred', 'spying', 'sqeaky', 'sqewers', 'square', 'squares', 'squash', 'squashed', 'squeal', 'squeeze', 'squeezed', 'squeezing', 'squid', 'squint', 'squinting', 'squirm', 'squirt', 'squished', 'squishy', 'squishyovercooked', 'st', 'stabbed', 'stable', 'stack', 'stacked', 'stacks', 'stadium', 'stadiums', 'staff', 'staffand', 'staffed', 'staffs', 'staffservers', 'stage', 'stail', 'stain', 'stained', 'stainedglass', 'stainless', 'stains', 'stairs', 'stale', 'staletasting', 'stalks', 'stall', 'stalls', 'stamp', 'stamped', 'stand', 'standa', 'standard', 'standardnothing', 'standards', 'standby', 'standing', 'standout', 'standpoint', 'stands', 'staple', 'staples', 'star', 'starbucks', 'stared', 'starednot', 'stares', 'staring', 'starring', 'stars', 'starsaverage', 'starsnot', 'start', 'startas', 'started', 'starter', 'starters', 'starting', 'starts', 'starvation', 'starved', 'starving', 'starwise', 'stat', 'state', 'stated', 'stateoftheart', 'states', 'stating', 'station', 'stationary', 'stationbar', 'stations', 'stats', 'status', 'stay', 'staycation', 'stayed', 'staying', 'stays', 'steadily', 'steady', 'steak', 'steakhouse', 'steakplace', 'steaks', 'steal', 'stealing', 'steam', 'steamed', 'steaming', 'steamrolling', 'steel', 'steep', 'steeply', 'steer', 'steering', 'stellar', 'stem', 'stems', 'stench', 'step', 'stepbystep', 'stepped', 'steppedup', 'stepping', 'steps', 'stereotyping', 'sterile', 'stew', 'stick', 'stickers', 'sticking', 'sticks', 'sticky', 'stiff', 'stil', 'still', 'stimulation', 'stingy', 'stink', 'stinkin', 'stinks', 'stinky', 'stir', 'stirred', 'stock', 'stocked', 'stocking', 'stockpile', 'stoked', 'stole', 'stomach', 'stomachfilling', 'stomachs', 'stone', 'stood', 'stools', 'stooper', 'stop', 'stopin', 'stopped', 'stopping', 'stops', 'store', 'storebought', 'stored', 'stores', 'stories', 'storm', 'storms', 'story', 'storyline', 'stove', 'straight', 'straightened', 'straightforward', 'straightfromfarm', 'strand', 'stranded', 'strange', 'strangely', 'stranger', 'strangers', 'strangest', 'strangle', 'strap', 'strapped', 'strategically', 'straw', 'strawberries', 'strawberry', 'strawberrykiwi', 'straws', 'stray', 'straying', 'stream', 'streaming', 'street', 'streets', 'streetstyle', 'strength', 'stress', 'stressed', 'stressful', 'stretch', 'strewn', 'strict', 'strictly', 'strikes', 'strikingly', 'string', 'strings', 'stringy', 'strip', 'stripmall', 'stripped', 'strips', 'strokes', 'stroll', 'strong', 'stronger', 'strongly', 'struck', 'structure', 'struggle', 'struggled', 'struggling', 'stubborn', 'stuck', 'studded', 'student', 'students', 'studied', 'studio', 'study', 'stuff', 'stuffI', 'stuffed', 'stuffing', 'stuffy', 'stuft', 'stumble', 'stumbled', 'stumbling', 'stumpy', 'stunning', 'stupid', 'style', 'stylecuisine', 'styled', 'styles', 'stylish', 'styrafoam', 'styrofoam', 'sub', 'subbed', 'subject', 'subjected', 'subjecting', 'subjective', 'submit', 'subpar', 'subs', 'subscription', 'subsequent', 'subsided', 'subsidize', 'substance', 'substandard', 'substantial', 'substitute', 'substituted', 'substitutions', 'subtle', 'subtract', 'subtracted', 'suburban', 'suburbia', 'subway', 'subways', 'succeed', 'succeeding', 'success', 'successful', 'succinctly', 'succulent', 'suck', 'sucked', 'sucker', 'sucking', 'sucks', 'sudden', 'suddenly', 'suffer', 'suffered', 'sufficed', 'sufficient', 'sugar', 'sugarcondiment', 'sugared', 'sugars', 'sugary', 'sugaryummy', 'suggest', 'suggested', 'suggestion', 'suggestions', 'suggests', 'suicide', 'suit', 'suitable', 'suitcases', 'suitcasesyou', 'suite', 'suitecomfortable', 'suited', 'suites', 'suits', 'suizas', 'sum', 'summary', 'summed', 'summer', 'summerize', 'summertime', 'summery', 'summit', 'sums', 'sun', 'sundae', 'sundaes', 'sunday', 'sundays', 'sundresses', 'sundried', 'sunglass', 'sunglasses', 'sunheat', 'sunlight', 'sunny', 'sunset', 'sunyou', 'super', 'superb', 'superheavy', 'superhelpful', 'superior', 'superiority', 'superlative', 'superlatives', 'supermarket', 'superporkey', 'superstar', 'supplemented', 'supplied', 'supplier', 'supplies', 'supply', 'support', 'supporter', 'supporting', 'supportive', 'suppose', 'supposed', 'supposedly', 'supreme', 'suprised', 'sure', 'surefire', 'surely', 'surf', 'surface', 'surfaces', 'surgeon', 'surgery', 'surly', 'surmise', 'surmised', 'surprise', 'surprised', 'surprises', 'surprising', 'surprisingly', 'surrounded', 'surrounding', 'surroundings', 'survey', 'survival', 'survive', 'survived', 'sushi', 'sushiI', 'sushiJapanese', 'sushis', 'suspect', 'suspects', 'suspended', 'suspicious', 'sustain', 'sustainable', 'sustained', 'sustenance', 'sustitution', 'swag', 'swallowed', 'swamped', 'swapping', 'swarmed', 'swath', 'swear', 'sweat', 'sweats', 'sweet', 'sweetbut', 'sweetened', 'sweetener', 'sweeter', 'sweetheart', 'sweethot', 'sweetie', 'sweetness', 'swell', 'sweltering', 'swim', 'swimmers', 'swimming', 'swing', 'swipes', 'swirl', 'swirled', 'swiss', 'switch', 'switching', 'swivel', 'swollen', 'swoop', 'sword', 'swung', 'sympathetically', 'symphony', 'syrah', 'syrup', 'syrups', 'syrupy', 'system', 'tab', 'tabbed', 'table', 'tablecloth', 'tablecloths', 'tablemates', 'tablenow', 'tables', 'tableside', 'tablespoons', 'tabouli', 'tabs', 'tacky', 'taco', 'tacos', 'tacototal', 'tad', 'tag', 'tagged', 'tags', 'taiko', 'tail', 'tails', 'tainted', 'take', 'takeaway', 'takehome', 'taken', 'takenoprisoners', 'takeout', 'taker', 'takes', 'taking', 'talent', 'talented', 'talents', 'talk', 'talkative', 'talked', 'talking', 'talks', 'tall', 'taller', 'tam', 'tamale', 'tan', 'tandoori', 'tang', 'tangy', 'tank', 'tanked', 'tap', 'tapas', 'tapenade', 'tapping', 'taps', 'taqueria', 'taquerias', 'taquitos', 'tar', 'tardies', 'target', 'taro', 'tart', 'tartar', 'taste', 'tastebuds', 'tasted', 'tasteful', 'tastefully', 'tasteing', 'tasteless', 'tastes', 'tastey', 'tastier', 'tastiness', 'tasting', 'tasty', 'tastyhowever', 'tastythink', 'tattered', 'tatters', 'tattled', 'tattoo', 'tax', 'taxis', 'tea', 'teach', 'teacher', 'teachers', 'teaches', 'teacup', 'teal', 'team', 'teams', 'tear', 'tears', 'teas', 'teaspoon', 'technical', 'technique', 'techniques', 'techno', 'tee', 'teen', 'teenage', 'teenaged', 'teenagers', 'teens', 'teeny', 'teeth', 'tel', 'telescope', 'television', 'televisions', 'tell', 'telling', 'tells', 'temp', 'tempe', 'temper', 'temperature', 'temperatures', 'tempered', 'temple', 'temporary', 'temps', 'tempted', 'tempting', 'tempura', 'ten', 'tend', 'tendency', 'tender', 'tenderloin', 'tenders', 'tending', 'tendons', 'tends', 'tennis', 'tension', 'tentacles', 'tenth', 'tenths', 'tents', 'tepanaki', 'teppan', 'tequila', 'teriyaki', 'teriyakki', 'term', 'terminal', 'terminals', 'terms', 'terrace', 'terrible', 'terribly', 'terrific', 'terrifying', 'territory', 'terriyaki', 'terse', 'test', 'testers', 'testimonials', 'texmex', 'text', 'texted', 'textiles', 'texturally', 'texture', 'textures', 'thai', 'thang', 'thank', 'thanked', 'thankfully', 'thanking', 'thanks', 'thatOk', 'thata', 'thatanyways', 'thatat', 'thatbut', 'thatnot', 'thats', 'thattoo', 'thaw', 'thd', 'theI', 'theater', 'theaterand', 'theaters', 'theatre', 'theatres', 'theatrical', 'thee', 'theiiir', 'theme', 'themed', 'themes', 'themscenesters', 'thenew', 'thensome', 'theoretically', 'therapeutic', 'therapist', 'therebut', 'therefore', 'thereit', 'therepark', 'theres', 'thermally', 'thermostat', 'theyd', 'theyll', 'theyre', 'theyve', 'thick', 'thickened', 'thicker', 'thickly', 'thieves', 'thin', 'thing', 'thingI', 'things', 'think', 'thinking', 'thinks', 'thinly', 'thinner', 'third', 'thirst', 'thirsty', 'thirtsy', 'thisll', 'thisno', 'tho', 'thorough', 'thoroughly', 'though', 'thoughAll', 'thoughextra', 'thought', 'thoughtful', 'thoughts', 'thousand', 'thousands', 'threadmill', 'three', 'threestar', 'threw', 'thrice', 'thrift', 'thriftbargain', 'thrilled', 'thrilling', 'thrive', 'thriving', 'throat', 'throughout', 'throw', 'throwback', 'throwing', 'thrown', 'thru', 'thumbs', 'thumbssideways', 'thumbsup', 'thumpin', 'thumping', 'thunk', 'thurough', 'thus', 'ticket', 'tickets', 'ticklish', 'tide', 'tidy', 'tidying', 'tied', 'tight', 'tightest', 'tightly', 'tiki', 'tikka', 'til', 'tilapia', 'tile', 'tiles', 'till', 'tilt', 'time', 'timeI', 'timeIll', 'timeand', 'timeless', 'timely', 'timer', 'timers', 'times', 'timeshare', 'timing', 'tinier', 'tint', 'tinted', 'tinting', 'tiny', 'tip', 'tipping', 'tips', 'tipsy', 'tiptoeing', 'tiramisu', 'tire', 'tired', 'tires', 'tiresome', 'title', 'titles', 'toactually', 'toast', 'toasted', 'toasts', 'toasty', 'tobacco', 'tobascos', 'tobut', 'today', 'todays', 'toddler', 'toddlers', 'toed', 'tofrom', 'tofu', 'together', 'togetheranyway', 'togo', 'toilet', 'toilets', 'token', 'tokens', 'told', 'tolerable', 'tolooking', 'tomate', 'tomatillo', 'tomato', 'tomatobasilmozz', 'tomatoes', 'tomorrow', 'ton', 'tone', 'tones', 'tongue', 'tonic', 'tonight', 'tonite', 'tonkatsu', 'tonnage', 'tons', 'took', 'tooo', 'toooo', 'toor', 'tooth', 'toothpicks', 'top', 'topic', 'topics', 'topnotch', 'topped', 'topping', 'toppingless', 'toppings', 'toppingsI', 'toppingsthere', 'tops', 'toquitos', 'torch', 'torches', 'torn', 'torta', 'tortas', 'tortilla', 'tortillas', 'torture', 'toss', 'tossed', 'tossup', 'tostada', 'tostadas', 'total', 'totaled', 'totally', 'tots', 'touch', 'touched', 'touches', 'touchinstead', 'touchless', 'touchy', 'tough', 'tour', 'tourist', 'tourists', 'touristy', 'tournament', 'tournaments', 'tours', 'tout', 'touted', 'tow', 'toward', 'towards', 'towel', 'towels', 'tower', 'towers', 'town', 'towner', 'towners', 'toy', 'toys', 'toystuffed', 'track', 'tracks', 'tractor', 'trade', 'tradeoff', 'trades', 'trading', 'tradition', 'traditional', 'traditionally', 'traffic', 'trail', 'trailer', 'trails', 'train', 'trained', 'training', 'trains', 'tramp', 'trample', 'trannies', 'tranny', 'tranquil', 'transaction', 'transactions', 'transfer', 'transformed', 'transients', 'transit', 'transitioning', 'transitiony', 'translates', 'translation', 'transplants', 'transportation', 'trap', 'trapezoidal', 'trapped', 'traps', 'trash', 'trauma', 'travel', 'traveled', 'traveler', 'travelers', 'traveling', 'travelled', 'travels', 'travesty', 'tray', 'treacherous', 'treadmill', 'treadmills', 'treat', 'treated', 'treating', 'treatment', 'treats', 'tree', 'trees', 'trek', 'tremendous', 'trend', 'trendier', 'trendiness', 'trendy', 'triangle', 'triangular', 'tribute', 'trick', 'trickled', 'tricks', 'tricky', 'tried', 'tries', 'trifolati', 'trinkets', 'trio', 'trip', 'tripe', 'triple', 'tripping', 'trips', 'trivia', 'trolley', 'trolling', 'tropical', 'trouble', 'troubled', 'troubles', 'troublesome', 'trout', 'truck', 'trucks', 'true', 'truely', 'truffle', 'trully', 'truly', 'trumpet', 'trussing', 'trust', 'trusted', 'truth', 'try', 'trying', 'tshirt', 'tshirts', 'tub', 'tube', 'tubs', 'tucked', 'tuesday', 'tugging', 'tukee', 'tulipsget', 'tumultuous', 'tuna', 'tunatexture', 'tundras', 'tuned', 'tunes', 'turkey', 'turkish', 'turks', 'turn', 'turnaround', 'turned', 'turning', 'turnoff', 'turnover', 'turns', 'turquoise', 'turtles', 'tv', 'tvs', 'tweak', 'tweakers', 'tweeking', 'twelve', 'twenty', 'twice', 'twiddling', 'twin', 'twins', 'twist', 'twists', 'two', 'twoday', 'twostep', 'twoto', 'type', 'typed', 'typeenter', 'types', 'typical', 'typically', 'typicallyTonight', 'typo', 'tzatzik', 'tzatziki', 'tzaziki', 'u', 'uber', 'ugh', 'ugly', 'uhhhhthat', 'ultimate', 'ultimately', 'ultra', 'um', 'umbrella', 'ummm', 'ummmto', 'ummother', 'ummyou', 'unabashedly', 'unacceptable', 'unadventuresome', 'unappetizing', 'unashamedly', 'unassuming', 'unattended', 'unattentive', 'unauthorized', 'unbearable', 'unbelievable', 'uncanny', 'uncle', 'uncomfortable', 'uncommon', 'uncool', 'uncovered', 'unctuous', 'undecided', 'undelivered', 'under21', 'underI', 'undercooked', 'undercover', 'underdeveloped', 'underground', 'underneath', 'underneith', 'underpaid', 'underseasoned', 'underserved', 'undershirts', 'understaffing', 'understand', 'understandable', 'understandably', 'understanding', 'understands', 'understood', 'undertones', 'underwhelemd', 'underwhelmed', 'underwhelmedcheated', 'underwhelming', 'undesirable', 'undisciplined', 'undoubtedly', 'unedible', 'uneven', 'unexpected', 'unexpectedly', 'unexpecting', 'unfair', 'unfairly', 'unfamiliar', 'unfiltered', 'unfinished', 'unflushed', 'unfortunate', 'unfortunately', 'unfresh', 'unfriend', 'unfriendly', 'unfun', 'ungodly', 'unhappy', 'unharmonious', 'unhealthy', 'uniforms', 'unimaginative', 'unimpressed', 'unimpressive', 'uninspired', 'uninspiring', 'uninterested', 'uninteresting', 'unique', 'uniqueness', 'unit', 'universe', 'university', 'unknowingly', 'unknown', 'unless', 'unlike', 'unlimited', 'unlocked', 'unloving', 'unlucky', 'unmanageable', 'unmarked', 'unmemorable', 'unmistakable', 'unnecessarily', 'unnecessary', 'unno', 'unnoticed', 'unofficial', 'unorganized', 'unpacked', 'unpackedAGH', 'unpaved', 'unplanned', 'unpleasant', 'unpretentious', 'unprofessional', 'unreasonable', 'unrelated', 'unreliable', 'unripe', 'unsanitary', 'unsatisfactory', 'unsettling', 'unsure', 'untouched', 'unused', 'unusual', 'unusually', 'unwind', 'unwrapping', 'upandcomer', 'upcoming', 'update', 'updated', 'updating', 'upgrade', 'uphill', 'upon', 'upper', 'upright', 'upscale', 'upscalechain', 'upscalekind', 'upselling', 'upset', 'upsetting', 'upside', 'upstairs', 'upstairsok', 'upthey', 'uptight', 'urban', 'urbane', 'urge', 'urgent', 'urinal', 'urinals', 'us', 'usable', 'use', 'used', 'useless', 'user', 'users', 'uses', 'ushers', 'using', 'usual', 'usually', 'utensils', 'utilization', 'utmost', 'utter', 'utterly', 'v', 'v2', 'vacant', 'vacation', 'vacuuming', 'vacuums', 'vaguely', 'valet', 'validation', 'valley', 'valuable', 'value', 'valued', 'values', 'valve', 'vampiro', 'van', 'vanilla', 'vanity', 'vapid', 'variant', 'variation', 'variations', 'varied', 'varies', 'varieties', 'variety', 'various', 'vary', 'vases', 'vast', 'vastly', 'vat', 'vault', 'veg', 'vegan', 'veganize', 'vegetable', 'vegetables', 'vegetarian', 'vegetarianvegan', 'veggie', 'veggies', 'vegies', 'vegs', 'vehicles', 'velour', 'velourtracksuited', 'velvet', 'vending', 'vendor', 'vendors', 'venezuelan', 'ventilate', 'ventilation', 'venture', 'ventured', 'venturing', 'venue', 'venues', 'verbal', 'verde', 'verdict', 'verge', 'vermicelli', 'versatility', 'versed', 'verses', 'version', 'versions', 'versus', 'veteran', 'vexation', 'via', 'viable', 'vibe', 'vibes', 'vibeyou', 'vibrant', 'vicinity', 'video', 'videos', 'vie', 'vietnamese', 'view', 'viewing', 'views', 'village', 'vinagrette', 'vinaigrette', 'vine', 'vineagrette', 'vinegar', 'vinegary', 'vintage', 'vinyl', 'virgin', 'virtually', 'visa', 'visibile', 'visible', 'visibly', 'visit', 'visitHad', 'visited', 'visitincluding', 'visiting', 'visitors', 'visits', 'vital', 'vocal', 'vocally', 'vodka', 'vodkas', 'voice', 'voicemail', 'void', 'volleyball', 'volume', 'volunteering', 'vomit', 'vote', 'voted', 'voting', 'votive', 'vouch', 'vow', 'vowed', 'voyage', 'vs', 'vultures', 'w', 'waaah', 'waaayyy', 'wad', 'waddya', 'waffers', 'waffle', 'waffles', 'wafting', 'wahts', 'wait', 'waite', 'waited', 'waiter', 'waiterS', 'waiters', 'waiterwaitresses', 'waiting', 'waitperson', 'waitress', 'waitresses', 'waitressingtaking', 'waits', 'waitstaff', 'wake', 'wal', 'wale', 'walk', 'walkand', 'walkbikebus', 'walked', 'walkers', 'walkin', 'walking', 'walks', 'walkway', 'walkways', 'wall', 'walled', 'wallet', 'wallets', 'walls', 'wally', 'walnut', 'walnuts', 'walnutty', 'waltzed', 'wan', 'wander', 'wandered', 'wandering', 'wanna', 'want', 'wantBEER', 'wanta', 'wantalso', 'wanted', 'wanting', 'wants', 'wardrobe', 'warehouses', 'wares', 'warfare', 'warm', 'warmed', 'warmer', 'warn', 'warned', 'warning', 'warp', 'warranted', 'warrants', 'wary', 'wasAOK', 'wasabi', 'wash', 'washahh', 'washed', 'washes', 'washing', 'wasi', 'waslike', 'wasmeh', 'wasnt', 'wasok', 'waste', 'wasted', 'wasting', 'waswell', 'watch', 'watched', 'watcher', 'watching', 'watcning', 'water', 'waterand', 'waterbased', 'watercress', 'watered', 'waterfall', 'watering', 'watermelon', 'waters', 'waterwise', 'waterwith', 'watery', 'wattage', 'wave', 'waver', 'waves', 'wax', 'way', 'wayand', 'ways', 'waysnot', 'wayyy', 'wayyyy', 'wblue', 'wc', 'weak', 'weaken', 'weakest', 'wealthy', 'wear', 'wearing', 'weather', 'weaved', 'web', 'website', 'websites', 'wed', 'wedding', 'wedge', 'wedged', 'wedges', 'wednesday', 'wee', 'weeds', 'week', 'weekday', 'weekdays', 'weekdaywe', 'weekend', 'weekends', 'weekly', 'weeknight', 'weeks', 'weenie', 'weigh', 'weighed', 'weight', 'weights', 'weiners', 'weird', 'weirdBeing', 'weirdbut', 'weirded', 'weirdo', 'welcome', 'welcomed', 'welcoming', 'well', 'wellMaybe', 'wellbuilt', 'welldoneing', 'wellearned', 'wellexecuted', 'wellmade', 'wellmaintained', 'wellmanicured', 'wellmisted', 'welloiled', 'wellprepared', 'wellpresented', 'wellpriced', 'wellreputed', 'wells', 'wellworn', 'wellyes', 'weloming', 'went', 'weremeh', 'werent', 'west', 'westbound', 'western', 'westsider', 'wet', 'weve', 'wflat', 'whaaa', 'whaaaat', 'whack', 'whacked', 'whateva', 'whatever', 'whatevernow', 'whatevershe', 'whateverthefuck', 'whats', 'whatsoever', 'wheat', 'wheel', 'wheelchair', 'wheeled', 'wheels', 'wheezing', 'whelmed', 'whenever', 'whereas', 'wheres', 'wherever', 'whether', 'whim', 'whiney', 'whinings', 'whip', 'whipped', 'whirl', 'whisked', 'whiskey', 'whispering', 'white', 'whitefish', 'whiteflesh', 'whitegrayblack', 'whitening', 'whites', 'whitewheat', 'whod', 'whoever', 'whole', 'wholesale', 'wholesome', 'whompin', 'whopping', 'whore', 'whos', 'whose', 'wide', 'widen', 'wider', 'wieners', 'wife', 'wifes', 'wifey', 'wifi', 'wiggly', 'wild', 'wildflower', 'willing', 'willingly', 'wilted', 'wimp', 'win', 'wind', 'window', 'windows', 'windowsills', 'windshield', 'windy', 'wine', 'wines', 'wing', 'wings', 'wink', 'winner', 'winners', 'winning', 'winnings', 'wins', 'winter', 'wintermelon', 'wiped', 'wiper', 'wired', 'wireless', 'wisdom', 'wise', 'wisegood', 'wisely', 'wiser', 'wish', 'wished', 'wishing', 'wit', 'witches', 'withI', 'within', 'withing', 'withoh', 'without', 'witnessed', 'witty', 'wizi', 'woe', 'woke', 'woman', 'womans', 'womb', 'women', 'womens', 'wonder', 'wondered', 'wonderful', 'wonderfully', 'wonderfulness', 'wondering', 'wont', 'wonton', 'wontons', 'woo', 'wood', 'woodburning', 'wooden', 'woohoo', 'wool', 'word', 'worded', 'words', 'work', 'worked', 'worker', 'workers', 'working', 'workingshopping', 'workout', 'works', 'workweek', 'world', 'worldPeoria', 'worn', 'worried', 'worry', 'worse', 'worsethe', 'worst', 'worth', 'worthwhile', 'worthy', 'would', 'woulda', 'wouldnt', 'wouldve', 'wound', 'wow', 'wowed', 'wrap', 'wrapped', 'wrapper', 'wrappers', 'wrapping', 'wraps', 'wretched', 'wrist', 'write', 'writing', 'written', 'wrong', 'wrongbut', 'wrongs', 'wrongyou', 'wrote', 'wrought', 'wtf', 'wwanting', 'wwwazscienceorg', 'wwwazscienceorgadultsnightoutphp', 'x', 'xray', 'xxx', 'ya', 'yada', 'yall', 'yams', 'yank', 'yards', 'yardstick', 'yay', 'yds', 'yea', 'yeah', 'yeahcheese', 'yeahh', 'year', 'yearlong', 'yearn', 'yearold', 'years', 'yearsso', 'yeast', 'yell', 'yelled', 'yelling', 'yellow', 'yellowish', 'yellowtail', 'yells', 'yelp', 'yelper', 'yelpers', 'yep3', 'yes', 'yesterday', 'yet', 'yetim', 'yikes', 'yo', 'yogurt', 'yogurtland', 'yolk', 'yonot', 'york', 'youd', 'youits', 'youll', 'young', 'younger', 'youngest', 'youngins', 'youngish', 'youngsters', 'youre', 'youve', 'youyou', 'yuck', 'yucky', 'yuk', 'yukon', 'yum', 'yumI', 'yumm', 'yummier', 'yummies', 'yummy', 'yuppie', 'yuppies', 'z', 'zapped', 'zero', 'zip', 'zone', 'zoo', 'zoos', 'zucca', 'zucchini', 'zuch', 'zumba']\n"
     ]
    }
   ],
   "source": [
    "print(vectorizer.get_feature_names())"
   ]
  },
  {
   "cell_type": "code",
   "execution_count": 195,
   "metadata": {},
   "outputs": [
    {
     "data": {
      "text/plain": [
       "array([[0, 0, 0, ..., 0, 0, 0],\n",
       "       [0, 0, 0, ..., 0, 0, 0],\n",
       "       [0, 0, 0, ..., 0, 0, 0],\n",
       "       ...,\n",
       "       [0, 0, 0, ..., 0, 0, 0],\n",
       "       [0, 0, 0, ..., 0, 0, 0],\n",
       "       [0, 0, 0, ..., 0, 0, 0]], dtype=int64)"
      ]
     },
     "execution_count": 195,
     "metadata": {},
     "output_type": "execute_result"
    }
   ],
   "source": [
    "yelp_vectorizer.toarray()"
   ]
  },
  {
   "cell_type": "code",
   "execution_count": 196,
   "metadata": {},
   "outputs": [
    {
     "data": {
      "text/plain": [
       "(1461, 14755)"
      ]
     },
     "execution_count": 196,
     "metadata": {},
     "output_type": "execute_result"
    }
   ],
   "source": [
    "yelp_vectorizer.toarray().shape"
   ]
  },
  {
   "cell_type": "code",
   "execution_count": null,
   "metadata": {},
   "outputs": [],
   "source": []
  }
 ],
 "metadata": {
  "kernelspec": {
   "display_name": "Python 3",
   "language": "python",
   "name": "python3"
  },
  "language_info": {
   "codemirror_mode": {
    "name": "ipython",
    "version": 3
   },
   "file_extension": ".py",
   "mimetype": "text/x-python",
   "name": "python",
   "nbconvert_exporter": "python",
   "pygments_lexer": "ipython3",
   "version": "3.7.4"
  }
 },
 "nbformat": 4,
 "nbformat_minor": 4
}
